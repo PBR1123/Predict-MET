{
 "cells": [
  {
   "cell_type": "markdown",
   "metadata": {},
   "source": [
    "## Data 구조 처리\n",
    "학습용으로 사용하기 위한 이미지 데이터와 좌푯값 전처리 코드.\n",
    "\n",
    "CSV 구성 형식\n",
    "- 이미지 경로 , 관절좌표1, 관절좌표2, ... , 관절좌표14, MET Score\n",
    "\n",
    "처리 형식\n",
    "- 전체 데이터세트 이미지 최대 크기와 평균 크기 측정 -> 이미지 크기 조정\n",
    "  크기 조정 비율에 따른 좌표값 재처리\n"
   ]
  },
  {
   "cell_type": "code",
   "execution_count": 1,
   "metadata": {},
   "outputs": [],
   "source": [
    "import numpy as np # Numpy 배열 사용용도\n",
    "import matplotlib.pyplot as plt # 이미지출력 용도\n",
    "import pandas as pd # csv 파일을 pandas 프레임으로 호출 용도\n",
    "import skimage\n",
    "from skimage import io, transform # 이미지 불러오기 및 저장용도\n",
    "\n",
    "# 주피터 노트북 상에 이미지를 출력하도록 설정\n",
    "%matplotlib inline"
   ]
  },
  {
   "cell_type": "code",
   "execution_count": 2,
   "metadata": {},
   "outputs": [
    {
     "data": {
      "text/plain": [
       "array([['/var/data/MET/images/walking/20.bmp', '[17, 146]', '[23, 115]',\n",
       "        ..., '[40, 39]', '[35, 17]', 0.7],\n",
       "       ['/var/data/MET/images/walking/19.bmp', '[22, 129]', '[12, 116]',\n",
       "        ..., '[21, 38]', '[14, 16]', 0.7],\n",
       "       ['/var/data/MET/images/walking/18.bmp', '[23, 153]', '[21, 129]',\n",
       "        ..., '[23, 41]', '[20, 21]', 0.7],\n",
       "       ..., \n",
       "       [ '/var/data/MET/images/miscellaneous occupational activity/machine work.sawing/18.jpg',\n",
       "        '[-1, -1]', '[-1, -1]', ..., '[175, 61]', '[192, 1]', 1.8],\n",
       "       [ '/var/data/MET/images/miscellaneous occupational activity/machine work.sawing/19.jpg',\n",
       "        '[-1, -1]', '[98, 170]', ..., '[172, 59]', '[201, 8]', 1.8],\n",
       "       [ '/var/data/MET/images/miscellaneous occupational activity/machine work.sawing/20.jpg',\n",
       "        '[-1, -1]', '[-1, -1]', ..., '[194, 55]', '[185, 8]', 1.8]], dtype=object)"
      ]
     },
     "execution_count": 2,
     "metadata": {},
     "output_type": "execute_result"
    }
   ],
   "source": [
    "# dataset CSV 파일을 불러와 pandas 프레임으로 저장한 뒤에 Numpy형식의 행렬로 변환하여 testset 변수에 저장\n",
    "testset=pd.read_csv(\"/var/data/MET/dataset.csv\",header=None).as_matrix()\n",
    "\n",
    "testset"
   ]
  },
  {
   "cell_type": "code",
   "execution_count": 3,
   "metadata": {},
   "outputs": [
    {
     "name": "stdout",
     "output_type": "stream",
     "text": [
      "221.51 243.43 769 834\n"
     ]
    }
   ],
   "source": [
    "# 변수 초기화.\n",
    "# 모든 x축 크기 총합, 모든 y축 크기 총합, 최대 x축 크기, 최대 y축 크기\n",
    "allsum_x=allsum_y=max_x=max_y=0\n",
    "\n",
    "for i in range(len(testset)): # testset 길이만큼 반복 // len(testset) = 100개 데이터\n",
    "    img=skimage.io.imread(testset[i][0]) # 이미지 불러오기 (이미지 저장위치 불러오기)\n",
    "    # img.shape의 구조는 \"행렬의 rows, columns, channels의 갯수\"\n",
    "    \n",
    "    if max_x<img.shape[0]: max_x=img.shape[0] # 최대 x축 길이값 저장\n",
    "    if max_y<img.shape[1]: max_y=img.shape[1] # 최대 y축 길이값 저장\n",
    "    allsum_x+=img.shape[0] # 모든 이미지의 x축 크기 총합\n",
    "    allsum_y+=img.shape[1] # 모든 이미지의 y축 크기 총합\n",
    "avg_x=allsum_x/len(testset) # 전체 이미지의 x축 크기 평균\n",
    "avg_y=allsum_y/len(testset) # 전체 이미지의 y축 크기 평균\n",
    "print (avg_x,avg_y,max_x,max_y) # x축 크기 평균, y축 크기 평균, 최대 x축 크기, 최대 y축 크기 출력\n"
   ]
  },
  {
   "cell_type": "markdown",
   "metadata": {},
   "source": [
    "평균 : (x,y) =(221.51, 243.43)\n",
    "\n",
    "이미지 크기를 256 x 256 으로 조정"
   ]
  },
  {
   "cell_type": "code",
   "execution_count": 4,
   "metadata": {},
   "outputs": [],
   "source": [
    "# 문자열의 좌표값을 정수형 좌표값으로 변환하는 함수\n",
    "def convert_str_to_int(coors):\n",
    "    coor=np.zeros([len(coors),14,2],dtype=int) # 변환한 좌표를 저장하기 위한 배열 초기화\n",
    "    for i in range(len(coors)): # 주어진 갯수 만큼 반복\n",
    "        for j in range(14): # 좌표 개수 만큼 반복\n",
    "            a=0 # 컴마 위치 확인용\n",
    "            # \",\" 위치 체크\n",
    "            while True: # 무한 반복문\n",
    "                if coors[i][j+1][a]==\",\" : break # 해당 문자가 컴마면 무한 반복문 탈출\n",
    "                else : a+=1 # 컴마가 아니면 다음 문자로 넘어감\n",
    "            # ,를 기준으로 각각의 좌표 x y를 나누어 int로 형변환 하여 저장\n",
    "            coor[i][j]=int(coors[i][j+1][1:a]),int(coors[i][j+1][a+1:-1])\n",
    "            \n",
    "    # 이렇게 반복하여 추출한 좌표값을 반환\n",
    "    return coor\n"
   ]
  },
  {
   "cell_type": "code",
   "execution_count": 186,
   "metadata": {
    "scrolled": true
   },
   "outputs": [
    {
     "name": "stdout",
     "output_type": "stream",
     "text": [
      "[[ 0.7]\n",
      " [ 0.7]\n",
      " [ 0.7]\n",
      " [ 0.7]\n",
      " [ 0.7]\n",
      " [ 0.7]\n",
      " [ 0.7]\n",
      " [ 0.7]\n",
      " [ 0.7]\n",
      " [ 0.7]\n",
      " [ 0.7]\n",
      " [ 0.7]\n",
      " [ 0.7]\n",
      " [ 0.7]\n",
      " [ 0.7]\n",
      " [ 0.7]\n",
      " [ 0.7]\n",
      " [ 0.7]\n",
      " [ 0.7]\n",
      " [ 0.7]\n",
      " [ 1. ]\n",
      " [ 1. ]\n",
      " [ 1. ]\n",
      " [ 1. ]\n",
      " [ 1. ]\n",
      " [ 1. ]\n",
      " [ 1. ]\n",
      " [ 1. ]\n",
      " [ 1. ]\n",
      " [ 1. ]\n",
      " [ 1. ]\n",
      " [ 1. ]\n",
      " [ 1. ]\n",
      " [ 1. ]\n",
      " [ 1. ]\n",
      " [ 1. ]\n",
      " [ 1. ]\n",
      " [ 1. ]\n",
      " [ 1. ]\n",
      " [ 1. ]\n",
      " [ 1.2]\n",
      " [ 1.2]\n",
      " [ 1.2]\n",
      " [ 1.2]\n",
      " [ 1.2]\n",
      " [ 1.2]\n",
      " [ 1.2]\n",
      " [ 1.2]\n",
      " [ 1.2]\n",
      " [ 1.2]\n",
      " [ 1.2]\n",
      " [ 1.2]\n",
      " [ 1.2]\n",
      " [ 1.2]\n",
      " [ 1.2]\n",
      " [ 1.2]\n",
      " [ 1.2]\n",
      " [ 1.2]\n",
      " [ 1.2]\n",
      " [ 1.2]\n",
      " [ 1.2]\n",
      " [ 1.2]\n",
      " [ 1.2]\n",
      " [ 1.2]\n",
      " [ 1.2]\n",
      " [ 1.2]\n",
      " [ 1.2]\n",
      " [ 1.2]\n",
      " [ 1.2]\n",
      " [ 1.2]\n",
      " [ 1.2]\n",
      " [ 1.2]\n",
      " [ 1.2]\n",
      " [ 1.2]\n",
      " [ 1.2]\n",
      " [ 1.2]\n",
      " [ 1.2]\n",
      " [ 1.2]\n",
      " [ 1.2]\n",
      " [ 1.2]\n",
      " [ 1.8]\n",
      " [ 1.8]\n",
      " [ 1.8]\n",
      " [ 1.8]\n",
      " [ 1.8]\n",
      " [ 1.8]\n",
      " [ 1.8]\n",
      " [ 1.8]\n",
      " [ 1.8]\n",
      " [ 1.8]\n",
      " [ 1.8]\n",
      " [ 1.8]\n",
      " [ 1.8]\n",
      " [ 1.8]\n",
      " [ 1.8]\n",
      " [ 1.8]\n",
      " [ 1.8]\n",
      " [ 1.8]\n",
      " [ 1.8]\n",
      " [ 1.8]]\n"
     ]
    }
   ],
   "source": [
    "def convert2_str_to_int(dataset):\n",
    "    MET=np.zeros([len(dataset),1],dtype=float) # 변환한 좌표를 저장하기 위한 배열 초기화\n",
    "    for i in range(len(dataset)): # 주어진 갯수 만큼 반복\n",
    "        a=0 # ']' 위치 확인용\n",
    "        # \"]\" 위치 체크\n",
    "        #while True: # 무한 반복문\n",
    "         #   j=15\n",
    "         #   if dataset[i][j][a]==\"]\" : break # 해당 문자가 ']'면 무한 반복문 탈출\n",
    "         #   else : a+=1 # ]가 아니면 다음 문자로 넘어감\n",
    "         #   # ]를 기준으로 MET값을 int로 형변환 하여 저장\n",
    "        MET[i]=float(dataset[i][15])\n",
    "       \n",
    "    # 이렇게 반복하여 추출한 좌표값을 반환\n",
    "    return MET\n",
    "\n",
    "MET = convert2_str_to_int(testset)\n",
    "print(MET)"
   ]
  },
  {
   "cell_type": "code",
   "execution_count": 7,
   "metadata": {},
   "outputs": [
    {
     "name": "stdout",
     "output_type": "stream",
     "text": [
      "(176, 79, 3)\n",
      "(100, 14, 2)\n",
      "[ 17 146]\n",
      "[ 23 115]\n",
      "17\n",
      "24.7272727273\n"
     ]
    }
   ],
   "source": [
    "img=skimage.io.imread(testset[0][0])\n",
    "print(img.shape)\n",
    "coor_set=convert_str_to_int(testset)\n",
    "print(coor_set.shape)\n",
    "print(coor_set[0][0])\n",
    "print(coor_set[0][1])\n",
    "print(coor_set[0][0][0])\n",
    "print(coor_set[0][0][0]*(256/img.shape[0]))"
   ]
  },
  {
   "cell_type": "code",
   "execution_count": 8,
   "metadata": {},
   "outputs": [],
   "source": [
    "def Preprocess(dataset):\n",
    "    img_set=np.zeros([len(dataset),256,256,3]) \n",
    "    # 이미지를 저장해두기 위한 텐서 배열 초기화 - 이미지 갯수 / x크기 / y크기 / RGB\n",
    "    \n",
    "    coor_set=convert_str_to_int(dataset) \n",
    "    # 문자열의 좌표값을 정수형 좌표값으로 변환하여 저장\n",
    "    \n",
    "    for i in range(len(dataset)): # 주어진 데이터 갯수만큼 반복\n",
    "        img=skimage.io.imread(dataset[i][0]) # 이미지 불러오기\n",
    "        \n",
    "        img_set[i]=skimage.transform.resize(img,(256,256)) \n",
    "        # 이미지 크기를 재조정 하여 저장\n",
    "        \n",
    "        #이미지 크기 변환을 하였으므로 그에 걸맞게 좌표 위치또한 재조정\n",
    "        for j in range(14): #주어진 좌표 개수 만큼 반복\n",
    "            if coor_set[i][j][0]==-1: coor_set[i][j][0]=-1 \n",
    "                # x 좌표 값이 -1 이면 조정을 해주지 않음\n",
    "            else: coor_set[i][j][0]=coor_set[i][j][0]*(256/img.shape[1]) \n",
    "                # x축 크기의 변환된 비율 만큼 곱해 Scaling \n",
    "            if coor_set[i][j][1]==-1: coor_set[i][j][1]=-1 # y 좌표 값이 -1 이면 조정을 해주지 않음\n",
    "            else: coor_set[i][j][1]=coor_set[i][j][1]*(256/img.shape[0]) # y축 크기의 변환된 비율 만큼 곱해 Scaling \n",
    "    \n",
    "    # 이렇게 변환한 이미지 세트와 좌표 세트를 반환\n",
    "    return img_set, coor_set"
   ]
  },
  {
   "cell_type": "code",
   "execution_count": 9,
   "metadata": {},
   "outputs": [
    {
     "name": "stderr",
     "output_type": "stream",
     "text": [
      "/home/ejjchl77/eunjivenv/lib/python3.5/site-packages/skimage/transform/_warps.py:84: UserWarning: The default mode, 'constant', will be changed to 'reflect' in skimage 0.15.\n",
      "  warn(\"The default mode, 'constant', will be changed to 'reflect' in \"\n"
     ]
    }
   ],
   "source": [
    "# 전처리 함수의 입력으로 불러온 CSV 파일을 저장한 testset 변수로 입력.\n",
    "# 변환된 이미지 세트와 좌표 세트를 각각 picpic과 coco에다 저장해줌.\n",
    "picpic,coco=Preprocess(testset)"
   ]
  },
  {
   "cell_type": "code",
   "execution_count": 10,
   "metadata": {},
   "outputs": [
    {
     "name": "stdout",
     "output_type": "stream",
     "text": [
      "(100, 256, 256, 3) (100, 14, 2)\n"
     ]
    }
   ],
   "source": [
    "# 각 세트의 크기 확인\n",
    "print (picpic.shape,coco.shape)"
   ]
  },
  {
   "cell_type": "code",
   "execution_count": 11,
   "metadata": {},
   "outputs": [],
   "source": [
    "# 이미지와 좌표를 받아와서 이미에 해당 좌표를 입력\n",
    "# 잘 변환이 되었는지 확인하는 용도\n",
    "\n",
    "import cv2 # 그림에 숫자 넣기\n",
    "from skimage import draw # 그림에 원 그리기\n",
    "\n",
    "def markJoints(img, joints):  \n",
    "    circSize=5 # 그려질 원의 크기\n",
    "    font = cv2.FONT_HERSHEY_SIMPLEX # 글씨체 설정\n",
    "    for i in range(14):\n",
    "        x = int(joints[i,0]) # X 좌표\n",
    "        y = int(joints[i,1]) # Y 좌표\n",
    "        if x!=-1: # 그림에서 보이지 않는 좌표는 찍지 않도록\n",
    "            rr, cc = skimage.draw.circle(y, x, circSize) # 원 그리기  `skimage.draw.circle(r, c, 반지름[shape])`\n",
    "            skimage.draw.set_color(img, (rr, cc), (1,0,0)) # 색 설정 `set_color(image, coords, color)`\n",
    "            cv2.putText(img, str(i+1), (x,y), font, 0.5, (0.5,0.5,0.5), 2, cv2.LINE_AA) # 그림 ㄱ\n",
    "    return img\n"
   ]
  },
  {
   "cell_type": "code",
   "execution_count": 12,
   "metadata": {},
   "outputs": [],
   "source": [
    "#imge = np.zeros((10,10), dtype=np.uint8)\n",
    "#rr, cc = circle(4,4,5)\n",
    "#imge[rr, cc]=1"
   ]
  },
  {
   "cell_type": "code",
   "execution_count": 13,
   "metadata": {},
   "outputs": [
    {
     "name": "stdout",
     "output_type": "stream",
     "text": [
      "mkdir: cannot create directory ‘p_img’: File exists\r\n",
      "mkdir: cannot create directory ‘p_with_coors_img’: File exists\r\n"
     ]
    },
    {
     "name": "stderr",
     "output_type": "stream",
     "text": [
      "/home/ejjchl77/eunjivenv/lib/python3.5/site-packages/skimage/util/dtype.py:122: UserWarning: Possible precision loss when converting from float64 to uint8\n",
      "  .format(dtypeobj_in, dtypeobj_out))\n"
     ]
    }
   ],
   "source": [
    "# 전처리된 이미지 저장\n",
    "%mkdir p_img p_with_coors_img # 현재 디렉토리에 처리된 이미지와 좌표를 찍은 이미지들을 저장할 디렉토리 생성\n",
    "for i in range(len(picpic)):\n",
    "    skimage.io.imsave(\"./p_img/p-img_\"+str(i)+\".jpg\",picpic[i]) # 처리된 이미지 저장\n",
    "    skimage.io.imsave(\"./p_with_coors_img/p-img_\"+str(i)+\".jpg\",markJoints(picpic[i],coco[i])) # 좌표 입력 이미지 저장"
   ]
  },
  {
   "cell_type": "code",
   "execution_count": 14,
   "metadata": {},
   "outputs": [],
   "source": [
    "# To support both python 2 and python 3\n",
    "from __future__ import division, print_function, unicode_literals\n",
    "\n",
    "# Common imports\n",
    "import numpy as np\n",
    "import os\n",
    "\n",
    "# to make this notebook's output stable across runs\n",
    "np.random.seed(42)\n",
    "\n",
    "# To plot pretty figures\n",
    "%matplotlib inline\n",
    "import matplotlib\n",
    "import matplotlib.pyplot as plt\n",
    "plt.rcParams['axes.labelsize'] = 14\n",
    "plt.rcParams['xtick.labelsize'] = 12\n",
    "plt.rcParams['ytick.labelsize'] = 12\n",
    "\n",
    "# Where to save the figures\n",
    "PROJECT_ROOT_DIR = \".\"\n",
    "CHAPTER_ID = \"training_linear_models\"\n",
    "\n",
    "def save_fig(fig_id, tight_layout=True):\n",
    "    path = os.path.join(PROJECT_ROOT_DIR, \"images\", CHAPTER_ID, fig_id + \".png\")\n",
    "    print(\"Saving figure\", fig_id)\n",
    "    if tight_layout:\n",
    "        plt.tight_layout()\n",
    "    plt.savefig(path, format='png', dpi=300)\n"
   ]
  },
  {
   "cell_type": "markdown",
   "metadata": {},
   "source": [
    "## Linear Regression"
   ]
  },
  {
   "cell_type": "markdown",
   "metadata": {},
   "source": [
    "좌표 데이터 구조 변환 (100,14,2) -> (100,28)\n",
    "\n",
    "[x1,y1,x2,y2 ..., x14,y14]의 구조형태"
   ]
  },
  {
   "cell_type": "code",
   "execution_count": 66,
   "metadata": {},
   "outputs": [
    {
     "data": {
      "text/plain": [
       "array([[ 55, 212,  74, ...,  56, 113,  24],\n",
       "       [ 93, 190,  51, ...,  56,  59,  23],\n",
       "       [101, 217,  92, ...,  58,  88,  29],\n",
       "       ..., \n",
       "       [ -1,  -1,  -1, ...,  57, 164,   0],\n",
       "       [ -1,  -1,  63, ...,  62, 130,   8],\n",
       "       [ -1,  -1,  -1, ...,  42, 152,   6]])"
      ]
     },
     "execution_count": 66,
     "metadata": {},
     "output_type": "execute_result"
    }
   ],
   "source": [
    "coco=np.reshape(coco,(100,28))\n",
    "coco"
   ]
  },
  {
   "cell_type": "code",
   "execution_count": 117,
   "metadata": {
    "scrolled": false
   },
   "outputs": [
    {
     "data": {
      "text/plain": [
       "array([[ 1.8],\n",
       "       [ 1.8],\n",
       "       [ 0.7],\n",
       "       [ 0.7],\n",
       "       [ 0.7],\n",
       "       [ 0.7],\n",
       "       [ 0.7],\n",
       "       [ 0.7],\n",
       "       [ 0.7],\n",
       "       [ 0.7],\n",
       "       [ 0.7],\n",
       "       [ 0.7],\n",
       "       [ 0.7],\n",
       "       [ 0.7],\n",
       "       [ 0.7],\n",
       "       [ 0.7],\n",
       "       [ 0.7],\n",
       "       [ 0.7],\n",
       "       [ 0.7],\n",
       "       [ 0.7],\n",
       "       [ 1. ],\n",
       "       [ 1. ],\n",
       "       [ 1. ],\n",
       "       [ 1. ],\n",
       "       [ 1. ],\n",
       "       [ 1. ],\n",
       "       [ 1. ],\n",
       "       [ 1. ],\n",
       "       [ 1. ],\n",
       "       [ 1. ],\n",
       "       [ 1. ],\n",
       "       [ 1. ],\n",
       "       [ 1. ],\n",
       "       [ 1. ],\n",
       "       [ 1. ],\n",
       "       [ 1. ],\n",
       "       [ 1. ],\n",
       "       [ 1. ],\n",
       "       [ 1. ],\n",
       "       [ 1. ],\n",
       "       [ 1.2],\n",
       "       [ 1.2],\n",
       "       [ 1.2],\n",
       "       [ 1.2],\n",
       "       [ 1.2],\n",
       "       [ 1.2],\n",
       "       [ 1.2],\n",
       "       [ 1.2],\n",
       "       [ 1.2],\n",
       "       [ 1.2],\n",
       "       [ 1.2],\n",
       "       [ 1.2],\n",
       "       [ 1.2],\n",
       "       [ 1.2],\n",
       "       [ 1.2],\n",
       "       [ 1.2],\n",
       "       [ 1.2],\n",
       "       [ 1.2],\n",
       "       [ 1.2],\n",
       "       [ 1.2],\n",
       "       [ 1.2],\n",
       "       [ 1.2],\n",
       "       [ 1.2],\n",
       "       [ 1.2],\n",
       "       [ 1.2],\n",
       "       [ 1.2],\n",
       "       [ 1.2],\n",
       "       [ 1.2],\n",
       "       [ 1.2],\n",
       "       [ 1.2],\n",
       "       [ 1.2],\n",
       "       [ 1.2],\n",
       "       [ 1.2],\n",
       "       [ 1.2],\n",
       "       [ 1.2],\n",
       "       [ 1.2],\n",
       "       [ 1.2],\n",
       "       [ 1.2],\n",
       "       [ 1.2],\n",
       "       [ 1.2],\n",
       "       [ 1.8],\n",
       "       [ 1.8],\n",
       "       [ 1.8],\n",
       "       [ 1.8],\n",
       "       [ 1.8],\n",
       "       [ 1.8],\n",
       "       [ 1.8],\n",
       "       [ 1.8],\n",
       "       [ 1.8],\n",
       "       [ 1.8],\n",
       "       [ 1.8],\n",
       "       [ 1.8],\n",
       "       [ 1.8],\n",
       "       [ 1.8],\n",
       "       [ 1.8],\n",
       "       [ 1.8],\n",
       "       [ 1.8],\n",
       "       [ 1.8],\n",
       "       [ 1.8],\n",
       "       [ 1.8]])"
      ]
     },
     "execution_count": 117,
     "metadata": {},
     "output_type": "execute_result"
    }
   ],
   "source": [
    "MET"
   ]
  },
  {
   "cell_type": "markdown",
   "metadata": {},
   "source": [
    "100개의 좌표와 MET데이터 중 10개를 test데이터로 사용"
   ]
  },
  {
   "cell_type": "code",
   "execution_count": 242,
   "metadata": {},
   "outputs": [],
   "source": [
    "a=0;b=0\n",
    "coco_train=np.zeros([90,28])\n",
    "MET_train=np.zeros([90,1])\n",
    "coco_test=np.zeros([10,28])\n",
    "MET_test=np.zeros([10,1])\n",
    "\n",
    "for i in range (100):\n",
    "    if i % 10 == 0:\n",
    "        coco_test[a]=coco[i]\n",
    "        MET_test[a]=MET[i]\n",
    "        a+=1\n",
    "    else :\n",
    "        coco_train[b]=coco[i]\n",
    "        MET_train[b]=MET[i]\n",
    "        b+=1"
   ]
  },
  {
   "cell_type": "code",
   "execution_count": 420,
   "metadata": {},
   "outputs": [
    {
     "data": {
      "text/plain": [
       "array([[ 0.7],\n",
       "       [ 0.7],\n",
       "       [ 1. ],\n",
       "       [ 1. ],\n",
       "       [ 1.2],\n",
       "       [ 1.2],\n",
       "       [ 1.2],\n",
       "       [ 1.2],\n",
       "       [ 1.8],\n",
       "       [ 1.8]])"
      ]
     },
     "execution_count": 420,
     "metadata": {},
     "output_type": "execute_result"
    }
   ],
   "source": [
    "MET_test"
   ]
  },
  {
   "cell_type": "markdown",
   "metadata": {},
   "source": [
    "# Normal Equation"
   ]
  },
  {
   "cell_type": "code",
   "execution_count": 243,
   "metadata": {},
   "outputs": [],
   "source": [
    "X_b = np.c_[np.ones((100, 1)), coco]  # add x0 = 1 to each instance\n",
    "theta_best = np.linalg.inv(X_b.T.dot(X_b)).dot(X_b.T).dot(MET)"
   ]
  },
  {
   "cell_type": "code",
   "execution_count": 244,
   "metadata": {},
   "outputs": [
    {
     "data": {
      "text/plain": [
       "(array([ 1.34233428]),\n",
       " array([[  7.73637896e-04,  -1.42850226e-03,  -2.49566863e-03,\n",
       "           1.11523417e-03,   4.87206343e-04,  -7.25978573e-04,\n",
       "          -3.94651425e-05,   1.37655299e-03,   1.76884740e-03,\n",
       "          -1.90003530e-03,  -4.94357481e-04,   1.84004983e-04,\n",
       "           7.21798714e-04,  -2.41685810e-04,   2.20163579e-03,\n",
       "          -4.62483315e-04,  -1.02653960e-03,   3.86028080e-04,\n",
       "          -2.91114312e-04,  -4.09832508e-03,   2.71276402e-04,\n",
       "           7.26254711e-05,  -1.24677222e-04,   1.15640578e-03,\n",
       "          -6.70050881e-04,  -3.01324297e-05,   2.45874033e-04,\n",
       "           3.41700822e-03]]))"
      ]
     },
     "execution_count": 244,
     "metadata": {},
     "output_type": "execute_result"
    }
   ],
   "source": [
    "from sklearn.linear_model import LinearRegression\n",
    "lin_reg = LinearRegression()\n",
    "lin_reg.fit(coco_train, MET_train)\n",
    "lin_reg.intercept_, lin_reg.coef_"
   ]
  },
  {
   "cell_type": "code",
   "execution_count": 245,
   "metadata": {},
   "outputs": [
    {
     "data": {
      "text/plain": [
       "0.35585022613710404"
      ]
     },
     "execution_count": 245,
     "metadata": {},
     "output_type": "execute_result"
    }
   ],
   "source": [
    "lin_reg.score(coco_train,MET_train)"
   ]
  },
  {
   "cell_type": "code",
   "execution_count": 246,
   "metadata": {},
   "outputs": [
    {
     "data": {
      "text/plain": [
       "-0.16036131087619077"
      ]
     },
     "execution_count": 246,
     "metadata": {},
     "output_type": "execute_result"
    }
   ],
   "source": [
    "lin_reg.score(coco_test,MET_test)"
   ]
  },
  {
   "cell_type": "code",
   "execution_count": 247,
   "metadata": {},
   "outputs": [
    {
     "data": {
      "text/plain": [
       "array([[ 1.33747336],\n",
       "       [ 1.07030851],\n",
       "       [ 0.924024  ],\n",
       "       [ 0.74068148],\n",
       "       [ 0.94442546],\n",
       "       [ 1.62264384],\n",
       "       [ 0.87945228],\n",
       "       [ 1.0211907 ],\n",
       "       [ 1.33747336],\n",
       "       [ 1.25712942]])"
      ]
     },
     "execution_count": 247,
     "metadata": {},
     "output_type": "execute_result"
    }
   ],
   "source": [
    "lin_reg.predict(coco_test)"
   ]
  },
  {
   "cell_type": "markdown",
   "metadata": {},
   "source": [
    "# SDG regression"
   ]
  },
  {
   "cell_type": "code",
   "execution_count": 251,
   "metadata": {},
   "outputs": [],
   "source": [
    "theta_path_sgd = []\n",
    "m = len(X_b)\n",
    "np.random.seed(42)"
   ]
  },
  {
   "cell_type": "code",
   "execution_count": 252,
   "metadata": {},
   "outputs": [
    {
     "data": {
      "text/plain": [
       "SGDRegressor(alpha=0.0001, average=False, epsilon=0.1, eta0=0.1,\n",
       "       fit_intercept=True, l1_ratio=0.15, learning_rate='invscaling',\n",
       "       loss='squared_loss', max_iter=50, n_iter=None, penalty=None,\n",
       "       power_t=0.25, random_state=42, shuffle=True, tol=None, verbose=0,\n",
       "       warm_start=False)"
      ]
     },
     "execution_count": 252,
     "metadata": {},
     "output_type": "execute_result"
    }
   ],
   "source": [
    "from sklearn.linear_model import SGDRegressor\n",
    "sgd_reg = SGDRegressor(max_iter=50, penalty=None, eta0=0.1, random_state=42)\n",
    "#sgd_reg.fit(X, y.ravel())\n",
    "sgd_reg.fit(coco_train, MET_train.ravel())"
   ]
  },
  {
   "cell_type": "code",
   "execution_count": 253,
   "metadata": {},
   "outputs": [
    {
     "data": {
      "text/plain": [
       "(array([  2.11858469e+10]),\n",
       " array([ -1.35354973e+13,  -5.17919313e+12,  -2.61854980e+12,\n",
       "          4.24879976e+12,   7.46584505e+12,   9.23962073e+12,\n",
       "          9.20998381e+11,   5.30520970e+12,   8.07386244e+12,\n",
       "          8.48770889e+12,   5.76213026e+12,  -5.11262464e+12,\n",
       "         -2.58432254e+12,   7.78011305e+12,   3.09608259e+12,\n",
       "          6.96455652e+12,  -6.61552546e+12,   5.66928264e+12,\n",
       "         -4.16446363e+12,  -2.90528100e+12,  -2.11760138e+12,\n",
       "         -4.51745824e+12,   6.55242170e+12,   4.59499495e+12,\n",
       "          1.64130590e+13,   5.67738562e+11,   1.52841242e+12,\n",
       "         -1.60596133e+13]))"
      ]
     },
     "execution_count": 253,
     "metadata": {},
     "output_type": "execute_result"
    }
   ],
   "source": [
    "sgd_reg.intercept_, sgd_reg.coef_"
   ]
  },
  {
   "cell_type": "code",
   "execution_count": 254,
   "metadata": {},
   "outputs": [
    {
     "data": {
      "text/plain": [
       "array([  5.94714895e+15,   5.98786813e+15,   3.60535831e+15,\n",
       "         1.44112664e+15,   3.85080300e+15,   8.48004671e+14,\n",
       "         6.89914178e+15,   5.68251769e+15,   5.94714895e+15,\n",
       "         4.91387148e+15])"
      ]
     },
     "execution_count": 254,
     "metadata": {},
     "output_type": "execute_result"
    }
   ],
   "source": [
    "sgd_reg.predict(coco_test)"
   ]
  },
  {
   "cell_type": "markdown",
   "metadata": {},
   "source": [
    "# Polynomial Regression"
   ]
  },
  {
   "cell_type": "code",
   "execution_count": 155,
   "metadata": {},
   "outputs": [],
   "source": [
    "\n",
    "from sklearn.preprocessing import PolynomialFeatures\n",
    "poly_features = PolynomialFeatures(degree=2, include_bias=False)\n",
    "X_poly = poly_features.fit_transform(coco_train)"
   ]
  },
  {
   "cell_type": "code",
   "execution_count": 156,
   "metadata": {},
   "outputs": [
    {
     "data": {
      "text/plain": [
       "array([ -1.00000000e+00,  -1.00000000e+00,  -1.00000000e+00,\n",
       "        -1.00000000e+00,   1.44000000e+02,   1.18000000e+02,\n",
       "        -1.00000000e+00,  -1.00000000e+00,  -1.00000000e+00,\n",
       "        -1.00000000e+00,   2.03000000e+02,   1.20000000e+02,\n",
       "         1.21000000e+02,   9.00000000e+01,   1.27000000e+02,\n",
       "         6.30000000e+01,   1.39000000e+02,   2.60000000e+01,\n",
       "         2.01000000e+02,   4.70000000e+01,   1.99000000e+02,\n",
       "         1.06000000e+02,   1.84000000e+02,   1.45000000e+02,\n",
       "         1.60000000e+02,   4.20000000e+01,   1.52000000e+02,\n",
       "         6.00000000e+00,   1.00000000e+00,   1.00000000e+00,\n",
       "         1.00000000e+00,   1.00000000e+00,  -1.44000000e+02,\n",
       "        -1.18000000e+02,   1.00000000e+00,   1.00000000e+00,\n",
       "         1.00000000e+00,   1.00000000e+00,  -2.03000000e+02,\n",
       "        -1.20000000e+02,  -1.21000000e+02,  -9.00000000e+01,\n",
       "        -1.27000000e+02,  -6.30000000e+01,  -1.39000000e+02,\n",
       "        -2.60000000e+01,  -2.01000000e+02,  -4.70000000e+01,\n",
       "        -1.99000000e+02,  -1.06000000e+02,  -1.84000000e+02,\n",
       "        -1.45000000e+02,  -1.60000000e+02,  -4.20000000e+01,\n",
       "        -1.52000000e+02,  -6.00000000e+00,   1.00000000e+00,\n",
       "         1.00000000e+00,   1.00000000e+00,  -1.44000000e+02,\n",
       "        -1.18000000e+02,   1.00000000e+00,   1.00000000e+00,\n",
       "         1.00000000e+00,   1.00000000e+00,  -2.03000000e+02,\n",
       "        -1.20000000e+02,  -1.21000000e+02,  -9.00000000e+01,\n",
       "        -1.27000000e+02,  -6.30000000e+01,  -1.39000000e+02,\n",
       "        -2.60000000e+01,  -2.01000000e+02,  -4.70000000e+01,\n",
       "        -1.99000000e+02,  -1.06000000e+02,  -1.84000000e+02,\n",
       "        -1.45000000e+02,  -1.60000000e+02,  -4.20000000e+01,\n",
       "        -1.52000000e+02,  -6.00000000e+00,   1.00000000e+00,\n",
       "         1.00000000e+00,  -1.44000000e+02,  -1.18000000e+02,\n",
       "         1.00000000e+00,   1.00000000e+00,   1.00000000e+00,\n",
       "         1.00000000e+00,  -2.03000000e+02,  -1.20000000e+02,\n",
       "        -1.21000000e+02,  -9.00000000e+01,  -1.27000000e+02,\n",
       "        -6.30000000e+01,  -1.39000000e+02,  -2.60000000e+01,\n",
       "        -2.01000000e+02,  -4.70000000e+01,  -1.99000000e+02,\n",
       "        -1.06000000e+02,  -1.84000000e+02,  -1.45000000e+02,\n",
       "        -1.60000000e+02,  -4.20000000e+01,  -1.52000000e+02,\n",
       "        -6.00000000e+00,   1.00000000e+00,  -1.44000000e+02,\n",
       "        -1.18000000e+02,   1.00000000e+00,   1.00000000e+00,\n",
       "         1.00000000e+00,   1.00000000e+00,  -2.03000000e+02,\n",
       "        -1.20000000e+02,  -1.21000000e+02,  -9.00000000e+01,\n",
       "        -1.27000000e+02,  -6.30000000e+01,  -1.39000000e+02,\n",
       "        -2.60000000e+01,  -2.01000000e+02,  -4.70000000e+01,\n",
       "        -1.99000000e+02,  -1.06000000e+02,  -1.84000000e+02,\n",
       "        -1.45000000e+02,  -1.60000000e+02,  -4.20000000e+01,\n",
       "        -1.52000000e+02,  -6.00000000e+00,   2.07360000e+04,\n",
       "         1.69920000e+04,  -1.44000000e+02,  -1.44000000e+02,\n",
       "        -1.44000000e+02,  -1.44000000e+02,   2.92320000e+04,\n",
       "         1.72800000e+04,   1.74240000e+04,   1.29600000e+04,\n",
       "         1.82880000e+04,   9.07200000e+03,   2.00160000e+04,\n",
       "         3.74400000e+03,   2.89440000e+04,   6.76800000e+03,\n",
       "         2.86560000e+04,   1.52640000e+04,   2.64960000e+04,\n",
       "         2.08800000e+04,   2.30400000e+04,   6.04800000e+03,\n",
       "         2.18880000e+04,   8.64000000e+02,   1.39240000e+04,\n",
       "        -1.18000000e+02,  -1.18000000e+02,  -1.18000000e+02,\n",
       "        -1.18000000e+02,   2.39540000e+04,   1.41600000e+04,\n",
       "         1.42780000e+04,   1.06200000e+04,   1.49860000e+04,\n",
       "         7.43400000e+03,   1.64020000e+04,   3.06800000e+03,\n",
       "         2.37180000e+04,   5.54600000e+03,   2.34820000e+04,\n",
       "         1.25080000e+04,   2.17120000e+04,   1.71100000e+04,\n",
       "         1.88800000e+04,   4.95600000e+03,   1.79360000e+04,\n",
       "         7.08000000e+02,   1.00000000e+00,   1.00000000e+00,\n",
       "         1.00000000e+00,   1.00000000e+00,  -2.03000000e+02,\n",
       "        -1.20000000e+02,  -1.21000000e+02,  -9.00000000e+01,\n",
       "        -1.27000000e+02,  -6.30000000e+01,  -1.39000000e+02,\n",
       "        -2.60000000e+01,  -2.01000000e+02,  -4.70000000e+01,\n",
       "        -1.99000000e+02,  -1.06000000e+02,  -1.84000000e+02,\n",
       "        -1.45000000e+02,  -1.60000000e+02,  -4.20000000e+01,\n",
       "        -1.52000000e+02,  -6.00000000e+00,   1.00000000e+00,\n",
       "         1.00000000e+00,   1.00000000e+00,  -2.03000000e+02,\n",
       "        -1.20000000e+02,  -1.21000000e+02,  -9.00000000e+01,\n",
       "        -1.27000000e+02,  -6.30000000e+01,  -1.39000000e+02,\n",
       "        -2.60000000e+01,  -2.01000000e+02,  -4.70000000e+01,\n",
       "        -1.99000000e+02,  -1.06000000e+02,  -1.84000000e+02,\n",
       "        -1.45000000e+02,  -1.60000000e+02,  -4.20000000e+01,\n",
       "        -1.52000000e+02,  -6.00000000e+00,   1.00000000e+00,\n",
       "         1.00000000e+00,  -2.03000000e+02,  -1.20000000e+02,\n",
       "        -1.21000000e+02,  -9.00000000e+01,  -1.27000000e+02,\n",
       "        -6.30000000e+01,  -1.39000000e+02,  -2.60000000e+01,\n",
       "        -2.01000000e+02,  -4.70000000e+01,  -1.99000000e+02,\n",
       "        -1.06000000e+02,  -1.84000000e+02,  -1.45000000e+02,\n",
       "        -1.60000000e+02,  -4.20000000e+01,  -1.52000000e+02,\n",
       "        -6.00000000e+00,   1.00000000e+00,  -2.03000000e+02,\n",
       "        -1.20000000e+02,  -1.21000000e+02,  -9.00000000e+01,\n",
       "        -1.27000000e+02,  -6.30000000e+01,  -1.39000000e+02,\n",
       "        -2.60000000e+01,  -2.01000000e+02,  -4.70000000e+01,\n",
       "        -1.99000000e+02,  -1.06000000e+02,  -1.84000000e+02,\n",
       "        -1.45000000e+02,  -1.60000000e+02,  -4.20000000e+01,\n",
       "        -1.52000000e+02,  -6.00000000e+00,   4.12090000e+04,\n",
       "         2.43600000e+04,   2.45630000e+04,   1.82700000e+04,\n",
       "         2.57810000e+04,   1.27890000e+04,   2.82170000e+04,\n",
       "         5.27800000e+03,   4.08030000e+04,   9.54100000e+03,\n",
       "         4.03970000e+04,   2.15180000e+04,   3.73520000e+04,\n",
       "         2.94350000e+04,   3.24800000e+04,   8.52600000e+03,\n",
       "         3.08560000e+04,   1.21800000e+03,   1.44000000e+04,\n",
       "         1.45200000e+04,   1.08000000e+04,   1.52400000e+04,\n",
       "         7.56000000e+03,   1.66800000e+04,   3.12000000e+03,\n",
       "         2.41200000e+04,   5.64000000e+03,   2.38800000e+04,\n",
       "         1.27200000e+04,   2.20800000e+04,   1.74000000e+04,\n",
       "         1.92000000e+04,   5.04000000e+03,   1.82400000e+04,\n",
       "         7.20000000e+02,   1.46410000e+04,   1.08900000e+04,\n",
       "         1.53670000e+04,   7.62300000e+03,   1.68190000e+04,\n",
       "         3.14600000e+03,   2.43210000e+04,   5.68700000e+03,\n",
       "         2.40790000e+04,   1.28260000e+04,   2.22640000e+04,\n",
       "         1.75450000e+04,   1.93600000e+04,   5.08200000e+03,\n",
       "         1.83920000e+04,   7.26000000e+02,   8.10000000e+03,\n",
       "         1.14300000e+04,   5.67000000e+03,   1.25100000e+04,\n",
       "         2.34000000e+03,   1.80900000e+04,   4.23000000e+03,\n",
       "         1.79100000e+04,   9.54000000e+03,   1.65600000e+04,\n",
       "         1.30500000e+04,   1.44000000e+04,   3.78000000e+03,\n",
       "         1.36800000e+04,   5.40000000e+02,   1.61290000e+04,\n",
       "         8.00100000e+03,   1.76530000e+04,   3.30200000e+03,\n",
       "         2.55270000e+04,   5.96900000e+03,   2.52730000e+04,\n",
       "         1.34620000e+04,   2.33680000e+04,   1.84150000e+04,\n",
       "         2.03200000e+04,   5.33400000e+03,   1.93040000e+04,\n",
       "         7.62000000e+02,   3.96900000e+03,   8.75700000e+03,\n",
       "         1.63800000e+03,   1.26630000e+04,   2.96100000e+03,\n",
       "         1.25370000e+04,   6.67800000e+03,   1.15920000e+04,\n",
       "         9.13500000e+03,   1.00800000e+04,   2.64600000e+03,\n",
       "         9.57600000e+03,   3.78000000e+02,   1.93210000e+04,\n",
       "         3.61400000e+03,   2.79390000e+04,   6.53300000e+03,\n",
       "         2.76610000e+04,   1.47340000e+04,   2.55760000e+04,\n",
       "         2.01550000e+04,   2.22400000e+04,   5.83800000e+03,\n",
       "         2.11280000e+04,   8.34000000e+02,   6.76000000e+02,\n",
       "         5.22600000e+03,   1.22200000e+03,   5.17400000e+03,\n",
       "         2.75600000e+03,   4.78400000e+03,   3.77000000e+03,\n",
       "         4.16000000e+03,   1.09200000e+03,   3.95200000e+03,\n",
       "         1.56000000e+02,   4.04010000e+04,   9.44700000e+03,\n",
       "         3.99990000e+04,   2.13060000e+04,   3.69840000e+04,\n",
       "         2.91450000e+04,   3.21600000e+04,   8.44200000e+03,\n",
       "         3.05520000e+04,   1.20600000e+03,   2.20900000e+03,\n",
       "         9.35300000e+03,   4.98200000e+03,   8.64800000e+03,\n",
       "         6.81500000e+03,   7.52000000e+03,   1.97400000e+03,\n",
       "         7.14400000e+03,   2.82000000e+02,   3.96010000e+04,\n",
       "         2.10940000e+04,   3.66160000e+04,   2.88550000e+04,\n",
       "         3.18400000e+04,   8.35800000e+03,   3.02480000e+04,\n",
       "         1.19400000e+03,   1.12360000e+04,   1.95040000e+04,\n",
       "         1.53700000e+04,   1.69600000e+04,   4.45200000e+03,\n",
       "         1.61120000e+04,   6.36000000e+02,   3.38560000e+04,\n",
       "         2.66800000e+04,   2.94400000e+04,   7.72800000e+03,\n",
       "         2.79680000e+04,   1.10400000e+03,   2.10250000e+04,\n",
       "         2.32000000e+04,   6.09000000e+03,   2.20400000e+04,\n",
       "         8.70000000e+02,   2.56000000e+04,   6.72000000e+03,\n",
       "         2.43200000e+04,   9.60000000e+02,   1.76400000e+03,\n",
       "         6.38400000e+03,   2.52000000e+02,   2.31040000e+04,\n",
       "         9.12000000e+02,   3.60000000e+01])"
      ]
     },
     "execution_count": 156,
     "metadata": {},
     "output_type": "execute_result"
    }
   ],
   "source": [
    "X_poly[0]"
   ]
  },
  {
   "cell_type": "code",
   "execution_count": 158,
   "metadata": {},
   "outputs": [
    {
     "data": {
      "text/plain": [
       "(array([ 1.97887375]),\n",
       " array([[ -1.57470937e-07,  -1.68002684e-07,  -1.81452358e-07,\n",
       "          -1.52731274e-07,  -9.03247355e-08,  -2.83350242e-08,\n",
       "          -1.04258555e-07,  -2.90847503e-08,  -2.23510694e-07,\n",
       "          -2.11549485e-07,  -2.11876345e-07,  -1.94924908e-07,\n",
       "          -3.73381714e-08,  -1.47080508e-08,  -1.99722882e-08,\n",
       "           8.58041924e-09,  -2.58589647e-08,  -3.29159350e-09,\n",
       "          -5.73211660e-08,  -1.12389932e-08,  -5.50732992e-08,\n",
       "          -6.52865873e-08,  -3.31502318e-08,  -8.45064327e-08,\n",
       "          -4.21815204e-08,   9.35769447e-09,  -6.64432697e-08,\n",
       "           1.70283709e-08,  -2.06934170e-05,  -5.00768375e-07,\n",
       "          -1.19503597e-05,   4.43384767e-06,   3.40259948e-06,\n",
       "           5.13070895e-06,   6.90008002e-06,  -1.34628330e-06,\n",
       "           1.17937230e-05,   6.88947068e-06,   1.07137413e-05,\n",
       "           3.88435739e-06,   9.66910495e-07,  -1.56504177e-06,\n",
       "          -1.78478494e-06,   3.61851626e-06,   9.23817117e-07,\n",
       "           4.49148523e-06,   4.83050974e-06,   3.28711637e-06,\n",
       "           6.57694150e-06,  -3.00551757e-06,   1.20060205e-06,\n",
       "          -3.59502079e-06,  -3.67870151e-06,   3.35659280e-06,\n",
       "          -1.53756829e-06,   7.13626127e-06,   1.85403823e-06,\n",
       "          -2.95152737e-06,   6.29394598e-06,  -1.26990812e-05,\n",
       "          -9.41708856e-06,  -9.21549669e-07,  -2.58518879e-06,\n",
       "          -2.61518420e-07,  -1.34946154e-06,  -7.86693866e-06,\n",
       "          -2.11962095e-06,   1.46590570e-06,  -4.40123473e-06,\n",
       "          -2.34311676e-06,   2.13590560e-06,  -4.21579116e-06,\n",
       "          -1.12792212e-06,  -1.05737900e-05,   5.59924624e-06,\n",
       "          -7.30879721e-06,  -3.76314625e-06,  -2.13566648e-07,\n",
       "           6.93961530e-06,  -5.58820981e-06,   6.40590401e-06,\n",
       "          -1.63751406e-06,   5.92403170e-06,  -8.89761026e-06,\n",
       "          -9.37670331e-08,   4.55174936e-06,   4.67385141e-06,\n",
       "          -6.38113665e-06,  -9.84620699e-06,   2.57124171e-06,\n",
       "           2.51048677e-06,   6.50460738e-06,   2.01726149e-06,\n",
       "           4.88431934e-06,   5.51964562e-07,  -4.12164337e-06,\n",
       "          -4.63192146e-06,   2.85356169e-06,   1.74574601e-06,\n",
       "          -4.04884366e-07,   1.59286248e-07,   8.33131577e-06,\n",
       "           1.88482129e-07,  -1.11763587e-06,  -4.19203711e-06,\n",
       "          -5.78704794e-06,   8.03590032e-07,  -1.87087774e-06,\n",
       "           4.65369320e-06,   3.24825976e-06,   9.36161092e-07,\n",
       "           5.89821495e-07,   3.61961054e-07,   3.14121909e-07,\n",
       "          -3.77700454e-06,   2.24138620e-06,   6.78845765e-08,\n",
       "           9.95204048e-06,   6.43706347e-06,  -1.53899248e-06,\n",
       "          -1.36039317e-06,  -7.54962987e-06,   3.72282226e-06,\n",
       "          -4.53542997e-06,  -4.32025132e-06,  -3.84077490e-07,\n",
       "           1.03105251e-05,   3.57846573e-06,  -2.45909737e-06,\n",
       "           3.98022270e-06,  -2.97959477e-06,   1.05907569e-06,\n",
       "           7.91605457e-07,   2.81120536e-06,  -4.94384495e-06,\n",
       "          -3.92448671e-06,   3.80985146e-06,   4.65015749e-07,\n",
       "           7.44797744e-06,  -1.57675725e-06,   5.22101159e-06,\n",
       "          -2.00161783e-06,  -1.28186428e-06,  -6.05336437e-06,\n",
       "           1.92597241e-06,  -5.72135710e-07,   2.41086746e-06,\n",
       "          -1.13078600e-06,   5.18122724e-06,   1.19011613e-07,\n",
       "           5.03667161e-06,  -3.40890150e-06,   4.61323545e-06,\n",
       "          -8.07427358e-06,  -3.29101553e-06,   3.37468373e-06,\n",
       "           1.44806287e-06,   6.35623711e-06,   7.58113000e-08,\n",
       "          -2.70986111e-06,  -2.12286839e-06,   3.49867033e-06,\n",
       "          -7.62935169e-06,  -7.10930143e-07,  -1.17572473e-06,\n",
       "           1.02889220e-06,  -3.37323158e-06,   3.72008833e-06,\n",
       "           5.52196267e-06,  -1.39969904e-06,  -2.54565838e-06,\n",
       "           1.59315812e-06,   6.13573498e-06,  -4.06999549e-06,\n",
       "          -9.42336330e-07,   1.66799109e-07,  -2.46509761e-06,\n",
       "          -3.84300040e-06,   6.37634210e-06,   1.98605464e-06,\n",
       "           9.60444397e-06,   3.86633229e-06,   7.01223688e-06,\n",
       "           4.01808067e-06,   3.04596264e-06,   1.30151598e-05,\n",
       "           8.78173603e-06,   6.26628472e-06,   2.51942898e-06,\n",
       "           1.41862874e-06,   8.53827865e-06,   2.83034546e-06,\n",
       "           5.15363425e-06,  -6.39319113e-06,   4.43759969e-07,\n",
       "          -8.86876059e-06,  -4.16446266e-06,  -7.25547726e-06,\n",
       "           3.63288331e-06,  -4.51037909e-06,   7.91004185e-06,\n",
       "           3.56107897e-07,  -3.14441406e-07,   9.27532323e-06,\n",
       "          -1.24625686e-06,  -2.72041059e-06,   9.12783870e-09,\n",
       "          -4.60874258e-06,  -2.10599019e-06,  -3.46642282e-06,\n",
       "           7.03131288e-07,   1.03718571e-05,  -1.85809568e-06,\n",
       "          -1.23099133e-06,  -4.26499009e-06,   2.46004226e-07,\n",
       "          -6.23380141e-06,  -3.13954621e-06,  -3.59199765e-06,\n",
       "           5.12143056e-07,   4.53420799e-07,   6.28486747e-06,\n",
       "           5.14250298e-06,  -2.42618539e-06,  -2.50327090e-06,\n",
       "          -3.57281303e-06,   1.54484628e-06,   8.47965405e-07,\n",
       "           3.50355708e-06,  -1.47017259e-06,   3.38977303e-06,\n",
       "          -3.21416631e-07,   6.84868320e-06,   2.11409782e-06,\n",
       "           9.50020344e-07,   1.18623824e-06,   3.04884148e-06,\n",
       "           1.51059735e-07,   6.09536750e-07,   3.83963643e-06,\n",
       "          -5.21612147e-06,   2.36184700e-06,  -2.20271474e-06,\n",
       "           5.86129837e-06,   1.16145674e-06,  -4.21709976e-06,\n",
       "          -9.24884378e-07,   2.50037706e-06,  -1.34851847e-06,\n",
       "          -1.22596331e-06,  -5.59593385e-06,   1.00358997e-06,\n",
       "          -3.00551921e-06,  -3.48168330e-06,   3.08674410e-06,\n",
       "          -6.37715748e-07,  -9.90549395e-07,  -4.90369873e-06,\n",
       "           2.93460197e-06,  -1.68508613e-06,   4.17345557e-06,\n",
       "           9.89795748e-07,   5.01747830e-06,  -9.45140277e-06,\n",
       "          -3.27550134e-06,   1.36806002e-06,  -4.47308604e-06,\n",
       "           7.39407778e-06,   3.42610580e-06,   7.58129161e-06,\n",
       "           8.87884666e-07,   5.47212385e-06,  -1.52136078e-06,\n",
       "           4.72797066e-06,  -4.79028697e-06,   5.51631279e-07,\n",
       "          -2.61465871e-06,  -6.32340790e-06,   6.03373943e-07,\n",
       "          -4.30676807e-06,   5.66562151e-06,  -2.69854074e-06,\n",
       "           1.99127366e-06,  -7.80166830e-06,   4.37206517e-07,\n",
       "           5.37218315e-06,  -1.99443079e-06,  -2.12143065e-06,\n",
       "           5.68761612e-07,  -2.05035119e-07,   3.04819943e-06,\n",
       "          -4.59689780e-06,  -5.25574551e-06,  -9.13465087e-07,\n",
       "          -5.38107627e-06,   5.86604333e-06,  -2.61659162e-06,\n",
       "           4.72808580e-06,  -1.20276365e-05,  -1.15985769e-05,\n",
       "           2.52136042e-06,  -6.43746183e-06,   4.30293044e-06,\n",
       "          -3.65095357e-06,   9.10066010e-06,  -8.03037570e-07,\n",
       "           5.89887377e-06,  -9.15718219e-06,   9.03907305e-06,\n",
       "          -1.17308321e-05,   4.56520683e-06,  -3.70329559e-07,\n",
       "           2.91719378e-07,  -1.81731457e-06,  -6.34137072e-06,\n",
       "           6.36793904e-06,   5.25696720e-06,   6.54361076e-06,\n",
       "          -6.07818165e-07,  -4.97459191e-06,   3.33563735e-06,\n",
       "           2.29542601e-06,   1.51690846e-06,  -2.20047630e-06,\n",
       "           5.23329106e-06,   1.51742191e-06,   1.95351177e-06,\n",
       "          -2.17572322e-06,  -2.14319586e-06,  -1.32672222e-05,\n",
       "          -9.49898572e-06,   9.84211697e-07,   2.29432830e-06,\n",
       "           3.57932709e-06,  -9.29122931e-07,   3.40201308e-06,\n",
       "          -5.42855766e-06,   9.33696461e-06,  -7.84365679e-06,\n",
       "           1.84011542e-06,   5.03323546e-06,   4.01831095e-07,\n",
       "          -9.90438302e-07,  -9.40626038e-06,   5.16725024e-06,\n",
       "           3.98621124e-06,  -5.33643672e-06,   3.74732523e-06,\n",
       "           9.95391345e-07,   7.06566513e-06,   6.69403712e-07,\n",
       "           5.77418337e-06,  -3.85481824e-06,   3.71450504e-06,\n",
       "          -8.72720707e-06,  -2.40055401e-06,   1.73912622e-06,\n",
       "          -5.09693838e-07,   1.71071252e-06,   3.08796118e-08,\n",
       "           2.31377521e-06,  -3.17182627e-06,   1.01038087e-05,\n",
       "          -4.21250934e-07,   3.22335527e-06,   5.00357660e-06,\n",
       "           3.30365853e-08,  -1.55936247e-06,  -2.92984821e-06,\n",
       "          -7.71259551e-06,   1.42340830e-06,  -4.09829428e-06,\n",
       "           2.50781680e-06,  -5.62710332e-07,   2.09063421e-06,\n",
       "          -4.12010063e-06,  -1.19744291e-06,  -8.00212065e-06,\n",
       "          -2.19984963e-06,  -4.47246427e-06,  -2.45761394e-06,\n",
       "          -2.67484219e-06,  -6.52949610e-06,  -4.87115178e-06,\n",
       "          -5.16770870e-06,   4.48712401e-06,  -4.52067082e-06,\n",
       "          -4.28221305e-07,  -1.79983145e-06,   1.63340300e-06,\n",
       "           2.39842176e-06,   2.64295113e-06,   2.45531781e-07,\n",
       "          -4.77218373e-06,  -5.35061680e-07,  -8.87218908e-07,\n",
       "          -2.24769045e-06,   1.03680152e-06,  -2.19356580e-06,\n",
       "          -4.52403581e-06,  -2.75893172e-06,   6.34711588e-06,\n",
       "           5.97280737e-06,   6.64059079e-08,   7.63787797e-07,\n",
       "          -2.05659231e-06,  -2.91414446e-06,   1.32359668e-06,\n",
       "           3.94566067e-07,  -2.48385625e-06,   9.62300301e-07,\n",
       "          -6.27687479e-06,  -6.68505778e-07,  -6.06036847e-06,\n",
       "           5.49688659e-06,   3.47771984e-06,   1.60536310e-06,\n",
       "           3.27863315e-06,   8.54242119e-08,   8.78664150e-08,\n",
       "           3.11104967e-07,   1.79292971e-06,  -3.16993974e-06,\n",
       "          -1.33138900e-06,   1.02099226e-05,   9.88446625e-07,\n",
       "           3.03414277e-06,  -1.69511481e-06,  -2.15126832e-06,\n",
       "          -2.08529816e-06,  -3.58816517e-06,   2.09358158e-06,\n",
       "          -1.21730591e-06,  -6.55308755e-07]]))"
      ]
     },
     "execution_count": 158,
     "metadata": {},
     "output_type": "execute_result"
    }
   ],
   "source": [
    "lin_reg = LinearRegression()\n",
    "lin_reg.fit(X_poly, MET_train)\n",
    "lin_reg.intercept_, lin_reg.coef_"
   ]
  },
  {
   "cell_type": "code",
   "execution_count": 191,
   "metadata": {},
   "outputs": [
    {
     "ename": "ValueError",
     "evalue": "shapes (10,28) and (434,1) not aligned: 28 (dim 1) != 434 (dim 0)",
     "output_type": "error",
     "traceback": [
      "\u001b[0;31m---------------------------------------------------------------------------\u001b[0m",
      "\u001b[0;31mValueError\u001b[0m                                Traceback (most recent call last)",
      "\u001b[0;32m<ipython-input-191-669d4ede39b6>\u001b[0m in \u001b[0;36m<module>\u001b[0;34m()\u001b[0m\n\u001b[0;32m----> 1\u001b[0;31m \u001b[0mlin_reg\u001b[0m\u001b[0;34m.\u001b[0m\u001b[0mpredict\u001b[0m\u001b[0;34m(\u001b[0m\u001b[0mcoco_test\u001b[0m\u001b[0;34m)\u001b[0m\u001b[0;34m\u001b[0m\u001b[0m\n\u001b[0m",
      "\u001b[0;32m~/eunjivenv/lib/python3.5/site-packages/sklearn/linear_model/base.py\u001b[0m in \u001b[0;36mpredict\u001b[0;34m(self, X)\u001b[0m\n\u001b[1;32m    254\u001b[0m             \u001b[0mReturns\u001b[0m \u001b[0mpredicted\u001b[0m \u001b[0mvalues\u001b[0m\u001b[0;34m.\u001b[0m\u001b[0;34m\u001b[0m\u001b[0m\n\u001b[1;32m    255\u001b[0m         \"\"\"\n\u001b[0;32m--> 256\u001b[0;31m         \u001b[0;32mreturn\u001b[0m \u001b[0mself\u001b[0m\u001b[0;34m.\u001b[0m\u001b[0m_decision_function\u001b[0m\u001b[0;34m(\u001b[0m\u001b[0mX\u001b[0m\u001b[0;34m)\u001b[0m\u001b[0;34m\u001b[0m\u001b[0m\n\u001b[0m\u001b[1;32m    257\u001b[0m \u001b[0;34m\u001b[0m\u001b[0m\n\u001b[1;32m    258\u001b[0m     \u001b[0m_preprocess_data\u001b[0m \u001b[0;34m=\u001b[0m \u001b[0mstaticmethod\u001b[0m\u001b[0;34m(\u001b[0m\u001b[0m_preprocess_data\u001b[0m\u001b[0;34m)\u001b[0m\u001b[0;34m\u001b[0m\u001b[0m\n",
      "\u001b[0;32m~/eunjivenv/lib/python3.5/site-packages/sklearn/linear_model/base.py\u001b[0m in \u001b[0;36m_decision_function\u001b[0;34m(self, X)\u001b[0m\n\u001b[1;32m    239\u001b[0m         \u001b[0mX\u001b[0m \u001b[0;34m=\u001b[0m \u001b[0mcheck_array\u001b[0m\u001b[0;34m(\u001b[0m\u001b[0mX\u001b[0m\u001b[0;34m,\u001b[0m \u001b[0maccept_sparse\u001b[0m\u001b[0;34m=\u001b[0m\u001b[0;34m[\u001b[0m\u001b[0;34m'csr'\u001b[0m\u001b[0;34m,\u001b[0m \u001b[0;34m'csc'\u001b[0m\u001b[0;34m,\u001b[0m \u001b[0;34m'coo'\u001b[0m\u001b[0;34m]\u001b[0m\u001b[0;34m)\u001b[0m\u001b[0;34m\u001b[0m\u001b[0m\n\u001b[1;32m    240\u001b[0m         return safe_sparse_dot(X, self.coef_.T,\n\u001b[0;32m--> 241\u001b[0;31m                                dense_output=True) + self.intercept_\n\u001b[0m\u001b[1;32m    242\u001b[0m \u001b[0;34m\u001b[0m\u001b[0m\n\u001b[1;32m    243\u001b[0m     \u001b[0;32mdef\u001b[0m \u001b[0mpredict\u001b[0m\u001b[0;34m(\u001b[0m\u001b[0mself\u001b[0m\u001b[0;34m,\u001b[0m \u001b[0mX\u001b[0m\u001b[0;34m)\u001b[0m\u001b[0;34m:\u001b[0m\u001b[0;34m\u001b[0m\u001b[0m\n",
      "\u001b[0;32m~/eunjivenv/lib/python3.5/site-packages/sklearn/utils/extmath.py\u001b[0m in \u001b[0;36msafe_sparse_dot\u001b[0;34m(a, b, dense_output)\u001b[0m\n\u001b[1;32m    138\u001b[0m         \u001b[0;32mreturn\u001b[0m \u001b[0mret\u001b[0m\u001b[0;34m\u001b[0m\u001b[0m\n\u001b[1;32m    139\u001b[0m     \u001b[0;32melse\u001b[0m\u001b[0;34m:\u001b[0m\u001b[0;34m\u001b[0m\u001b[0m\n\u001b[0;32m--> 140\u001b[0;31m         \u001b[0;32mreturn\u001b[0m \u001b[0mnp\u001b[0m\u001b[0;34m.\u001b[0m\u001b[0mdot\u001b[0m\u001b[0;34m(\u001b[0m\u001b[0ma\u001b[0m\u001b[0;34m,\u001b[0m \u001b[0mb\u001b[0m\u001b[0;34m)\u001b[0m\u001b[0;34m\u001b[0m\u001b[0m\n\u001b[0m\u001b[1;32m    141\u001b[0m \u001b[0;34m\u001b[0m\u001b[0m\n\u001b[1;32m    142\u001b[0m \u001b[0;34m\u001b[0m\u001b[0m\n",
      "\u001b[0;31mValueError\u001b[0m: shapes (10,28) and (434,1) not aligned: 28 (dim 1) != 434 (dim 0)"
     ]
    }
   ],
   "source": [
    "lin_reg.predict(coco_test)"
   ]
  },
  {
   "cell_type": "markdown",
   "metadata": {},
   "source": [
    "# MLPRegression"
   ]
  },
  {
   "cell_type": "code",
   "execution_count": 259,
   "metadata": {},
   "outputs": [
    {
     "name": "stderr",
     "output_type": "stream",
     "text": [
      "/home/ejjchl77/eunjivenv/lib/python3.5/site-packages/sklearn/neural_network/multilayer_perceptron.py:1306: DataConversionWarning: A column-vector y was passed when a 1d array was expected. Please change the shape of y to (n_samples, ), for example using ravel().\n",
      "  y = column_or_1d(y, warn=True)\n",
      "/home/ejjchl77/eunjivenv/lib/python3.5/site-packages/sklearn/neural_network/multilayer_perceptron.py:564: ConvergenceWarning: Stochastic Optimizer: Maximum iterations (200) reached and the optimization hasn't converged yet.\n",
      "  % self.max_iter, ConvergenceWarning)\n"
     ]
    }
   ],
   "source": [
    "import numpy as np\n",
    "from sklearn.neural_network import MLPRegressor \n",
    "\n",
    "X = coco_train\n",
    "y = MET_train.astype(np.float)\n",
    "\n",
    "per_clf = MLPRegressor(random_state=42, activation=\"relu\", solver=\"adam\")\n",
    "per_clf.fit(X, y)\n",
    "\n",
    "y_pred = per_clf.predict(coco_test)"
   ]
  },
  {
   "cell_type": "code",
   "execution_count": 272,
   "metadata": {},
   "outputs": [
    {
     "data": {
      "text/plain": [
       "array([[ 0.7],\n",
       "       [ 0.7],\n",
       "       [ 1. ],\n",
       "       [ 1. ],\n",
       "       [ 1.2],\n",
       "       [ 1.2],\n",
       "       [ 1.2],\n",
       "       [ 1.2],\n",
       "       [ 1.8],\n",
       "       [ 1.8]])"
      ]
     },
     "execution_count": 272,
     "metadata": {},
     "output_type": "execute_result"
    }
   ],
   "source": [
    "MET_test"
   ]
  },
  {
   "cell_type": "code",
   "execution_count": 260,
   "metadata": {},
   "outputs": [
    {
     "data": {
      "text/plain": [
       "array([  1.11050723,   8.21453358,  -3.2450138 ,   6.32597874,\n",
       "        -3.79992467,  21.43147439,  12.07348664,   7.89122505,\n",
       "         1.11050723,  -2.09279549])"
      ]
     },
     "execution_count": 260,
     "metadata": {},
     "output_type": "execute_result"
    }
   ],
   "source": [
    "y_pred"
   ]
  },
  {
   "cell_type": "code",
   "execution_count": null,
   "metadata": {},
   "outputs": [],
   "source": []
  },
  {
   "cell_type": "code",
   "execution_count": null,
   "metadata": {},
   "outputs": [],
   "source": []
  },
  {
   "cell_type": "markdown",
   "metadata": {},
   "source": [
    "# TensorFlow"
   ]
  },
  {
   "cell_type": "code",
   "execution_count": 373,
   "metadata": {},
   "outputs": [],
   "source": [
    "def reset_graph(seed=42):\n",
    "    tf.reset_default_graph()\n",
    "    tf.set_random_seed(seed)\n",
    "    np.random.seed(seed)"
   ]
  },
  {
   "cell_type": "code",
   "execution_count": 374,
   "metadata": {},
   "outputs": [],
   "source": [
    "import tensorflow as tf\n",
    "\n",
    "n_inputs = 28 \n",
    "n_hidden1 = 300\n",
    "n_hidden2 = 100\n",
    "n_outputs = 1     #MET값 1개"
   ]
  },
  {
   "cell_type": "code",
   "execution_count": 375,
   "metadata": {},
   "outputs": [],
   "source": [
    "reset_graph()\n",
    "\n",
    "X = tf.placeholder(tf.float32, shape=(None, n_inputs), name=\"X\")\n",
    "y = tf.placeholder(tf.float32, shape=(None, 1), name=\"y\")"
   ]
  },
  {
   "cell_type": "code",
   "execution_count": 376,
   "metadata": {},
   "outputs": [],
   "source": [
    "def reset_graph(seed=42):\n",
    "    tf.reset_default_graph()\n",
    "    tf.set_random_seed(seed)\n",
    "    np.random.seed(seed)"
   ]
  },
  {
   "cell_type": "code",
   "execution_count": 377,
   "metadata": {},
   "outputs": [
    {
     "data": {
      "text/plain": [
       "Dimension(28)"
      ]
     },
     "execution_count": 377,
     "metadata": {},
     "output_type": "execute_result"
    }
   ],
   "source": [
    "X.get_shape()[1]"
   ]
  },
  {
   "cell_type": "code",
   "execution_count": 378,
   "metadata": {},
   "outputs": [],
   "source": [
    "def neuron_layer(X, n_neurons, name, activation=None):\n",
    "    with tf.name_scope(name):\n",
    "        n_inputs = int(X.get_shape()[1])\n",
    "        stddev = 2 / np.sqrt(n_inputs)\n",
    "        init = tf.truncated_normal((n_inputs, n_neurons), stddev=stddev)\n",
    "        W = tf.Variable(init, name=\"kernel\")\n",
    "        b = tf.Variable(tf.zeros([n_neurons], dtype=tf.float32), name=\"bias\")\n",
    "        Z = tf.matmul(X, W) + b\n",
    "        if activation is not None:\n",
    "            return activation(Z)\n",
    "        else:\n",
    "            return Z"
   ]
  },
  {
   "cell_type": "code",
   "execution_count": 380,
   "metadata": {},
   "outputs": [],
   "source": [
    "with tf.name_scope(\"dnn\"):\n",
    "    hidden1 = neuron_layer(X, n_hidden1, name=\"hidden1\",\n",
    "                           activation=tf.nn.relu)\n",
    "    hidden2 = neuron_layer(hidden1, n_hidden2, name=\"hidden2\",\n",
    "                           activation=tf.nn.relu)\n",
    "    logits = neuron_layer(hidden2, n_outputs, name=\"outputs\")\n"
   ]
  },
  {
   "cell_type": "code",
   "execution_count": 381,
   "metadata": {},
   "outputs": [],
   "source": [
    "from sklearn.metrics import mean_squared_error\n",
    "\n",
    "with tf.name_scope(\"loss\"):\n",
    "    #xentropy = tf.nn.sparse_softmax_cross_entropy_with_logits(labels=y,\n",
    "    #                                                          logits=logits)\n",
    "    loss = tf.losses.mean_squared_error(y, logits)\n",
    "    #loss = -tf.reduce_sum(logits * tf.log(p))\n",
    "    #loss = tf.reduce_mean(xentropy, name=\"loss\")"
   ]
  },
  {
   "cell_type": "code",
   "execution_count": null,
   "metadata": {},
   "outputs": [],
   "source": []
  },
  {
   "cell_type": "code",
   "execution_count": null,
   "metadata": {},
   "outputs": [],
   "source": []
  },
  {
   "cell_type": "code",
   "execution_count": 382,
   "metadata": {},
   "outputs": [],
   "source": [
    "learning_rate = 0.01\n",
    "\n",
    "with tf.name_scope(\"train\"):\n",
    "    optimizer = tf.train.GradientDescentOptimizer(learning_rate)\n",
    "    training_op = optimizer.minimize(loss)"
   ]
  },
  {
   "cell_type": "code",
   "execution_count": 392,
   "metadata": {},
   "outputs": [],
   "source": [
    "#with tf.name_scope(\"eval\"):\n",
    "#    correct = tf.nn.in_top_k(logits, y, 1)  -> 위에서부터 가장 큰 값만 찾는건 라벨링 된 이미지 처리할때\n",
    "#    accuracy = tf.reduce_mean(tf.cast(correct, tf.float32))"
   ]
  },
  {
   "cell_type": "code",
   "execution_count": 391,
   "metadata": {},
   "outputs": [],
   "source": [
    "init = tf.global_variables_initializer()\n",
    "saver = tf.train.Saver()"
   ]
  },
  {
   "cell_type": "code",
   "execution_count": 397,
   "metadata": {},
   "outputs": [],
   "source": [
    "n_epochs = 500"
   ]
  },
  {
   "cell_type": "code",
   "execution_count": 404,
   "metadata": {},
   "outputs": [
    {
     "name": "stdout",
     "output_type": "stream",
     "text": [
      "0 loss : Tensor(\"mean_squared_error_1/value:0\", shape=(), dtype=float32)\n",
      "1 loss : Tensor(\"mean_squared_error_1/value:0\", shape=(), dtype=float32)\n",
      "2 loss : Tensor(\"mean_squared_error_1/value:0\", shape=(), dtype=float32)\n",
      "3 loss : Tensor(\"mean_squared_error_1/value:0\", shape=(), dtype=float32)\n",
      "4 loss : Tensor(\"mean_squared_error_1/value:0\", shape=(), dtype=float32)\n",
      "5 loss : Tensor(\"mean_squared_error_1/value:0\", shape=(), dtype=float32)\n",
      "6 loss : Tensor(\"mean_squared_error_1/value:0\", shape=(), dtype=float32)\n",
      "7 loss : Tensor(\"mean_squared_error_1/value:0\", shape=(), dtype=float32)\n",
      "8 loss : Tensor(\"mean_squared_error_1/value:0\", shape=(), dtype=float32)\n",
      "9 loss : Tensor(\"mean_squared_error_1/value:0\", shape=(), dtype=float32)\n",
      "10 loss : Tensor(\"mean_squared_error_1/value:0\", shape=(), dtype=float32)\n",
      "11 loss : Tensor(\"mean_squared_error_1/value:0\", shape=(), dtype=float32)\n",
      "12 loss : Tensor(\"mean_squared_error_1/value:0\", shape=(), dtype=float32)\n",
      "13 loss : Tensor(\"mean_squared_error_1/value:0\", shape=(), dtype=float32)\n",
      "14 loss : Tensor(\"mean_squared_error_1/value:0\", shape=(), dtype=float32)\n",
      "15 loss : Tensor(\"mean_squared_error_1/value:0\", shape=(), dtype=float32)\n",
      "16 loss : Tensor(\"mean_squared_error_1/value:0\", shape=(), dtype=float32)\n",
      "17 loss : Tensor(\"mean_squared_error_1/value:0\", shape=(), dtype=float32)\n",
      "18 loss : Tensor(\"mean_squared_error_1/value:0\", shape=(), dtype=float32)\n",
      "19 loss : Tensor(\"mean_squared_error_1/value:0\", shape=(), dtype=float32)\n",
      "20 loss : Tensor(\"mean_squared_error_1/value:0\", shape=(), dtype=float32)\n",
      "21 loss : Tensor(\"mean_squared_error_1/value:0\", shape=(), dtype=float32)\n",
      "22 loss : Tensor(\"mean_squared_error_1/value:0\", shape=(), dtype=float32)\n",
      "23 loss : Tensor(\"mean_squared_error_1/value:0\", shape=(), dtype=float32)\n",
      "24 loss : Tensor(\"mean_squared_error_1/value:0\", shape=(), dtype=float32)\n",
      "25 loss : Tensor(\"mean_squared_error_1/value:0\", shape=(), dtype=float32)\n",
      "26 loss : Tensor(\"mean_squared_error_1/value:0\", shape=(), dtype=float32)\n",
      "27 loss : Tensor(\"mean_squared_error_1/value:0\", shape=(), dtype=float32)\n",
      "28 loss : Tensor(\"mean_squared_error_1/value:0\", shape=(), dtype=float32)\n",
      "29 loss : Tensor(\"mean_squared_error_1/value:0\", shape=(), dtype=float32)\n",
      "30 loss : Tensor(\"mean_squared_error_1/value:0\", shape=(), dtype=float32)\n",
      "31 loss : Tensor(\"mean_squared_error_1/value:0\", shape=(), dtype=float32)\n",
      "32 loss : Tensor(\"mean_squared_error_1/value:0\", shape=(), dtype=float32)\n",
      "33 loss : Tensor(\"mean_squared_error_1/value:0\", shape=(), dtype=float32)\n",
      "34 loss : Tensor(\"mean_squared_error_1/value:0\", shape=(), dtype=float32)\n",
      "35 loss : Tensor(\"mean_squared_error_1/value:0\", shape=(), dtype=float32)\n",
      "36 loss : Tensor(\"mean_squared_error_1/value:0\", shape=(), dtype=float32)\n",
      "37 loss : Tensor(\"mean_squared_error_1/value:0\", shape=(), dtype=float32)\n",
      "38 loss : Tensor(\"mean_squared_error_1/value:0\", shape=(), dtype=float32)\n",
      "39 loss : Tensor(\"mean_squared_error_1/value:0\", shape=(), dtype=float32)\n",
      "40 loss : Tensor(\"mean_squared_error_1/value:0\", shape=(), dtype=float32)\n",
      "41 loss : Tensor(\"mean_squared_error_1/value:0\", shape=(), dtype=float32)\n",
      "42 loss : Tensor(\"mean_squared_error_1/value:0\", shape=(), dtype=float32)\n",
      "43 loss : Tensor(\"mean_squared_error_1/value:0\", shape=(), dtype=float32)\n",
      "44 loss : Tensor(\"mean_squared_error_1/value:0\", shape=(), dtype=float32)\n",
      "45 loss : Tensor(\"mean_squared_error_1/value:0\", shape=(), dtype=float32)\n",
      "46 loss : Tensor(\"mean_squared_error_1/value:0\", shape=(), dtype=float32)\n",
      "47 loss : Tensor(\"mean_squared_error_1/value:0\", shape=(), dtype=float32)\n",
      "48 loss : Tensor(\"mean_squared_error_1/value:0\", shape=(), dtype=float32)\n",
      "49 loss : Tensor(\"mean_squared_error_1/value:0\", shape=(), dtype=float32)\n",
      "50 loss : Tensor(\"mean_squared_error_1/value:0\", shape=(), dtype=float32)\n",
      "51 loss : Tensor(\"mean_squared_error_1/value:0\", shape=(), dtype=float32)\n",
      "52 loss : Tensor(\"mean_squared_error_1/value:0\", shape=(), dtype=float32)\n",
      "53 loss : Tensor(\"mean_squared_error_1/value:0\", shape=(), dtype=float32)\n",
      "54 loss : Tensor(\"mean_squared_error_1/value:0\", shape=(), dtype=float32)\n",
      "55 loss : Tensor(\"mean_squared_error_1/value:0\", shape=(), dtype=float32)\n",
      "56 loss : Tensor(\"mean_squared_error_1/value:0\", shape=(), dtype=float32)\n",
      "57 loss : Tensor(\"mean_squared_error_1/value:0\", shape=(), dtype=float32)\n",
      "58 loss : Tensor(\"mean_squared_error_1/value:0\", shape=(), dtype=float32)\n",
      "59 loss : Tensor(\"mean_squared_error_1/value:0\", shape=(), dtype=float32)\n",
      "60 loss : Tensor(\"mean_squared_error_1/value:0\", shape=(), dtype=float32)\n",
      "61 loss : Tensor(\"mean_squared_error_1/value:0\", shape=(), dtype=float32)\n",
      "62 loss : Tensor(\"mean_squared_error_1/value:0\", shape=(), dtype=float32)\n",
      "63 loss : Tensor(\"mean_squared_error_1/value:0\", shape=(), dtype=float32)\n",
      "64 loss : Tensor(\"mean_squared_error_1/value:0\", shape=(), dtype=float32)\n",
      "65 loss : Tensor(\"mean_squared_error_1/value:0\", shape=(), dtype=float32)\n",
      "66 loss : Tensor(\"mean_squared_error_1/value:0\", shape=(), dtype=float32)\n",
      "67 loss : Tensor(\"mean_squared_error_1/value:0\", shape=(), dtype=float32)\n",
      "68 loss : Tensor(\"mean_squared_error_1/value:0\", shape=(), dtype=float32)\n",
      "69 loss : Tensor(\"mean_squared_error_1/value:0\", shape=(), dtype=float32)\n",
      "70 loss : Tensor(\"mean_squared_error_1/value:0\", shape=(), dtype=float32)\n",
      "71 loss : Tensor(\"mean_squared_error_1/value:0\", shape=(), dtype=float32)\n",
      "72 loss : Tensor(\"mean_squared_error_1/value:0\", shape=(), dtype=float32)\n",
      "73 loss : Tensor(\"mean_squared_error_1/value:0\", shape=(), dtype=float32)\n",
      "74 loss : Tensor(\"mean_squared_error_1/value:0\", shape=(), dtype=float32)\n",
      "75 loss : Tensor(\"mean_squared_error_1/value:0\", shape=(), dtype=float32)\n",
      "76 loss : Tensor(\"mean_squared_error_1/value:0\", shape=(), dtype=float32)\n",
      "77 loss : Tensor(\"mean_squared_error_1/value:0\", shape=(), dtype=float32)\n",
      "78 loss : Tensor(\"mean_squared_error_1/value:0\", shape=(), dtype=float32)\n",
      "79 loss : Tensor(\"mean_squared_error_1/value:0\", shape=(), dtype=float32)\n",
      "80 loss : Tensor(\"mean_squared_error_1/value:0\", shape=(), dtype=float32)\n",
      "81 loss : Tensor(\"mean_squared_error_1/value:0\", shape=(), dtype=float32)\n",
      "82 loss : Tensor(\"mean_squared_error_1/value:0\", shape=(), dtype=float32)\n",
      "83 loss : Tensor(\"mean_squared_error_1/value:0\", shape=(), dtype=float32)\n",
      "84 loss : Tensor(\"mean_squared_error_1/value:0\", shape=(), dtype=float32)\n",
      "85 loss : Tensor(\"mean_squared_error_1/value:0\", shape=(), dtype=float32)\n",
      "86 loss : Tensor(\"mean_squared_error_1/value:0\", shape=(), dtype=float32)\n",
      "87 loss : Tensor(\"mean_squared_error_1/value:0\", shape=(), dtype=float32)\n",
      "88 loss : Tensor(\"mean_squared_error_1/value:0\", shape=(), dtype=float32)\n",
      "89 loss : Tensor(\"mean_squared_error_1/value:0\", shape=(), dtype=float32)\n",
      "90 loss : Tensor(\"mean_squared_error_1/value:0\", shape=(), dtype=float32)\n",
      "91 loss : Tensor(\"mean_squared_error_1/value:0\", shape=(), dtype=float32)\n",
      "92 loss : Tensor(\"mean_squared_error_1/value:0\", shape=(), dtype=float32)\n",
      "93 loss : Tensor(\"mean_squared_error_1/value:0\", shape=(), dtype=float32)\n",
      "94 loss : Tensor(\"mean_squared_error_1/value:0\", shape=(), dtype=float32)\n",
      "95 loss : Tensor(\"mean_squared_error_1/value:0\", shape=(), dtype=float32)\n",
      "96 loss : Tensor(\"mean_squared_error_1/value:0\", shape=(), dtype=float32)\n",
      "97 loss : Tensor(\"mean_squared_error_1/value:0\", shape=(), dtype=float32)\n",
      "98 loss : Tensor(\"mean_squared_error_1/value:0\", shape=(), dtype=float32)\n",
      "99 loss : Tensor(\"mean_squared_error_1/value:0\", shape=(), dtype=float32)\n",
      "100 loss : Tensor(\"mean_squared_error_1/value:0\", shape=(), dtype=float32)\n",
      "101 loss : Tensor(\"mean_squared_error_1/value:0\", shape=(), dtype=float32)\n",
      "102 loss : Tensor(\"mean_squared_error_1/value:0\", shape=(), dtype=float32)\n",
      "103 loss : Tensor(\"mean_squared_error_1/value:0\", shape=(), dtype=float32)\n",
      "104 loss : Tensor(\"mean_squared_error_1/value:0\", shape=(), dtype=float32)\n",
      "105 loss : Tensor(\"mean_squared_error_1/value:0\", shape=(), dtype=float32)\n",
      "106 loss : Tensor(\"mean_squared_error_1/value:0\", shape=(), dtype=float32)\n",
      "107 loss : Tensor(\"mean_squared_error_1/value:0\", shape=(), dtype=float32)\n",
      "108 loss : Tensor(\"mean_squared_error_1/value:0\", shape=(), dtype=float32)\n",
      "109 loss : Tensor(\"mean_squared_error_1/value:0\", shape=(), dtype=float32)\n",
      "110 loss : Tensor(\"mean_squared_error_1/value:0\", shape=(), dtype=float32)\n",
      "111 loss : Tensor(\"mean_squared_error_1/value:0\", shape=(), dtype=float32)\n",
      "112 loss : Tensor(\"mean_squared_error_1/value:0\", shape=(), dtype=float32)\n",
      "113 loss : Tensor(\"mean_squared_error_1/value:0\", shape=(), dtype=float32)\n",
      "114 loss : Tensor(\"mean_squared_error_1/value:0\", shape=(), dtype=float32)\n",
      "115 loss : Tensor(\"mean_squared_error_1/value:0\", shape=(), dtype=float32)\n",
      "116 loss : Tensor(\"mean_squared_error_1/value:0\", shape=(), dtype=float32)\n",
      "117 loss : Tensor(\"mean_squared_error_1/value:0\", shape=(), dtype=float32)\n",
      "118 loss : Tensor(\"mean_squared_error_1/value:0\", shape=(), dtype=float32)\n",
      "119 loss : Tensor(\"mean_squared_error_1/value:0\", shape=(), dtype=float32)\n",
      "120 loss : Tensor(\"mean_squared_error_1/value:0\", shape=(), dtype=float32)\n",
      "121 loss : Tensor(\"mean_squared_error_1/value:0\", shape=(), dtype=float32)\n",
      "122 loss : Tensor(\"mean_squared_error_1/value:0\", shape=(), dtype=float32)\n",
      "123 loss : Tensor(\"mean_squared_error_1/value:0\", shape=(), dtype=float32)\n",
      "124 loss : Tensor(\"mean_squared_error_1/value:0\", shape=(), dtype=float32)\n",
      "125 loss : Tensor(\"mean_squared_error_1/value:0\", shape=(), dtype=float32)\n",
      "126 loss : Tensor(\"mean_squared_error_1/value:0\", shape=(), dtype=float32)\n",
      "127 loss : Tensor(\"mean_squared_error_1/value:0\", shape=(), dtype=float32)\n",
      "128 loss : Tensor(\"mean_squared_error_1/value:0\", shape=(), dtype=float32)\n",
      "129 loss : Tensor(\"mean_squared_error_1/value:0\", shape=(), dtype=float32)\n",
      "130 loss : Tensor(\"mean_squared_error_1/value:0\", shape=(), dtype=float32)\n",
      "131 loss : Tensor(\"mean_squared_error_1/value:0\", shape=(), dtype=float32)\n",
      "132 loss : Tensor(\"mean_squared_error_1/value:0\", shape=(), dtype=float32)\n",
      "133 loss : Tensor(\"mean_squared_error_1/value:0\", shape=(), dtype=float32)\n",
      "134 loss : Tensor(\"mean_squared_error_1/value:0\", shape=(), dtype=float32)\n",
      "135 loss : Tensor(\"mean_squared_error_1/value:0\", shape=(), dtype=float32)\n",
      "136 loss : Tensor(\"mean_squared_error_1/value:0\", shape=(), dtype=float32)\n",
      "137 loss : Tensor(\"mean_squared_error_1/value:0\", shape=(), dtype=float32)\n",
      "138 loss : Tensor(\"mean_squared_error_1/value:0\", shape=(), dtype=float32)\n",
      "139 loss : Tensor(\"mean_squared_error_1/value:0\", shape=(), dtype=float32)\n",
      "140 loss : Tensor(\"mean_squared_error_1/value:0\", shape=(), dtype=float32)\n",
      "141 loss : Tensor(\"mean_squared_error_1/value:0\", shape=(), dtype=float32)\n",
      "142 loss : Tensor(\"mean_squared_error_1/value:0\", shape=(), dtype=float32)\n",
      "143 loss : Tensor(\"mean_squared_error_1/value:0\", shape=(), dtype=float32)\n",
      "144 loss : Tensor(\"mean_squared_error_1/value:0\", shape=(), dtype=float32)\n",
      "145 loss : Tensor(\"mean_squared_error_1/value:0\", shape=(), dtype=float32)\n",
      "146 loss : Tensor(\"mean_squared_error_1/value:0\", shape=(), dtype=float32)\n",
      "147 loss : Tensor(\"mean_squared_error_1/value:0\", shape=(), dtype=float32)\n",
      "148 loss : Tensor(\"mean_squared_error_1/value:0\", shape=(), dtype=float32)\n",
      "149 loss : Tensor(\"mean_squared_error_1/value:0\", shape=(), dtype=float32)\n",
      "150 loss : Tensor(\"mean_squared_error_1/value:0\", shape=(), dtype=float32)\n",
      "151 loss : Tensor(\"mean_squared_error_1/value:0\", shape=(), dtype=float32)\n",
      "152 loss : Tensor(\"mean_squared_error_1/value:0\", shape=(), dtype=float32)\n",
      "153 loss : Tensor(\"mean_squared_error_1/value:0\", shape=(), dtype=float32)\n",
      "154 loss : Tensor(\"mean_squared_error_1/value:0\", shape=(), dtype=float32)\n",
      "155 loss : Tensor(\"mean_squared_error_1/value:0\", shape=(), dtype=float32)\n",
      "156 loss : Tensor(\"mean_squared_error_1/value:0\", shape=(), dtype=float32)\n",
      "157 loss : Tensor(\"mean_squared_error_1/value:0\", shape=(), dtype=float32)\n",
      "158 loss : Tensor(\"mean_squared_error_1/value:0\", shape=(), dtype=float32)\n",
      "159 loss : Tensor(\"mean_squared_error_1/value:0\", shape=(), dtype=float32)\n",
      "160 loss : Tensor(\"mean_squared_error_1/value:0\", shape=(), dtype=float32)\n",
      "161 loss : Tensor(\"mean_squared_error_1/value:0\", shape=(), dtype=float32)\n",
      "162 loss : Tensor(\"mean_squared_error_1/value:0\", shape=(), dtype=float32)\n",
      "163 loss : Tensor(\"mean_squared_error_1/value:0\", shape=(), dtype=float32)\n",
      "164 loss : Tensor(\"mean_squared_error_1/value:0\", shape=(), dtype=float32)\n",
      "165 loss : Tensor(\"mean_squared_error_1/value:0\", shape=(), dtype=float32)\n",
      "166 loss : Tensor(\"mean_squared_error_1/value:0\", shape=(), dtype=float32)\n",
      "167 loss : Tensor(\"mean_squared_error_1/value:0\", shape=(), dtype=float32)\n",
      "168 loss : Tensor(\"mean_squared_error_1/value:0\", shape=(), dtype=float32)\n",
      "169 loss : Tensor(\"mean_squared_error_1/value:0\", shape=(), dtype=float32)\n",
      "170 loss : Tensor(\"mean_squared_error_1/value:0\", shape=(), dtype=float32)\n",
      "171 loss : Tensor(\"mean_squared_error_1/value:0\", shape=(), dtype=float32)\n",
      "172 loss : Tensor(\"mean_squared_error_1/value:0\", shape=(), dtype=float32)\n",
      "173 loss : Tensor(\"mean_squared_error_1/value:0\", shape=(), dtype=float32)\n",
      "174 loss : Tensor(\"mean_squared_error_1/value:0\", shape=(), dtype=float32)\n",
      "175 loss : Tensor(\"mean_squared_error_1/value:0\", shape=(), dtype=float32)\n",
      "176 loss : Tensor(\"mean_squared_error_1/value:0\", shape=(), dtype=float32)\n",
      "177 loss : Tensor(\"mean_squared_error_1/value:0\", shape=(), dtype=float32)\n",
      "178 loss : Tensor(\"mean_squared_error_1/value:0\", shape=(), dtype=float32)\n",
      "179 loss : Tensor(\"mean_squared_error_1/value:0\", shape=(), dtype=float32)\n",
      "180 loss : Tensor(\"mean_squared_error_1/value:0\", shape=(), dtype=float32)\n",
      "181 loss : Tensor(\"mean_squared_error_1/value:0\", shape=(), dtype=float32)\n",
      "182 loss : Tensor(\"mean_squared_error_1/value:0\", shape=(), dtype=float32)\n",
      "183 loss : Tensor(\"mean_squared_error_1/value:0\", shape=(), dtype=float32)\n",
      "184 loss : Tensor(\"mean_squared_error_1/value:0\", shape=(), dtype=float32)\n",
      "185 loss : Tensor(\"mean_squared_error_1/value:0\", shape=(), dtype=float32)\n",
      "186 loss : Tensor(\"mean_squared_error_1/value:0\", shape=(), dtype=float32)\n",
      "187 loss : Tensor(\"mean_squared_error_1/value:0\", shape=(), dtype=float32)\n",
      "188 loss : Tensor(\"mean_squared_error_1/value:0\", shape=(), dtype=float32)\n",
      "189 loss : Tensor(\"mean_squared_error_1/value:0\", shape=(), dtype=float32)\n",
      "190 loss : Tensor(\"mean_squared_error_1/value:0\", shape=(), dtype=float32)\n",
      "191 loss : Tensor(\"mean_squared_error_1/value:0\", shape=(), dtype=float32)\n",
      "192 loss : Tensor(\"mean_squared_error_1/value:0\", shape=(), dtype=float32)\n",
      "193 loss : Tensor(\"mean_squared_error_1/value:0\", shape=(), dtype=float32)\n",
      "194 loss : Tensor(\"mean_squared_error_1/value:0\", shape=(), dtype=float32)\n",
      "195 loss : Tensor(\"mean_squared_error_1/value:0\", shape=(), dtype=float32)\n",
      "196 loss : Tensor(\"mean_squared_error_1/value:0\", shape=(), dtype=float32)\n",
      "197 loss : Tensor(\"mean_squared_error_1/value:0\", shape=(), dtype=float32)\n",
      "198 loss : Tensor(\"mean_squared_error_1/value:0\", shape=(), dtype=float32)\n",
      "199 loss : Tensor(\"mean_squared_error_1/value:0\", shape=(), dtype=float32)\n",
      "200 loss : Tensor(\"mean_squared_error_1/value:0\", shape=(), dtype=float32)\n",
      "201 loss : Tensor(\"mean_squared_error_1/value:0\", shape=(), dtype=float32)\n",
      "202 loss : Tensor(\"mean_squared_error_1/value:0\", shape=(), dtype=float32)\n",
      "203 loss : Tensor(\"mean_squared_error_1/value:0\", shape=(), dtype=float32)\n",
      "204 loss : Tensor(\"mean_squared_error_1/value:0\", shape=(), dtype=float32)\n",
      "205 loss : Tensor(\"mean_squared_error_1/value:0\", shape=(), dtype=float32)\n",
      "206 loss : Tensor(\"mean_squared_error_1/value:0\", shape=(), dtype=float32)\n",
      "207 loss : Tensor(\"mean_squared_error_1/value:0\", shape=(), dtype=float32)\n",
      "208 loss : Tensor(\"mean_squared_error_1/value:0\", shape=(), dtype=float32)\n",
      "209 loss : Tensor(\"mean_squared_error_1/value:0\", shape=(), dtype=float32)\n",
      "210 loss : Tensor(\"mean_squared_error_1/value:0\", shape=(), dtype=float32)\n",
      "211 loss : Tensor(\"mean_squared_error_1/value:0\", shape=(), dtype=float32)\n",
      "212 loss : Tensor(\"mean_squared_error_1/value:0\", shape=(), dtype=float32)\n",
      "213 loss : Tensor(\"mean_squared_error_1/value:0\", shape=(), dtype=float32)\n",
      "214 loss : Tensor(\"mean_squared_error_1/value:0\", shape=(), dtype=float32)\n",
      "215 loss : Tensor(\"mean_squared_error_1/value:0\", shape=(), dtype=float32)\n",
      "216 loss : Tensor(\"mean_squared_error_1/value:0\", shape=(), dtype=float32)\n",
      "217 loss : Tensor(\"mean_squared_error_1/value:0\", shape=(), dtype=float32)\n",
      "218 loss : Tensor(\"mean_squared_error_1/value:0\", shape=(), dtype=float32)\n",
      "219 loss : Tensor(\"mean_squared_error_1/value:0\", shape=(), dtype=float32)\n",
      "220 loss : Tensor(\"mean_squared_error_1/value:0\", shape=(), dtype=float32)\n",
      "221 loss : Tensor(\"mean_squared_error_1/value:0\", shape=(), dtype=float32)\n",
      "222 loss : Tensor(\"mean_squared_error_1/value:0\", shape=(), dtype=float32)\n"
     ]
    },
    {
     "name": "stdout",
     "output_type": "stream",
     "text": [
      "223 loss : Tensor(\"mean_squared_error_1/value:0\", shape=(), dtype=float32)\n",
      "224 loss : Tensor(\"mean_squared_error_1/value:0\", shape=(), dtype=float32)\n",
      "225 loss : Tensor(\"mean_squared_error_1/value:0\", shape=(), dtype=float32)\n",
      "226 loss : Tensor(\"mean_squared_error_1/value:0\", shape=(), dtype=float32)\n",
      "227 loss : Tensor(\"mean_squared_error_1/value:0\", shape=(), dtype=float32)\n",
      "228 loss : Tensor(\"mean_squared_error_1/value:0\", shape=(), dtype=float32)\n",
      "229 loss : Tensor(\"mean_squared_error_1/value:0\", shape=(), dtype=float32)\n",
      "230 loss : Tensor(\"mean_squared_error_1/value:0\", shape=(), dtype=float32)\n",
      "231 loss : Tensor(\"mean_squared_error_1/value:0\", shape=(), dtype=float32)\n",
      "232 loss : Tensor(\"mean_squared_error_1/value:0\", shape=(), dtype=float32)\n",
      "233 loss : Tensor(\"mean_squared_error_1/value:0\", shape=(), dtype=float32)\n",
      "234 loss : Tensor(\"mean_squared_error_1/value:0\", shape=(), dtype=float32)\n",
      "235 loss : Tensor(\"mean_squared_error_1/value:0\", shape=(), dtype=float32)\n",
      "236 loss : Tensor(\"mean_squared_error_1/value:0\", shape=(), dtype=float32)\n",
      "237 loss : Tensor(\"mean_squared_error_1/value:0\", shape=(), dtype=float32)\n",
      "238 loss : Tensor(\"mean_squared_error_1/value:0\", shape=(), dtype=float32)\n",
      "239 loss : Tensor(\"mean_squared_error_1/value:0\", shape=(), dtype=float32)\n",
      "240 loss : Tensor(\"mean_squared_error_1/value:0\", shape=(), dtype=float32)\n",
      "241 loss : Tensor(\"mean_squared_error_1/value:0\", shape=(), dtype=float32)\n",
      "242 loss : Tensor(\"mean_squared_error_1/value:0\", shape=(), dtype=float32)\n",
      "243 loss : Tensor(\"mean_squared_error_1/value:0\", shape=(), dtype=float32)\n",
      "244 loss : Tensor(\"mean_squared_error_1/value:0\", shape=(), dtype=float32)\n",
      "245 loss : Tensor(\"mean_squared_error_1/value:0\", shape=(), dtype=float32)\n",
      "246 loss : Tensor(\"mean_squared_error_1/value:0\", shape=(), dtype=float32)\n",
      "247 loss : Tensor(\"mean_squared_error_1/value:0\", shape=(), dtype=float32)\n",
      "248 loss : Tensor(\"mean_squared_error_1/value:0\", shape=(), dtype=float32)\n",
      "249 loss : Tensor(\"mean_squared_error_1/value:0\", shape=(), dtype=float32)\n",
      "250 loss : Tensor(\"mean_squared_error_1/value:0\", shape=(), dtype=float32)\n",
      "251 loss : Tensor(\"mean_squared_error_1/value:0\", shape=(), dtype=float32)\n",
      "252 loss : Tensor(\"mean_squared_error_1/value:0\", shape=(), dtype=float32)\n",
      "253 loss : Tensor(\"mean_squared_error_1/value:0\", shape=(), dtype=float32)\n",
      "254 loss : Tensor(\"mean_squared_error_1/value:0\", shape=(), dtype=float32)\n",
      "255 loss : Tensor(\"mean_squared_error_1/value:0\", shape=(), dtype=float32)\n",
      "256 loss : Tensor(\"mean_squared_error_1/value:0\", shape=(), dtype=float32)\n",
      "257 loss : Tensor(\"mean_squared_error_1/value:0\", shape=(), dtype=float32)\n",
      "258 loss : Tensor(\"mean_squared_error_1/value:0\", shape=(), dtype=float32)\n",
      "259 loss : Tensor(\"mean_squared_error_1/value:0\", shape=(), dtype=float32)\n",
      "260 loss : Tensor(\"mean_squared_error_1/value:0\", shape=(), dtype=float32)\n",
      "261 loss : Tensor(\"mean_squared_error_1/value:0\", shape=(), dtype=float32)\n",
      "262 loss : Tensor(\"mean_squared_error_1/value:0\", shape=(), dtype=float32)\n",
      "263 loss : Tensor(\"mean_squared_error_1/value:0\", shape=(), dtype=float32)\n",
      "264 loss : Tensor(\"mean_squared_error_1/value:0\", shape=(), dtype=float32)\n",
      "265 loss : Tensor(\"mean_squared_error_1/value:0\", shape=(), dtype=float32)\n",
      "266 loss : Tensor(\"mean_squared_error_1/value:0\", shape=(), dtype=float32)\n",
      "267 loss : Tensor(\"mean_squared_error_1/value:0\", shape=(), dtype=float32)\n",
      "268 loss : Tensor(\"mean_squared_error_1/value:0\", shape=(), dtype=float32)\n",
      "269 loss : Tensor(\"mean_squared_error_1/value:0\", shape=(), dtype=float32)\n",
      "270 loss : Tensor(\"mean_squared_error_1/value:0\", shape=(), dtype=float32)\n",
      "271 loss : Tensor(\"mean_squared_error_1/value:0\", shape=(), dtype=float32)\n",
      "272 loss : Tensor(\"mean_squared_error_1/value:0\", shape=(), dtype=float32)\n",
      "273 loss : Tensor(\"mean_squared_error_1/value:0\", shape=(), dtype=float32)\n",
      "274 loss : Tensor(\"mean_squared_error_1/value:0\", shape=(), dtype=float32)\n",
      "275 loss : Tensor(\"mean_squared_error_1/value:0\", shape=(), dtype=float32)\n",
      "276 loss : Tensor(\"mean_squared_error_1/value:0\", shape=(), dtype=float32)\n",
      "277 loss : Tensor(\"mean_squared_error_1/value:0\", shape=(), dtype=float32)\n",
      "278 loss : Tensor(\"mean_squared_error_1/value:0\", shape=(), dtype=float32)\n",
      "279 loss : Tensor(\"mean_squared_error_1/value:0\", shape=(), dtype=float32)\n",
      "280 loss : Tensor(\"mean_squared_error_1/value:0\", shape=(), dtype=float32)\n",
      "281 loss : Tensor(\"mean_squared_error_1/value:0\", shape=(), dtype=float32)\n",
      "282 loss : Tensor(\"mean_squared_error_1/value:0\", shape=(), dtype=float32)\n",
      "283 loss : Tensor(\"mean_squared_error_1/value:0\", shape=(), dtype=float32)\n",
      "284 loss : Tensor(\"mean_squared_error_1/value:0\", shape=(), dtype=float32)\n",
      "285 loss : Tensor(\"mean_squared_error_1/value:0\", shape=(), dtype=float32)\n",
      "286 loss : Tensor(\"mean_squared_error_1/value:0\", shape=(), dtype=float32)\n",
      "287 loss : Tensor(\"mean_squared_error_1/value:0\", shape=(), dtype=float32)\n",
      "288 loss : Tensor(\"mean_squared_error_1/value:0\", shape=(), dtype=float32)\n",
      "289 loss : Tensor(\"mean_squared_error_1/value:0\", shape=(), dtype=float32)\n",
      "290 loss : Tensor(\"mean_squared_error_1/value:0\", shape=(), dtype=float32)\n",
      "291 loss : Tensor(\"mean_squared_error_1/value:0\", shape=(), dtype=float32)\n",
      "292 loss : Tensor(\"mean_squared_error_1/value:0\", shape=(), dtype=float32)\n",
      "293 loss : Tensor(\"mean_squared_error_1/value:0\", shape=(), dtype=float32)\n",
      "294 loss : Tensor(\"mean_squared_error_1/value:0\", shape=(), dtype=float32)\n",
      "295 loss : Tensor(\"mean_squared_error_1/value:0\", shape=(), dtype=float32)\n",
      "296 loss : Tensor(\"mean_squared_error_1/value:0\", shape=(), dtype=float32)\n",
      "297 loss : Tensor(\"mean_squared_error_1/value:0\", shape=(), dtype=float32)\n",
      "298 loss : Tensor(\"mean_squared_error_1/value:0\", shape=(), dtype=float32)\n",
      "299 loss : Tensor(\"mean_squared_error_1/value:0\", shape=(), dtype=float32)\n",
      "300 loss : Tensor(\"mean_squared_error_1/value:0\", shape=(), dtype=float32)\n",
      "301 loss : Tensor(\"mean_squared_error_1/value:0\", shape=(), dtype=float32)\n",
      "302 loss : Tensor(\"mean_squared_error_1/value:0\", shape=(), dtype=float32)\n",
      "303 loss : Tensor(\"mean_squared_error_1/value:0\", shape=(), dtype=float32)\n",
      "304 loss : Tensor(\"mean_squared_error_1/value:0\", shape=(), dtype=float32)\n",
      "305 loss : Tensor(\"mean_squared_error_1/value:0\", shape=(), dtype=float32)\n",
      "306 loss : Tensor(\"mean_squared_error_1/value:0\", shape=(), dtype=float32)\n",
      "307 loss : Tensor(\"mean_squared_error_1/value:0\", shape=(), dtype=float32)\n",
      "308 loss : Tensor(\"mean_squared_error_1/value:0\", shape=(), dtype=float32)\n",
      "309 loss : Tensor(\"mean_squared_error_1/value:0\", shape=(), dtype=float32)\n",
      "310 loss : Tensor(\"mean_squared_error_1/value:0\", shape=(), dtype=float32)\n",
      "311 loss : Tensor(\"mean_squared_error_1/value:0\", shape=(), dtype=float32)\n",
      "312 loss : Tensor(\"mean_squared_error_1/value:0\", shape=(), dtype=float32)\n",
      "313 loss : Tensor(\"mean_squared_error_1/value:0\", shape=(), dtype=float32)\n",
      "314 loss : Tensor(\"mean_squared_error_1/value:0\", shape=(), dtype=float32)\n",
      "315 loss : Tensor(\"mean_squared_error_1/value:0\", shape=(), dtype=float32)\n",
      "316 loss : Tensor(\"mean_squared_error_1/value:0\", shape=(), dtype=float32)\n",
      "317 loss : Tensor(\"mean_squared_error_1/value:0\", shape=(), dtype=float32)\n",
      "318 loss : Tensor(\"mean_squared_error_1/value:0\", shape=(), dtype=float32)\n",
      "319 loss : Tensor(\"mean_squared_error_1/value:0\", shape=(), dtype=float32)\n",
      "320 loss : Tensor(\"mean_squared_error_1/value:0\", shape=(), dtype=float32)\n",
      "321 loss : Tensor(\"mean_squared_error_1/value:0\", shape=(), dtype=float32)\n",
      "322 loss : Tensor(\"mean_squared_error_1/value:0\", shape=(), dtype=float32)\n",
      "323 loss : Tensor(\"mean_squared_error_1/value:0\", shape=(), dtype=float32)\n",
      "324 loss : Tensor(\"mean_squared_error_1/value:0\", shape=(), dtype=float32)\n",
      "325 loss : Tensor(\"mean_squared_error_1/value:0\", shape=(), dtype=float32)\n",
      "326 loss : Tensor(\"mean_squared_error_1/value:0\", shape=(), dtype=float32)\n",
      "327 loss : Tensor(\"mean_squared_error_1/value:0\", shape=(), dtype=float32)\n",
      "328 loss : Tensor(\"mean_squared_error_1/value:0\", shape=(), dtype=float32)\n",
      "329 loss : Tensor(\"mean_squared_error_1/value:0\", shape=(), dtype=float32)\n",
      "330 loss : Tensor(\"mean_squared_error_1/value:0\", shape=(), dtype=float32)\n",
      "331 loss : Tensor(\"mean_squared_error_1/value:0\", shape=(), dtype=float32)\n",
      "332 loss : Tensor(\"mean_squared_error_1/value:0\", shape=(), dtype=float32)\n",
      "333 loss : Tensor(\"mean_squared_error_1/value:0\", shape=(), dtype=float32)\n",
      "334 loss : Tensor(\"mean_squared_error_1/value:0\", shape=(), dtype=float32)\n",
      "335 loss : Tensor(\"mean_squared_error_1/value:0\", shape=(), dtype=float32)\n",
      "336 loss : Tensor(\"mean_squared_error_1/value:0\", shape=(), dtype=float32)\n",
      "337 loss : Tensor(\"mean_squared_error_1/value:0\", shape=(), dtype=float32)\n",
      "338 loss : Tensor(\"mean_squared_error_1/value:0\", shape=(), dtype=float32)\n",
      "339 loss : Tensor(\"mean_squared_error_1/value:0\", shape=(), dtype=float32)\n",
      "340 loss : Tensor(\"mean_squared_error_1/value:0\", shape=(), dtype=float32)\n",
      "341 loss : Tensor(\"mean_squared_error_1/value:0\", shape=(), dtype=float32)\n",
      "342 loss : Tensor(\"mean_squared_error_1/value:0\", shape=(), dtype=float32)\n",
      "343 loss : Tensor(\"mean_squared_error_1/value:0\", shape=(), dtype=float32)\n",
      "344 loss : Tensor(\"mean_squared_error_1/value:0\", shape=(), dtype=float32)\n",
      "345 loss : Tensor(\"mean_squared_error_1/value:0\", shape=(), dtype=float32)\n",
      "346 loss : Tensor(\"mean_squared_error_1/value:0\", shape=(), dtype=float32)\n",
      "347 loss : Tensor(\"mean_squared_error_1/value:0\", shape=(), dtype=float32)\n",
      "348 loss : Tensor(\"mean_squared_error_1/value:0\", shape=(), dtype=float32)\n",
      "349 loss : Tensor(\"mean_squared_error_1/value:0\", shape=(), dtype=float32)\n",
      "350 loss : Tensor(\"mean_squared_error_1/value:0\", shape=(), dtype=float32)\n",
      "351 loss : Tensor(\"mean_squared_error_1/value:0\", shape=(), dtype=float32)\n",
      "352 loss : Tensor(\"mean_squared_error_1/value:0\", shape=(), dtype=float32)\n",
      "353 loss : Tensor(\"mean_squared_error_1/value:0\", shape=(), dtype=float32)\n",
      "354 loss : Tensor(\"mean_squared_error_1/value:0\", shape=(), dtype=float32)\n",
      "355 loss : Tensor(\"mean_squared_error_1/value:0\", shape=(), dtype=float32)\n",
      "356 loss : Tensor(\"mean_squared_error_1/value:0\", shape=(), dtype=float32)\n",
      "357 loss : Tensor(\"mean_squared_error_1/value:0\", shape=(), dtype=float32)\n",
      "358 loss : Tensor(\"mean_squared_error_1/value:0\", shape=(), dtype=float32)\n",
      "359 loss : Tensor(\"mean_squared_error_1/value:0\", shape=(), dtype=float32)\n",
      "360 loss : Tensor(\"mean_squared_error_1/value:0\", shape=(), dtype=float32)\n",
      "361 loss : Tensor(\"mean_squared_error_1/value:0\", shape=(), dtype=float32)\n",
      "362 loss : Tensor(\"mean_squared_error_1/value:0\", shape=(), dtype=float32)\n",
      "363 loss : Tensor(\"mean_squared_error_1/value:0\", shape=(), dtype=float32)\n",
      "364 loss : Tensor(\"mean_squared_error_1/value:0\", shape=(), dtype=float32)\n",
      "365 loss : Tensor(\"mean_squared_error_1/value:0\", shape=(), dtype=float32)\n",
      "366 loss : Tensor(\"mean_squared_error_1/value:0\", shape=(), dtype=float32)\n",
      "367 loss : Tensor(\"mean_squared_error_1/value:0\", shape=(), dtype=float32)\n",
      "368 loss : Tensor(\"mean_squared_error_1/value:0\", shape=(), dtype=float32)\n",
      "369 loss : Tensor(\"mean_squared_error_1/value:0\", shape=(), dtype=float32)\n",
      "370 loss : Tensor(\"mean_squared_error_1/value:0\", shape=(), dtype=float32)\n",
      "371 loss : Tensor(\"mean_squared_error_1/value:0\", shape=(), dtype=float32)\n",
      "372 loss : Tensor(\"mean_squared_error_1/value:0\", shape=(), dtype=float32)\n"
     ]
    },
    {
     "name": "stdout",
     "output_type": "stream",
     "text": [
      "373 loss : Tensor(\"mean_squared_error_1/value:0\", shape=(), dtype=float32)\n",
      "374 loss : Tensor(\"mean_squared_error_1/value:0\", shape=(), dtype=float32)\n",
      "375 loss : Tensor(\"mean_squared_error_1/value:0\", shape=(), dtype=float32)\n",
      "376 loss : Tensor(\"mean_squared_error_1/value:0\", shape=(), dtype=float32)\n",
      "377 loss : Tensor(\"mean_squared_error_1/value:0\", shape=(), dtype=float32)\n",
      "378 loss : Tensor(\"mean_squared_error_1/value:0\", shape=(), dtype=float32)\n",
      "379 loss : Tensor(\"mean_squared_error_1/value:0\", shape=(), dtype=float32)\n",
      "380 loss : Tensor(\"mean_squared_error_1/value:0\", shape=(), dtype=float32)\n",
      "381 loss : Tensor(\"mean_squared_error_1/value:0\", shape=(), dtype=float32)\n",
      "382 loss : Tensor(\"mean_squared_error_1/value:0\", shape=(), dtype=float32)\n",
      "383 loss : Tensor(\"mean_squared_error_1/value:0\", shape=(), dtype=float32)\n",
      "384 loss : Tensor(\"mean_squared_error_1/value:0\", shape=(), dtype=float32)\n",
      "385 loss : Tensor(\"mean_squared_error_1/value:0\", shape=(), dtype=float32)\n",
      "386 loss : Tensor(\"mean_squared_error_1/value:0\", shape=(), dtype=float32)\n",
      "387 loss : Tensor(\"mean_squared_error_1/value:0\", shape=(), dtype=float32)\n",
      "388 loss : Tensor(\"mean_squared_error_1/value:0\", shape=(), dtype=float32)\n",
      "389 loss : Tensor(\"mean_squared_error_1/value:0\", shape=(), dtype=float32)\n",
      "390 loss : Tensor(\"mean_squared_error_1/value:0\", shape=(), dtype=float32)\n",
      "391 loss : Tensor(\"mean_squared_error_1/value:0\", shape=(), dtype=float32)\n",
      "392 loss : Tensor(\"mean_squared_error_1/value:0\", shape=(), dtype=float32)\n",
      "393 loss : Tensor(\"mean_squared_error_1/value:0\", shape=(), dtype=float32)\n",
      "394 loss : Tensor(\"mean_squared_error_1/value:0\", shape=(), dtype=float32)\n",
      "395 loss : Tensor(\"mean_squared_error_1/value:0\", shape=(), dtype=float32)\n",
      "396 loss : Tensor(\"mean_squared_error_1/value:0\", shape=(), dtype=float32)\n",
      "397 loss : Tensor(\"mean_squared_error_1/value:0\", shape=(), dtype=float32)\n",
      "398 loss : Tensor(\"mean_squared_error_1/value:0\", shape=(), dtype=float32)\n",
      "399 loss : Tensor(\"mean_squared_error_1/value:0\", shape=(), dtype=float32)\n",
      "400 loss : Tensor(\"mean_squared_error_1/value:0\", shape=(), dtype=float32)\n",
      "401 loss : Tensor(\"mean_squared_error_1/value:0\", shape=(), dtype=float32)\n",
      "402 loss : Tensor(\"mean_squared_error_1/value:0\", shape=(), dtype=float32)\n",
      "403 loss : Tensor(\"mean_squared_error_1/value:0\", shape=(), dtype=float32)\n",
      "404 loss : Tensor(\"mean_squared_error_1/value:0\", shape=(), dtype=float32)\n",
      "405 loss : Tensor(\"mean_squared_error_1/value:0\", shape=(), dtype=float32)\n",
      "406 loss : Tensor(\"mean_squared_error_1/value:0\", shape=(), dtype=float32)\n",
      "407 loss : Tensor(\"mean_squared_error_1/value:0\", shape=(), dtype=float32)\n",
      "408 loss : Tensor(\"mean_squared_error_1/value:0\", shape=(), dtype=float32)\n",
      "409 loss : Tensor(\"mean_squared_error_1/value:0\", shape=(), dtype=float32)\n",
      "410 loss : Tensor(\"mean_squared_error_1/value:0\", shape=(), dtype=float32)\n",
      "411 loss : Tensor(\"mean_squared_error_1/value:0\", shape=(), dtype=float32)\n",
      "412 loss : Tensor(\"mean_squared_error_1/value:0\", shape=(), dtype=float32)\n",
      "413 loss : Tensor(\"mean_squared_error_1/value:0\", shape=(), dtype=float32)\n",
      "414 loss : Tensor(\"mean_squared_error_1/value:0\", shape=(), dtype=float32)\n",
      "415 loss : Tensor(\"mean_squared_error_1/value:0\", shape=(), dtype=float32)\n",
      "416 loss : Tensor(\"mean_squared_error_1/value:0\", shape=(), dtype=float32)\n",
      "417 loss : Tensor(\"mean_squared_error_1/value:0\", shape=(), dtype=float32)\n",
      "418 loss : Tensor(\"mean_squared_error_1/value:0\", shape=(), dtype=float32)\n",
      "419 loss : Tensor(\"mean_squared_error_1/value:0\", shape=(), dtype=float32)\n",
      "420 loss : Tensor(\"mean_squared_error_1/value:0\", shape=(), dtype=float32)\n",
      "421 loss : Tensor(\"mean_squared_error_1/value:0\", shape=(), dtype=float32)\n",
      "422 loss : Tensor(\"mean_squared_error_1/value:0\", shape=(), dtype=float32)\n",
      "423 loss : Tensor(\"mean_squared_error_1/value:0\", shape=(), dtype=float32)\n",
      "424 loss : Tensor(\"mean_squared_error_1/value:0\", shape=(), dtype=float32)\n",
      "425 loss : Tensor(\"mean_squared_error_1/value:0\", shape=(), dtype=float32)\n",
      "426 loss : Tensor(\"mean_squared_error_1/value:0\", shape=(), dtype=float32)\n",
      "427 loss : Tensor(\"mean_squared_error_1/value:0\", shape=(), dtype=float32)\n",
      "428 loss : Tensor(\"mean_squared_error_1/value:0\", shape=(), dtype=float32)\n",
      "429 loss : Tensor(\"mean_squared_error_1/value:0\", shape=(), dtype=float32)\n",
      "430 loss : Tensor(\"mean_squared_error_1/value:0\", shape=(), dtype=float32)\n",
      "431 loss : Tensor(\"mean_squared_error_1/value:0\", shape=(), dtype=float32)\n",
      "432 loss : Tensor(\"mean_squared_error_1/value:0\", shape=(), dtype=float32)\n",
      "433 loss : Tensor(\"mean_squared_error_1/value:0\", shape=(), dtype=float32)\n",
      "434 loss : Tensor(\"mean_squared_error_1/value:0\", shape=(), dtype=float32)\n",
      "435 loss : Tensor(\"mean_squared_error_1/value:0\", shape=(), dtype=float32)\n",
      "436 loss : Tensor(\"mean_squared_error_1/value:0\", shape=(), dtype=float32)\n",
      "437 loss : Tensor(\"mean_squared_error_1/value:0\", shape=(), dtype=float32)\n",
      "438 loss : Tensor(\"mean_squared_error_1/value:0\", shape=(), dtype=float32)\n",
      "439 loss : Tensor(\"mean_squared_error_1/value:0\", shape=(), dtype=float32)\n",
      "440 loss : Tensor(\"mean_squared_error_1/value:0\", shape=(), dtype=float32)\n",
      "441 loss : Tensor(\"mean_squared_error_1/value:0\", shape=(), dtype=float32)\n",
      "442 loss : Tensor(\"mean_squared_error_1/value:0\", shape=(), dtype=float32)\n",
      "443 loss : Tensor(\"mean_squared_error_1/value:0\", shape=(), dtype=float32)\n",
      "444 loss : Tensor(\"mean_squared_error_1/value:0\", shape=(), dtype=float32)\n",
      "445 loss : Tensor(\"mean_squared_error_1/value:0\", shape=(), dtype=float32)\n",
      "446 loss : Tensor(\"mean_squared_error_1/value:0\", shape=(), dtype=float32)\n",
      "447 loss : Tensor(\"mean_squared_error_1/value:0\", shape=(), dtype=float32)\n",
      "448 loss : Tensor(\"mean_squared_error_1/value:0\", shape=(), dtype=float32)\n",
      "449 loss : Tensor(\"mean_squared_error_1/value:0\", shape=(), dtype=float32)\n",
      "450 loss : Tensor(\"mean_squared_error_1/value:0\", shape=(), dtype=float32)\n",
      "451 loss : Tensor(\"mean_squared_error_1/value:0\", shape=(), dtype=float32)\n",
      "452 loss : Tensor(\"mean_squared_error_1/value:0\", shape=(), dtype=float32)\n",
      "453 loss : Tensor(\"mean_squared_error_1/value:0\", shape=(), dtype=float32)\n",
      "454 loss : Tensor(\"mean_squared_error_1/value:0\", shape=(), dtype=float32)\n",
      "455 loss : Tensor(\"mean_squared_error_1/value:0\", shape=(), dtype=float32)\n",
      "456 loss : Tensor(\"mean_squared_error_1/value:0\", shape=(), dtype=float32)\n",
      "457 loss : Tensor(\"mean_squared_error_1/value:0\", shape=(), dtype=float32)\n",
      "458 loss : Tensor(\"mean_squared_error_1/value:0\", shape=(), dtype=float32)\n",
      "459 loss : Tensor(\"mean_squared_error_1/value:0\", shape=(), dtype=float32)\n",
      "460 loss : Tensor(\"mean_squared_error_1/value:0\", shape=(), dtype=float32)\n",
      "461 loss : Tensor(\"mean_squared_error_1/value:0\", shape=(), dtype=float32)\n",
      "462 loss : Tensor(\"mean_squared_error_1/value:0\", shape=(), dtype=float32)\n",
      "463 loss : Tensor(\"mean_squared_error_1/value:0\", shape=(), dtype=float32)\n",
      "464 loss : Tensor(\"mean_squared_error_1/value:0\", shape=(), dtype=float32)\n",
      "465 loss : Tensor(\"mean_squared_error_1/value:0\", shape=(), dtype=float32)\n",
      "466 loss : Tensor(\"mean_squared_error_1/value:0\", shape=(), dtype=float32)\n",
      "467 loss : Tensor(\"mean_squared_error_1/value:0\", shape=(), dtype=float32)\n",
      "468 loss : Tensor(\"mean_squared_error_1/value:0\", shape=(), dtype=float32)\n",
      "469 loss : Tensor(\"mean_squared_error_1/value:0\", shape=(), dtype=float32)\n",
      "470 loss : Tensor(\"mean_squared_error_1/value:0\", shape=(), dtype=float32)\n",
      "471 loss : Tensor(\"mean_squared_error_1/value:0\", shape=(), dtype=float32)\n",
      "472 loss : Tensor(\"mean_squared_error_1/value:0\", shape=(), dtype=float32)\n",
      "473 loss : Tensor(\"mean_squared_error_1/value:0\", shape=(), dtype=float32)\n",
      "474 loss : Tensor(\"mean_squared_error_1/value:0\", shape=(), dtype=float32)\n",
      "475 loss : Tensor(\"mean_squared_error_1/value:0\", shape=(), dtype=float32)\n",
      "476 loss : Tensor(\"mean_squared_error_1/value:0\", shape=(), dtype=float32)\n",
      "477 loss : Tensor(\"mean_squared_error_1/value:0\", shape=(), dtype=float32)\n",
      "478 loss : Tensor(\"mean_squared_error_1/value:0\", shape=(), dtype=float32)\n",
      "479 loss : Tensor(\"mean_squared_error_1/value:0\", shape=(), dtype=float32)\n",
      "480 loss : Tensor(\"mean_squared_error_1/value:0\", shape=(), dtype=float32)\n",
      "481 loss : Tensor(\"mean_squared_error_1/value:0\", shape=(), dtype=float32)\n",
      "482 loss : Tensor(\"mean_squared_error_1/value:0\", shape=(), dtype=float32)\n",
      "483 loss : Tensor(\"mean_squared_error_1/value:0\", shape=(), dtype=float32)\n",
      "484 loss : Tensor(\"mean_squared_error_1/value:0\", shape=(), dtype=float32)\n",
      "485 loss : Tensor(\"mean_squared_error_1/value:0\", shape=(), dtype=float32)\n",
      "486 loss : Tensor(\"mean_squared_error_1/value:0\", shape=(), dtype=float32)\n",
      "487 loss : Tensor(\"mean_squared_error_1/value:0\", shape=(), dtype=float32)\n",
      "488 loss : Tensor(\"mean_squared_error_1/value:0\", shape=(), dtype=float32)\n",
      "489 loss : Tensor(\"mean_squared_error_1/value:0\", shape=(), dtype=float32)\n",
      "490 loss : Tensor(\"mean_squared_error_1/value:0\", shape=(), dtype=float32)\n",
      "491 loss : Tensor(\"mean_squared_error_1/value:0\", shape=(), dtype=float32)\n",
      "492 loss : Tensor(\"mean_squared_error_1/value:0\", shape=(), dtype=float32)\n",
      "493 loss : Tensor(\"mean_squared_error_1/value:0\", shape=(), dtype=float32)\n",
      "494 loss : Tensor(\"mean_squared_error_1/value:0\", shape=(), dtype=float32)\n",
      "495 loss : Tensor(\"mean_squared_error_1/value:0\", shape=(), dtype=float32)\n",
      "496 loss : Tensor(\"mean_squared_error_1/value:0\", shape=(), dtype=float32)\n",
      "497 loss : Tensor(\"mean_squared_error_1/value:0\", shape=(), dtype=float32)\n",
      "498 loss : Tensor(\"mean_squared_error_1/value:0\", shape=(), dtype=float32)\n",
      "499 loss : Tensor(\"mean_squared_error_1/value:0\", shape=(), dtype=float32)\n"
     ]
    }
   ],
   "source": [
    "with tf.Session() as sess:\n",
    "    init.run()\n",
    "    for epoch in range(n_epochs):\n",
    "        sess.run(training_op, feed_dict={X: coco_train, y: MET_train})\n",
    "        #acc_train = accuracy.eval(feed_dict={X: X_batch, y: y_batch})\n",
    "        #acc_val = accuracy.eval(feed_dict={X: mnist.validation.images,\n",
    "        #                                    y: mnist.validation.labels})\n",
    "        print(epoch, \"loss :\", loss)\n",
    "\n",
    "    save_path = saver.save(sess, \"./dnn0319.ckpt\")"
   ]
  },
  {
   "cell_type": "code",
   "execution_count": 418,
   "metadata": {},
   "outputs": [
    {
     "name": "stdout",
     "output_type": "stream",
     "text": [
      "INFO:tensorflow:Restoring parameters from ./my_model_final.ckpt\n"
     ]
    }
   ],
   "source": [
    "with tf.Session() as sess:\n",
    "    saver.restore(sess, \"./my_model_final.ckpt\") # or better, use save_path\n",
    "    X_new_scaled = coco_test\n",
    "    y_pred = logits.eval(feed_dict={X: X_new_scaled})\n",
    "    #y_pred = np.argmax(Z, axis=1)"
   ]
  },
  {
   "cell_type": "code",
   "execution_count": 414,
   "metadata": {},
   "outputs": [
    {
     "name": "stdout",
     "output_type": "stream",
     "text": [
      "Predicted classes: [[ nan]\n",
      " [ nan]\n",
      " [ nan]\n",
      " [ nan]\n",
      " [ nan]\n",
      " [ nan]\n",
      " [ nan]\n",
      " [ nan]\n",
      " [ nan]\n",
      " [ nan]]\n",
      "Actual classes:    [[ 0.7]\n",
      " [ 0.7]\n",
      " [ 1. ]\n",
      " [ 1. ]\n",
      " [ 1.2]\n",
      " [ 1.2]\n",
      " [ 1.2]\n",
      " [ 1.2]\n",
      " [ 1.8]\n",
      " [ 1.8]]\n"
     ]
    }
   ],
   "source": [
    "print(\"Predicted classes:\", y_pred)\n",
    "print(\"Actual classes:   \", MET_test)"
   ]
  },
  {
   "cell_type": "markdown",
   "metadata": {},
   "source": [
    "# MNIST"
   ]
  },
  {
   "cell_type": "code",
   "execution_count": 19,
   "metadata": {},
   "outputs": [],
   "source": [
    "import tensorflow as tf\n",
    "from numpy.random import multivariate_normal, permutation\n",
    "from pandas import DataFrame, Series\n",
    "\n",
    "np.random.seed(20180319)"
   ]
  },
  {
   "cell_type": "markdown",
   "metadata": {},
   "source": [
    "소프트맥스 함수에 의한 확률 p 계산식을 준비한다."
   ]
  },
  {
   "cell_type": "code",
   "execution_count": 29,
   "metadata": {},
   "outputs": [],
   "source": [
    "\n",
    "x = tf.placeholder(tf.float32, [None, 28])\n",
    "w = tf.Variable(tf.zeros([28, 11]))\n",
    "w0 = tf.Variable(tf.zeros([11]))\n",
    "f = tf.matmul(x, w) + w0\n",
    "p = tf.nn.softmax(f)"
   ]
  },
  {
   "cell_type": "markdown",
   "metadata": {},
   "source": [
    "오차 함수 loss와 트레이닝 알고리즘 train_step을 준비한다."
   ]
  },
  {
   "cell_type": "code",
   "execution_count": 30,
   "metadata": {},
   "outputs": [],
   "source": [
    "t = tf.placeholder(tf.float32, [None, 11])\n",
    "loss = -tf.reduce_sum(t * tf.log(p))\n",
    "train_step = tf.train.AdamOptimizer().minimize(loss)"
   ]
  },
  {
   "cell_type": "markdown",
   "metadata": {},
   "source": [
    "정답률 accuracy를 정의한다."
   ]
  },
  {
   "cell_type": "code",
   "execution_count": 36,
   "metadata": {},
   "outputs": [],
   "source": [
    "correct_prediction = tf.equal(tf.argmax(p, 1), tf.argmax(t, 1))\n",
    "accuracy = tf.reduce_mean(tf.cast(correct_prediction, tf.float32))"
   ]
  },
  {
   "cell_type": "markdown",
   "metadata": {},
   "source": [
    "세션을 준비하고 Variable을 초기화한다."
   ]
  },
  {
   "cell_type": "code",
   "execution_count": 23,
   "metadata": {},
   "outputs": [],
   "source": [
    "sess = tf.InteractiveSession()\n",
    "sess.run(tf.global_variables_initializer())"
   ]
  },
  {
   "cell_type": "markdown",
   "metadata": {},
   "source": [
    "파라미터 최적화를 2000회 반복한다.\n",
    "\n",
    "1회 실행할 때마다 트레이닝 세트에서 추출한 100개의 데이터를 이용해 경사 하강법을 적용한다.\n",
    "\n",
    "최종적으로 테스트 세트에 대해 약 92%의 정답률을 얻을 수 있다."
   ]
  },
  {
   "cell_type": "markdown",
   "metadata": {},
   "source": [
    "#### coco의 구조 변경\n",
    "\n",
    "    [100,14,2]를 [100,14]로 바꾸고 [x,y]를 14안에 포함하도록...좌표로 표현 가능?"
   ]
  },
  {
   "cell_type": "code",
   "execution_count": 24,
   "metadata": {},
   "outputs": [
    {
     "ename": "SyntaxError",
     "evalue": "invalid syntax (<ipython-input-24-f8d1be0104ca>, line 1)",
     "output_type": "error",
     "traceback": [
      "\u001b[0;36m  File \u001b[0;32m\"<ipython-input-24-f8d1be0104ca>\"\u001b[0;36m, line \u001b[0;32m1\u001b[0m\n\u001b[0;31m    for i in range()\u001b[0m\n\u001b[0m                    ^\u001b[0m\n\u001b[0;31mSyntaxError\u001b[0m\u001b[0;31m:\u001b[0m invalid syntax\n"
     ]
    }
   ],
   "source": [
    "for i in range()"
   ]
  },
  {
   "cell_type": "code",
   "execution_count": null,
   "metadata": {},
   "outputs": [],
   "source": [
    "i = 0\n",
    "for _ in range(2000):\n",
    "    i += 1\n",
    "    coco_x=coco\n",
    "    MET_t=MET\n",
    "    sess.run(train_step, feed_dict={x: coco_x, t: MET_t})\n",
    "#    if i % 100 == 0:\n",
    "#        loss_val, acc_val = sess.run([loss, accuracy],\n",
    "#            feed_dict={x:mnist.test.images, t: mnist.test.labels})\n",
    "#        print ('Step: %d, Loss: %f, Accuracy: %f'\n",
    "#               % (i, loss_val, acc_val))"
   ]
  },
  {
   "cell_type": "code",
   "execution_count": null,
   "metadata": {},
   "outputs": [],
   "source": []
  }
 ],
 "metadata": {
  "kernelspec": {
   "display_name": "Python 3",
   "language": "python",
   "name": "python3"
  },
  "language_info": {
   "codemirror_mode": {
    "name": "ipython",
    "version": 3
   },
   "file_extension": ".py",
   "mimetype": "text/x-python",
   "name": "python",
   "nbconvert_exporter": "python",
   "pygments_lexer": "ipython3",
   "version": "3.5.2"
  }
 },
 "nbformat": 4,
 "nbformat_minor": 2
}
