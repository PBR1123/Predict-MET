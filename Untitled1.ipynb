{
 "cells": [
  {
   "cell_type": "code",
   "execution_count": 3,
   "metadata": {},
   "outputs": [],
   "source": [
    "from pandas import Series, DataFrame\n",
    "import numpy as np"
   ]
  },
  {
   "cell_type": "code",
   "execution_count": 7,
   "metadata": {},
   "outputs": [
    {
     "name": "stdout",
     "output_type": "stream",
     "text": [
      "      0\n",
      "0  1000\n",
      "1  2000\n",
      "2  3000\n",
      "3  4000\n",
      "       0\n",
      "i1  1000\n",
      "i2  2000\n",
      "i3  3000\n",
      "i4  4000\n",
      "      c1\n",
      "i1  1000\n",
      "i2  2000\n",
      "i3  3000\n",
      "i4  4000\n",
      "----------------------------------------------------------------------------------------------------{[1]}\n",
      "   c1  c2   c3\n",
      "0   1  11  111\n",
      "1   2  22  222\n",
      "2   3  33  333\n",
      "    c1  c2   c3\n",
      "i1   1  11  111\n",
      "i2   2  22  222\n",
      "i3   3  33  333\n",
      "----------------------------------------------------------------------------------------------------{[2]}\n"
     ]
    }
   ],
   "source": [
    "df = DataFrame([1000, 2000, 3000, 4000])\n",
    "print(df)\n",
    " \n",
    "df = DataFrame([1000, 2000, 3000, 4000], index=[\"i1\", \"i2\", \"i3\", \"i4\"])\n",
    "print(df)\n",
    " \n",
    "df = DataFrame({\"c1\":[1000, 2000, 3000, 4000]}, index=[\"i1\", \"i2\", \"i3\", \"i4\"])\n",
    "print(df)\n",
    "\n",
    "print(\"-\" * 100 + \"{[1]}\") # ----- #\n",
    " \n",
    "# -- 여러 컬럼 데이터프레임 생성\n",
    "df2 = DataFrame({\"c1\":[1,2,3], \"c2\":[11,22,33], \"c3\":[111,222,333]})\n",
    "print (df2)\n",
    " \n",
    "df2 = DataFrame({\"c1\":[1,2,3], \"c2\":[11,22,33], \"c3\":[111,222,333]}, index=[\"i1\",\"i2\",\"i3\"])\n",
    "print (df2)\n",
    " \n",
    "print(\"-\" * 100 + \"{[2]}\") # ----- #\n"
   ]
  },
  {
   "cell_type": "code",
   "execution_count": 14,
   "metadata": {},
   "outputs": [
    {
     "name": "stdout",
     "output_type": "stream",
     "text": [
      "    c1  c2  c3\n",
      "i1   1  11  12\n",
      "i2   2  22  24\n",
      "i3   3  33  36\n",
      "    c1  c2   c3\n",
      "i1   1  11  111\n",
      "i2   2  22  111\n",
      "i3   3  33  111\n",
      "----------------------------------------------------------------------------------------------------{[18]}\n",
      "    c1  c2   c3 newC4\n",
      "i1   1  11  111     a\n",
      "i2   2  22  111     b\n",
      "i3   3  33  111     c\n",
      "    c1  c2   c3  newC4\n",
      "i1   1  11  111    111\n",
      "i2   2  22  111    222\n",
      "i3   3  33  111    333\n",
      "      c1    c2    c3  newC4\n",
      "i1     1    11   111    111\n",
      "i2  2000  2000  2000   2000\n",
      "i3     3    33   111    333\n",
      "----------------------------------------------------------------------------------------------------{[19]}\n"
     ]
    },
    {
     "name": "stderr",
     "output_type": "stream",
     "text": [
      "/home/ejjchl77/eunjivenv/lib/python3.5/site-packages/ipykernel_launcher.py:20: DeprecationWarning: \n",
      ".ix is deprecated. Please use\n",
      ".loc for label based indexing or\n",
      ".iloc for positional indexing\n",
      "\n",
      "See the documentation here:\n",
      "http://pandas.pydata.org/pandas-docs/stable/indexing.html#ix-indexer-is-deprecated\n"
     ]
    }
   ],
   "source": [
    "df2 = DataFrame({\"c1\":[1,2,3], \"c2\":[11,22,33], \"c3\":[111,222,333]}, index=[\"i1\",\"i2\",\"i3\"])\n",
    " \n",
    "# -- 컬럼값 전체 변경\n",
    "df2[\"c3\"] = df2[\"c1\"] + df2[\"c2\"]\n",
    "print (df2)\n",
    " \n",
    "df2[\"c3\"] = 111\n",
    "print (df2)\n",
    " \n",
    "print(\"-\" * 100 + \"{[18]}\") # ----- #\n",
    " \n",
    "# -- 컬럼 추가 후 데이터 입력\n",
    "df2[\"newC4\"] = [\"a\",\"b\",\"c\"]\n",
    "print (df2)\n",
    " \n",
    "# -- 컬럼 데이터 수정\n",
    "df2[\"newC4\"] = [111,222,333]\n",
    "print (df2)\n",
    " \n",
    "df2.ix[1] = 2000\n",
    "print (df2)\n",
    " \n",
    "print(\"-\" * 100 + \"{[19]}\")\n"
   ]
  },
  {
   "cell_type": "code",
   "execution_count": 15,
   "metadata": {},
   "outputs": [
    {
     "name": "stdout",
     "output_type": "stream",
     "text": [
      "    c1   c3\n",
      "i1   1  111\n",
      "i2   2  222\n",
      "i3   3  333\n",
      "    c2\n",
      "i1  11\n",
      "i2  22\n",
      "i3  33\n",
      "i1    11\n",
      "i2    22\n",
      "i3    33\n",
      "Name: c2, dtype: int64\n"
     ]
    }
   ],
   "source": [
    "df = DataFrame([1000, 2000, 3000, 4000], index=[\"i1\",\"i2\",\"i3\",\"i4\"])\n",
    "df2 = DataFrame({\"c1\":[1,2,3], \"c2\":[11,22,33], \"c3\":[111,222,333]}, index=[\"i1\",\"i2\",\"i3\"])\n",
    " \n",
    "# -- 데이터 추출 : 컬럼단위\n",
    "print (df2[[\"c1\",\"c3\"]])\n",
    "print (df2[[\"c2\"]] )        # 인덱스와 컬럼명까지 출력\n",
    "print (df2[\"c2\"] )\n"
   ]
  },
  {
   "cell_type": "code",
   "execution_count": null,
   "metadata": {},
   "outputs": [],
   "source": []
  }
 ],
 "metadata": {
  "kernelspec": {
   "display_name": "Python 3",
   "language": "python",
   "name": "python3"
  },
  "language_info": {
   "codemirror_mode": {
    "name": "ipython",
    "version": 3
   },
   "file_extension": ".py",
   "mimetype": "text/x-python",
   "name": "python",
   "nbconvert_exporter": "python",
   "pygments_lexer": "ipython3",
   "version": "3.5.2"
  }
 },
 "nbformat": 4,
 "nbformat_minor": 2
}
