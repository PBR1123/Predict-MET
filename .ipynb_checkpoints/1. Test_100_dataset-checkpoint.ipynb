{
 "cells": [
  {
   "cell_type": "markdown",
   "metadata": {},
   "source": [
    "# 좌표값으로 MET 값 예측\n",
    "14개의 좌표(x,y)값을 활용하여 MET 값을 예측해보기 \n",
    "\n",
    "Data : 100개 <br>\n",
    "좌표 개수 : 14개\n"
   ]
  },
  {
   "cell_type": "markdown",
   "metadata": {},
   "source": [
    "## --------------------------------------------------------------------------------------\n",
    "## Data 구조 처리\n",
    "학습용으로 사용하기 위한 이미지 데이터와 좌푯값 전처리 코드.\n",
    "\n",
    "CSV 구성 형식\n",
    "- 이미지 경로 , 관절좌표1, 관절좌표2, ... , 관절좌표14, MET Score\n",
    "\n",
    "처리 형식\n",
    "- 전체 데이터세트 이미지 최대 크기와 평균 크기 측정 -> 이미지 크기 조정\n",
    "  크기 조정 비율에 따른 좌표값 재처리\n"
   ]
  },
  {
   "cell_type": "code",
   "execution_count": 1,
   "metadata": {},
   "outputs": [],
   "source": [
    "import numpy as np # Numpy 배열 사용용도\n",
    "import matplotlib.pyplot as plt # 이미지출력 용도\n",
    "import pandas as pd # csv 파일을 pandas 프레임으로 호출 용도\n",
    "import skimage\n",
    "from skimage import io, transform # 이미지 불러오기 및 저장용도\n",
    "\n",
    "# 주피터 노트북 상에 이미지를 출력하도록 설정\n",
    "%matplotlib inline"
   ]
  },
  {
   "cell_type": "code",
   "execution_count": 2,
   "metadata": {},
   "outputs": [
    {
     "data": {
      "text/plain": [
       "array([['/var/data/MET/images/walking/20.bmp', '[17, 146]', '[23, 115]',\n",
       "        ..., '[40, 39]', '[35, 17]', 0.7],\n",
       "       ['/var/data/MET/images/walking/19.bmp', '[22, 129]', '[12, 116]',\n",
       "        ..., '[21, 38]', '[14, 16]', 0.7],\n",
       "       ['/var/data/MET/images/walking/18.bmp', '[23, 153]', '[21, 129]',\n",
       "        ..., '[23, 41]', '[20, 21]', 0.7],\n",
       "       ..., \n",
       "       [ '/var/data/MET/images/miscellaneous occupational activity/machine work.sawing/18.jpg',\n",
       "        '[-1, -1]', '[-1, -1]', ..., '[175, 61]', '[192, 1]', 1.8],\n",
       "       [ '/var/data/MET/images/miscellaneous occupational activity/machine work.sawing/19.jpg',\n",
       "        '[-1, -1]', '[98, 170]', ..., '[172, 59]', '[201, 8]', 1.8],\n",
       "       [ '/var/data/MET/images/miscellaneous occupational activity/machine work.sawing/20.jpg',\n",
       "        '[-1, -1]', '[-1, -1]', ..., '[194, 55]', '[185, 8]', 1.8]], dtype=object)"
      ]
     },
     "execution_count": 2,
     "metadata": {},
     "output_type": "execute_result"
    }
   ],
   "source": [
    "# dataset CSV 파일을 불러와 pandas 프레임으로 저장한 뒤에 Numpy형식의 행렬로 변환하여 testset 변수에 저장\n",
    "testset=pd.read_csv(\"/home/ejjchl77/predictMET/dataset.csv\",header=None).as_matrix()\n",
    "\n",
    "testset"
   ]
  },
  {
   "cell_type": "code",
   "execution_count": 3,
   "metadata": {},
   "outputs": [
    {
     "data": {
      "text/plain": [
       "(100, 16)"
      ]
     },
     "execution_count": 3,
     "metadata": {},
     "output_type": "execute_result"
    }
   ],
   "source": [
    "testset.shape"
   ]
  },
  {
   "cell_type": "code",
   "execution_count": 4,
   "metadata": {},
   "outputs": [
    {
     "name": "stdout",
     "output_type": "stream",
     "text": [
      "221.51 243.43 769 834\n"
     ]
    }
   ],
   "source": [
    "# 변수 초기화.\n",
    "# 모든 x축 크기 총합, 모든 y축 크기 총합, 최대 x축 크기, 최대 y축 크기\n",
    "allsum_x=allsum_y=max_x=max_y=0\n",
    "\n",
    "for i in range(len(testset)): # testset 길이만큼 반복 // len(testset) = 100개 데이터\n",
    "    img=skimage.io.imread(testset[i][0]) # 이미지 불러오기 (이미지 저장위치 불러오기)\n",
    "    # img.shape의 구조는 \"행렬의 rows, columns, channels의 갯수\"\n",
    "    \n",
    "    if max_x<img.shape[0]: max_x=img.shape[0] # 최대 x축 길이값 저장\n",
    "    if max_y<img.shape[1]: max_y=img.shape[1] # 최대 y축 길이값 저장\n",
    "    allsum_x+=img.shape[0] # 모든 이미지의 x축 크기 총합\n",
    "    allsum_y+=img.shape[1] # 모든 이미지의 y축 크기 총합\n",
    "avg_x=allsum_x/len(testset) # 전체 이미지의 x축 크기 평균\n",
    "avg_y=allsum_y/len(testset) # 전체 이미지의 y축 크기 평균\n",
    "print (avg_x,avg_y,max_x,max_y) # x축 크기 평균, y축 크기 평균, 최대 x축 크기, 최대 y축 크기 출력\n"
   ]
  },
  {
   "cell_type": "markdown",
   "metadata": {},
   "source": [
    "평균 : (x,y) =(221.51, 243.43)\n",
    "\n",
    "이미지 크기를 256 x 256 으로 조정"
   ]
  },
  {
   "cell_type": "code",
   "execution_count": 5,
   "metadata": {},
   "outputs": [],
   "source": [
    "# 문자열의 좌표값을 정수형 좌표값으로 변환하는 함수\n",
    "def convert_str_to_int(coors):\n",
    "    coor=np.zeros([len(coors),14,2],dtype=int) # 변환한 좌표를 저장하기 위한 배열 초기화\n",
    "    for i in range(len(coors)): # 주어진 갯수 만큼 반복\n",
    "        for j in range(14): # 좌표 개수 만큼 반복\n",
    "            a=0 # 컴마 위치 확인용\n",
    "            # \",\" 위치 체크\n",
    "            while True: # 무한 반복문\n",
    "                if coors[i][j+1][a]==\",\" : break # 해당 문자가 컴마면 무한 반복문 탈출\n",
    "                else : a+=1 # 컴마가 아니면 다음 문자로 넘어감\n",
    "            # ,를 기준으로 각각의 좌표 x y를 나누어 int로 형변환 하여 저장\n",
    "            coor[i][j]=int(coors[i][j+1][1:a]),int(coors[i][j+1][a+1:-1])\n",
    "            \n",
    "    # 이렇게 반복하여 추출한 좌표값을 반환\n",
    "    return coor\n"
   ]
  },
  {
   "cell_type": "code",
   "execution_count": 7,
   "metadata": {
    "scrolled": true
   },
   "outputs": [
    {
     "name": "stdout",
     "output_type": "stream",
     "text": [
      "[[ 0.7]\n",
      " [ 0.7]\n",
      " [ 0.7]\n",
      " [ 0.7]\n",
      " [ 0.7]\n",
      " [ 0.7]\n",
      " [ 0.7]\n",
      " [ 0.7]\n",
      " [ 0.7]\n",
      " [ 0.7]\n",
      " [ 0.7]\n",
      " [ 0.7]\n",
      " [ 0.7]\n",
      " [ 0.7]\n",
      " [ 0.7]\n",
      " [ 0.7]\n",
      " [ 0.7]\n",
      " [ 0.7]\n",
      " [ 0.7]\n",
      " [ 0.7]\n",
      " [ 1. ]\n",
      " [ 1. ]\n",
      " [ 1. ]\n",
      " [ 1. ]\n",
      " [ 1. ]\n",
      " [ 1. ]\n",
      " [ 1. ]\n",
      " [ 1. ]\n",
      " [ 1. ]\n",
      " [ 1. ]\n",
      " [ 1. ]\n",
      " [ 1. ]\n",
      " [ 1. ]\n",
      " [ 1. ]\n",
      " [ 1. ]\n",
      " [ 1. ]\n",
      " [ 1. ]\n",
      " [ 1. ]\n",
      " [ 1. ]\n",
      " [ 1. ]\n",
      " [ 1.2]\n",
      " [ 1.2]\n",
      " [ 1.2]\n",
      " [ 1.2]\n",
      " [ 1.2]\n",
      " [ 1.2]\n",
      " [ 1.2]\n",
      " [ 1.2]\n",
      " [ 1.2]\n",
      " [ 1.2]\n",
      " [ 1.2]\n",
      " [ 1.2]\n",
      " [ 1.2]\n",
      " [ 1.2]\n",
      " [ 1.2]\n",
      " [ 1.2]\n",
      " [ 1.2]\n",
      " [ 1.2]\n",
      " [ 1.2]\n",
      " [ 1.2]\n",
      " [ 1.2]\n",
      " [ 1.2]\n",
      " [ 1.2]\n",
      " [ 1.2]\n",
      " [ 1.2]\n",
      " [ 1.2]\n",
      " [ 1.2]\n",
      " [ 1.2]\n",
      " [ 1.2]\n",
      " [ 1.2]\n",
      " [ 1.2]\n",
      " [ 1.2]\n",
      " [ 1.2]\n",
      " [ 1.2]\n",
      " [ 1.2]\n",
      " [ 1.2]\n",
      " [ 1.2]\n",
      " [ 1.2]\n",
      " [ 1.2]\n",
      " [ 1.2]\n",
      " [ 1.8]\n",
      " [ 1.8]\n",
      " [ 1.8]\n",
      " [ 1.8]\n",
      " [ 1.8]\n",
      " [ 1.8]\n",
      " [ 1.8]\n",
      " [ 1.8]\n",
      " [ 1.8]\n",
      " [ 1.8]\n",
      " [ 1.8]\n",
      " [ 1.8]\n",
      " [ 1.8]\n",
      " [ 1.8]\n",
      " [ 1.8]\n",
      " [ 1.8]\n",
      " [ 1.8]\n",
      " [ 1.8]\n",
      " [ 1.8]\n",
      " [ 1.8]]\n"
     ]
    }
   ],
   "source": [
    "def convert2_str_to_float(dataset):\n",
    "    MET=np.zeros([len(dataset),1],dtype=float) # 변환한 좌표를 저장하기 위한 배열 초기화\n",
    "    for i in range(len(dataset)): # 주어진 갯수 만큼 반복\n",
    "        a=0 # ']' 위치 확인용\n",
    "        # \"]\" 위치 체크\n",
    "        #while True: # 무한 반복문\n",
    "         #   j=15\n",
    "         #   if dataset[i][j][a]==\"]\" : break # 해당 문자가 ']'면 무한 반복문 탈출\n",
    "         #   else : a+=1 # ]가 아니면 다음 문자로 넘어감\n",
    "         #   # ]를 기준으로 MET값을 int로 형변환 하여 저장\n",
    "        MET[i]=float(dataset[i][15])\n",
    "       \n",
    "    # 이렇게 반복하여 추출한 좌표값을 반환\n",
    "    return MET\n",
    "\n",
    "MET = convert2_str_to_float(testset)\n",
    "print(MET)"
   ]
  },
  {
   "cell_type": "code",
   "execution_count": 8,
   "metadata": {},
   "outputs": [
    {
     "name": "stdout",
     "output_type": "stream",
     "text": [
      "(176, 79, 3)\n",
      "(100, 14, 2)\n",
      "[ 17 146]\n",
      "[ 23 115]\n",
      "17\n",
      "24.7272727273\n"
     ]
    }
   ],
   "source": [
    "img=skimage.io.imread(testset[0][0])\n",
    "print(img.shape)\n",
    "coor_set=convert_str_to_int(testset)\n",
    "print(coor_set.shape)\n",
    "print(coor_set[0][0])\n",
    "print(coor_set[0][1])\n",
    "print(coor_set[0][0][0])\n",
    "print(coor_set[0][0][0]*(256/img.shape[0]))"
   ]
  },
  {
   "cell_type": "code",
   "execution_count": 9,
   "metadata": {},
   "outputs": [],
   "source": [
    "def Preprocess(dataset):\n",
    "    img_set=np.zeros([len(dataset),256,256,3]) \n",
    "    # 이미지를 저장해두기 위한 텐서 배열 초기화 - 이미지 갯수 / x크기 / y크기 / RGB\n",
    "    \n",
    "    coor_set=convert_str_to_int(dataset) \n",
    "    # 문자열의 좌표값을 정수형 좌표값으로 변환하여 저장\n",
    "    \n",
    "    for i in range(len(dataset)): # 주어진 데이터 갯수만큼 반복\n",
    "        img=skimage.io.imread(dataset[i][0]) # 이미지 불러오기\n",
    "        \n",
    "        img_set[i]=skimage.transform.resize(img,(256,256)) \n",
    "        # 이미지 크기를 재조정 하여 저장\n",
    "        \n",
    "        #이미지 크기 변환을 하였으므로 그에 걸맞게 좌표 위치또한 재조정\n",
    "        for j in range(14): #주어진 좌표 개수 만큼 반복\n",
    "            if coor_set[i][j][0]==-1: coor_set[i][j][0]=-1 \n",
    "                # x 좌표 값이 -1 이면 조정을 해주지 않음\n",
    "            else: coor_set[i][j][0]=coor_set[i][j][0]*(256/img.shape[1]) \n",
    "                # x축 크기의 변환된 비율 만큼 곱해 Scaling \n",
    "            if coor_set[i][j][1]==-1: coor_set[i][j][1]=-1 # y 좌표 값이 -1 이면 조정을 해주지 않음\n",
    "            else: coor_set[i][j][1]=coor_set[i][j][1]*(256/img.shape[0]) # y축 크기의 변환된 비율 만큼 곱해 Scaling \n",
    "    \n",
    "    # 이렇게 변환한 이미지 세트와 좌표 세트를 반환\n",
    "    return img_set, coor_set"
   ]
  },
  {
   "cell_type": "code",
   "execution_count": 10,
   "metadata": {},
   "outputs": [
    {
     "name": "stderr",
     "output_type": "stream",
     "text": [
      "/home/ejjchl77/eunjivenv/lib/python3.5/site-packages/skimage/transform/_warps.py:84: UserWarning: The default mode, 'constant', will be changed to 'reflect' in skimage 0.15.\n",
      "  warn(\"The default mode, 'constant', will be changed to 'reflect' in \"\n"
     ]
    }
   ],
   "source": [
    "# 전처리 함수의 입력으로 불러온 CSV 파일을 저장한 testset 변수로 입력.\n",
    "# 변환된 이미지 세트와 좌표 세트를 각각 picpic과 coco에다 저장해줌.\n",
    "picpic,coco=Preprocess(testset)"
   ]
  },
  {
   "cell_type": "code",
   "execution_count": 11,
   "metadata": {},
   "outputs": [
    {
     "name": "stdout",
     "output_type": "stream",
     "text": [
      "(100, 256, 256, 3) (100, 14, 2)\n"
     ]
    }
   ],
   "source": [
    "# 각 세트의 크기 확인\n",
    "print (picpic.shape,coco.shape)"
   ]
  },
  {
   "cell_type": "code",
   "execution_count": 12,
   "metadata": {},
   "outputs": [],
   "source": [
    "# 이미지와 좌표를 받아와서 이미에 해당 좌표를 입력\n",
    "# 잘 변환이 되었는지 확인하는 용도\n",
    "\n",
    "import cv2 # 그림에 숫자 넣기\n",
    "from skimage import draw # 그림에 원 그리기\n",
    "\n",
    "def markJoints(img, joints):  \n",
    "    circSize=5 # 그려질 원의 크기\n",
    "    font = cv2.FONT_HERSHEY_SIMPLEX # 글씨체 설정\n",
    "    for i in range(14):\n",
    "        x = int(joints[i,0]) # X 좌표\n",
    "        y = int(joints[i,1]) # Y 좌표\n",
    "        if x!=-1: # 그림에서 보이지 않는 좌표는 찍지 않도록\n",
    "            rr, cc = skimage.draw.circle(y, x, circSize) # 원 그리기  `skimage.draw.circle(r, c, 반지름[shape])`\n",
    "            skimage.draw.set_color(img, (rr, cc), (1,0,0)) # 색 설정 `set_color(image, coords, color)`\n",
    "            cv2.putText(img, str(i+1), (x,y), font, 0.5, (0.5,0.5,0.5), 2, cv2.LINE_AA) # 그림 ㄱ\n",
    "    return img\n"
   ]
  },
  {
   "cell_type": "code",
   "execution_count": 13,
   "metadata": {},
   "outputs": [],
   "source": [
    "#imge = np.zeros((10,10), dtype=np.uint8)\n",
    "#rr, cc = circle(4,4,5)\n",
    "#imge[rr, cc]=1"
   ]
  },
  {
   "cell_type": "code",
   "execution_count": 14,
   "metadata": {},
   "outputs": [
    {
     "name": "stdout",
     "output_type": "stream",
     "text": [
      "mkdir: cannot create directory ‘p_img’: File exists\r\n",
      "mkdir: cannot create directory ‘p_with_coors_img’: File exists\r\n"
     ]
    },
    {
     "name": "stderr",
     "output_type": "stream",
     "text": [
      "/home/ejjchl77/eunjivenv/lib/python3.5/site-packages/skimage/util/dtype.py:122: UserWarning: Possible precision loss when converting from float64 to uint8\n",
      "  .format(dtypeobj_in, dtypeobj_out))\n"
     ]
    }
   ],
   "source": [
    "# 전처리된 이미지 저장\n",
    "%mkdir p_img p_with_coors_img # 현재 디렉토리에 처리된 이미지와 좌표를 찍은 이미지들을 저장할 디렉토리 생성\n",
    "for i in range(len(picpic)):\n",
    "    skimage.io.imsave(\"./p_img/p-img_\"+str(i)+\".jpg\",picpic[i]) # 처리된 이미지 저장\n",
    "    skimage.io.imsave(\"./p_with_coors_img/p-img_\"+str(i)+\".jpg\",markJoints(picpic[i],coco[i])) # 좌표 입력 이미지 저장"
   ]
  },
  {
   "cell_type": "code",
   "execution_count": 15,
   "metadata": {},
   "outputs": [],
   "source": [
    "# To support both python 2 and python 3\n",
    "from __future__ import division, print_function, unicode_literals\n",
    "\n",
    "# Common imports\n",
    "import numpy as np\n",
    "import os\n",
    "\n",
    "# to make this notebook's output stable across runs\n",
    "np.random.seed(42)\n",
    "\n",
    "# To plot pretty figures\n",
    "%matplotlib inline\n",
    "import matplotlib\n",
    "import matplotlib.pyplot as plt\n",
    "plt.rcParams['axes.labelsize'] = 14\n",
    "plt.rcParams['xtick.labelsize'] = 12\n",
    "plt.rcParams['ytick.labelsize'] = 12\n",
    "\n",
    "# Where to save the figures\n",
    "PROJECT_ROOT_DIR = \".\"\n",
    "CHAPTER_ID = \"training_linear_models\"\n",
    "\n",
    "def save_fig(fig_id, tight_layout=True):\n",
    "    path = os.path.join(PROJECT_ROOT_DIR, \"images\", CHAPTER_ID, fig_id + \".png\")\n",
    "    print(\"Saving figure\", fig_id)\n",
    "    if tight_layout:\n",
    "        plt.tight_layout()\n",
    "    plt.savefig(path, format='png', dpi=300)\n"
   ]
  },
  {
   "cell_type": "markdown",
   "metadata": {},
   "source": [
    "## 1. Linear Regression"
   ]
  },
  {
   "cell_type": "markdown",
   "metadata": {},
   "source": [
    "좌표 데이터 구조 변환 (100,14,2) -> (100,28)\n",
    "\n",
    "[x1,y1,x2,y2 ..., x14,y14]의 구조형태"
   ]
  },
  {
   "cell_type": "code",
   "execution_count": 16,
   "metadata": {},
   "outputs": [
    {
     "data": {
      "text/plain": [
       "array([[ 55, 212,  74, ...,  56, 113,  24],\n",
       "       [ 93, 190,  51, ...,  56,  59,  23],\n",
       "       [101, 217,  92, ...,  58,  88,  29],\n",
       "       ..., \n",
       "       [ -1,  -1,  -1, ...,  57, 164,   0],\n",
       "       [ -1,  -1,  63, ...,  62, 130,   8],\n",
       "       [ -1,  -1,  -1, ...,  42, 152,   6]])"
      ]
     },
     "execution_count": 16,
     "metadata": {},
     "output_type": "execute_result"
    }
   ],
   "source": [
    "coco=np.reshape(coco,(100,28))\n",
    "coco"
   ]
  },
  {
   "cell_type": "code",
   "execution_count": 17,
   "metadata": {
    "scrolled": true
   },
   "outputs": [
    {
     "data": {
      "text/plain": [
       "array([[ 0.7],\n",
       "       [ 0.7],\n",
       "       [ 0.7],\n",
       "       [ 0.7],\n",
       "       [ 0.7],\n",
       "       [ 0.7],\n",
       "       [ 0.7],\n",
       "       [ 0.7],\n",
       "       [ 0.7],\n",
       "       [ 0.7],\n",
       "       [ 0.7],\n",
       "       [ 0.7],\n",
       "       [ 0.7],\n",
       "       [ 0.7],\n",
       "       [ 0.7],\n",
       "       [ 0.7],\n",
       "       [ 0.7],\n",
       "       [ 0.7],\n",
       "       [ 0.7],\n",
       "       [ 0.7],\n",
       "       [ 1. ],\n",
       "       [ 1. ],\n",
       "       [ 1. ],\n",
       "       [ 1. ],\n",
       "       [ 1. ],\n",
       "       [ 1. ],\n",
       "       [ 1. ],\n",
       "       [ 1. ],\n",
       "       [ 1. ],\n",
       "       [ 1. ],\n",
       "       [ 1. ],\n",
       "       [ 1. ],\n",
       "       [ 1. ],\n",
       "       [ 1. ],\n",
       "       [ 1. ],\n",
       "       [ 1. ],\n",
       "       [ 1. ],\n",
       "       [ 1. ],\n",
       "       [ 1. ],\n",
       "       [ 1. ],\n",
       "       [ 1.2],\n",
       "       [ 1.2],\n",
       "       [ 1.2],\n",
       "       [ 1.2],\n",
       "       [ 1.2],\n",
       "       [ 1.2],\n",
       "       [ 1.2],\n",
       "       [ 1.2],\n",
       "       [ 1.2],\n",
       "       [ 1.2],\n",
       "       [ 1.2],\n",
       "       [ 1.2],\n",
       "       [ 1.2],\n",
       "       [ 1.2],\n",
       "       [ 1.2],\n",
       "       [ 1.2],\n",
       "       [ 1.2],\n",
       "       [ 1.2],\n",
       "       [ 1.2],\n",
       "       [ 1.2],\n",
       "       [ 1.2],\n",
       "       [ 1.2],\n",
       "       [ 1.2],\n",
       "       [ 1.2],\n",
       "       [ 1.2],\n",
       "       [ 1.2],\n",
       "       [ 1.2],\n",
       "       [ 1.2],\n",
       "       [ 1.2],\n",
       "       [ 1.2],\n",
       "       [ 1.2],\n",
       "       [ 1.2],\n",
       "       [ 1.2],\n",
       "       [ 1.2],\n",
       "       [ 1.2],\n",
       "       [ 1.2],\n",
       "       [ 1.2],\n",
       "       [ 1.2],\n",
       "       [ 1.2],\n",
       "       [ 1.2],\n",
       "       [ 1.8],\n",
       "       [ 1.8],\n",
       "       [ 1.8],\n",
       "       [ 1.8],\n",
       "       [ 1.8],\n",
       "       [ 1.8],\n",
       "       [ 1.8],\n",
       "       [ 1.8],\n",
       "       [ 1.8],\n",
       "       [ 1.8],\n",
       "       [ 1.8],\n",
       "       [ 1.8],\n",
       "       [ 1.8],\n",
       "       [ 1.8],\n",
       "       [ 1.8],\n",
       "       [ 1.8],\n",
       "       [ 1.8],\n",
       "       [ 1.8],\n",
       "       [ 1.8],\n",
       "       [ 1.8]])"
      ]
     },
     "execution_count": 17,
     "metadata": {},
     "output_type": "execute_result"
    }
   ],
   "source": [
    "MET"
   ]
  },
  {
   "cell_type": "markdown",
   "metadata": {},
   "source": [
    "100개의 좌표와 MET데이터 중 10개를 test데이터로 사용"
   ]
  },
  {
   "cell_type": "code",
   "execution_count": 18,
   "metadata": {},
   "outputs": [],
   "source": [
    "a=0;b=0\n",
    "coco_train=np.zeros([90,28])\n",
    "MET_train=np.zeros([90,1])\n",
    "coco_test=np.zeros([10,28])\n",
    "MET_test=np.zeros([10,1])\n",
    "\n",
    "for i in range (100):\n",
    "    if i % 10 == 0:\n",
    "        coco_test[a]=coco[i]\n",
    "        MET_test[a]=MET[i]\n",
    "        a+=1\n",
    "    else :\n",
    "        coco_train[b]=coco[i]\n",
    "        MET_train[b]=MET[i]\n",
    "        b+=1"
   ]
  },
  {
   "cell_type": "code",
   "execution_count": 19,
   "metadata": {},
   "outputs": [
    {
     "data": {
      "text/plain": [
       "array([[ 0.7],\n",
       "       [ 0.7],\n",
       "       [ 1. ],\n",
       "       [ 1. ],\n",
       "       [ 1.2],\n",
       "       [ 1.2],\n",
       "       [ 1.2],\n",
       "       [ 1.2],\n",
       "       [ 1.8],\n",
       "       [ 1.8]])"
      ]
     },
     "execution_count": 19,
     "metadata": {},
     "output_type": "execute_result"
    }
   ],
   "source": [
    "MET_test"
   ]
  },
  {
   "cell_type": "markdown",
   "metadata": {},
   "source": [
    "### Normal Equation"
   ]
  },
  {
   "cell_type": "code",
   "execution_count": 20,
   "metadata": {},
   "outputs": [],
   "source": [
    "X_b = np.c_[np.ones((100, 1)), coco]  # add x0 = 1 to each instance\n",
    "theta_best = np.linalg.inv(X_b.T.dot(X_b)).dot(X_b.T).dot(MET)"
   ]
  },
  {
   "cell_type": "code",
   "execution_count": 21,
   "metadata": {},
   "outputs": [
    {
     "data": {
      "text/plain": [
       "(array([ 1.32554299]),\n",
       " array([[  9.81473262e-04,  -1.31981868e-03,  -2.48180814e-03,\n",
       "           1.11351536e-03,   8.55150762e-04,  -1.28847674e-03,\n",
       "          -1.00155038e-03,   2.29202113e-03,   1.40736435e-03,\n",
       "          -1.95626547e-03,   9.04141842e-04,  -6.96280801e-04,\n",
       "           7.57432273e-04,  -3.37373486e-04,   2.27710651e-03,\n",
       "          -1.78510490e-04,  -6.92755158e-04,  -1.72643444e-04,\n",
       "           3.71454295e-04,  -5.09212737e-03,  -2.96399183e-06,\n",
       "           1.27724884e-04,  -4.59606132e-05,   1.42334697e-03,\n",
       "          -9.37737028e-04,   4.80047730e-04,   1.78687719e-04,\n",
       "           3.94785848e-03]]))"
      ]
     },
     "execution_count": 21,
     "metadata": {},
     "output_type": "execute_result"
    }
   ],
   "source": [
    "from sklearn.linear_model import LinearRegression\n",
    "lin_reg = LinearRegression()\n",
    "lin_reg.fit(coco_train, MET_train)\n",
    "lin_reg.intercept_, lin_reg.coef_"
   ]
  },
  {
   "cell_type": "markdown",
   "metadata": {},
   "source": [
    "**score: 결정계수(coefficient of determination,R^2)를 보여줌, 독립적인 변수들로 부터의 분산 비율**"
   ]
  },
  {
   "cell_type": "code",
   "execution_count": 22,
   "metadata": {},
   "outputs": [
    {
     "data": {
      "text/plain": [
       "0.39656911947210083"
      ]
     },
     "execution_count": 22,
     "metadata": {},
     "output_type": "execute_result"
    }
   ],
   "source": [
    "lin_reg.score(coco_train,MET_train)"
   ]
  },
  {
   "cell_type": "code",
   "execution_count": 23,
   "metadata": {},
   "outputs": [
    {
     "data": {
      "text/plain": [
       "0.097023759606756022"
      ]
     },
     "execution_count": 23,
     "metadata": {},
     "output_type": "execute_result"
    }
   ],
   "source": [
    "lin_reg.score(coco_test,MET_test)"
   ]
  },
  {
   "cell_type": "code",
   "execution_count": 24,
   "metadata": {},
   "outputs": [
    {
     "data": {
      "text/plain": [
       "array([[ 0.95956193],\n",
       "       [ 1.05750781],\n",
       "       [ 0.96811226],\n",
       "       [ 0.7308875 ],\n",
       "       [ 0.92192878],\n",
       "       [ 1.75912466],\n",
       "       [ 0.93470436],\n",
       "       [ 1.03555068],\n",
       "       [ 1.60127246],\n",
       "       [ 1.18781324]])"
      ]
     },
     "execution_count": 24,
     "metadata": {},
     "output_type": "execute_result"
    }
   ],
   "source": [
    "lin_reg.predict(coco_test)"
   ]
  },
  {
   "cell_type": "markdown",
   "metadata": {},
   "source": [
    "### Linear Regression Conclusion\n",
    "\n",
    "값이 좋진 않지만 어느정도 일정 범주에서 MET 값이 예측\n",
    "\n",
    "데이터가 더 필요할 것으로 예상"
   ]
  },
  {
   "cell_type": "markdown",
   "metadata": {},
   "source": [
    "# 2. SDG regression"
   ]
  },
  {
   "cell_type": "code",
   "execution_count": 25,
   "metadata": {},
   "outputs": [],
   "source": [
    "theta_path_sgd = []\n",
    "m = len(X_b)\n",
    "np.random.seed(42)"
   ]
  },
  {
   "cell_type": "code",
   "execution_count": 26,
   "metadata": {},
   "outputs": [
    {
     "data": {
      "text/plain": [
       "SGDRegressor(alpha=0.0001, average=False, epsilon=0.1, eta0=0.1,\n",
       "       fit_intercept=True, l1_ratio=0.15, learning_rate='invscaling',\n",
       "       loss='squared_loss', max_iter=50, n_iter=None, penalty=None,\n",
       "       power_t=0.25, random_state=42, shuffle=True, tol=None, verbose=0,\n",
       "       warm_start=False)"
      ]
     },
     "execution_count": 26,
     "metadata": {},
     "output_type": "execute_result"
    }
   ],
   "source": [
    "from sklearn.linear_model import SGDRegressor\n",
    "sgd_reg = SGDRegressor(max_iter=50, penalty=None, eta0=0.1, random_state=42)\n",
    "#sgd_reg.fit(X, y.ravel())\n",
    "sgd_reg.fit(coco_train, MET_train.ravel())"
   ]
  },
  {
   "cell_type": "code",
   "execution_count": 27,
   "metadata": {},
   "outputs": [
    {
     "data": {
      "text/plain": [
       "(array([ -5.62245103e+11]),\n",
       " array([ -3.81168360e+12,   1.19802823e+12,   1.27409438e+13,\n",
       "         -5.20516067e+12,  -1.06003007e+13,  -1.54081347e+13,\n",
       "         -1.71887900e+12,  -1.84994703e+12,   4.54242259e+11,\n",
       "         -2.79765475e+12,  -7.57524344e+12,   1.52952900e+12,\n",
       "         -5.10977176e+12,  -6.57261023e+12,  -6.63205100e+12,\n",
       "         -1.44799217e+12,   4.25016915e+12,   6.97489956e+12,\n",
       "          3.63762082e+12,   1.11570556e+13,  -1.60554628e+12,\n",
       "          3.60202724e+12,  -9.74488726e+12,   5.15424488e+12,\n",
       "          1.64762264e+11,   2.90162020e+12,   2.60479766e+12,\n",
       "          9.22233278e+12]))"
      ]
     },
     "execution_count": 27,
     "metadata": {},
     "output_type": "execute_result"
    }
   ],
   "source": [
    "sgd_reg.intercept_, sgd_reg.coef_"
   ]
  },
  {
   "cell_type": "code",
   "execution_count": 28,
   "metadata": {},
   "outputs": [
    {
     "data": {
      "text/plain": [
       "array([ -2.49444234e+15,  -4.99741175e+15,  -1.73670179e+13,\n",
       "         3.92314121e+15,  -6.04116546e+13,  -9.84963345e+14,\n",
       "        -5.25743407e+15,  -3.65387994e+15,  -6.15415994e+15,\n",
       "        -4.19793686e+15])"
      ]
     },
     "execution_count": 28,
     "metadata": {},
     "output_type": "execute_result"
    }
   ],
   "source": [
    "sgd_reg.predict(coco_test)"
   ]
  },
  {
   "cell_type": "markdown",
   "metadata": {},
   "source": [
    "# 3. Polynomial Regression"
   ]
  },
  {
   "cell_type": "code",
   "execution_count": 29,
   "metadata": {},
   "outputs": [],
   "source": [
    "\n",
    "from sklearn.preprocessing import PolynomialFeatures\n",
    "poly_features = PolynomialFeatures(degree=2, include_bias=False)\n",
    "X_poly = poly_features.fit_transform(coco_train)"
   ]
  },
  {
   "cell_type": "code",
   "execution_count": 30,
   "metadata": {},
   "outputs": [
    {
     "data": {
      "text/plain": [
       "array([  9.30000000e+01,   1.90000000e+02,   5.10000000e+01,\n",
       "         1.71000000e+02,   9.80000000e+01,   1.25000000e+02,\n",
       "         1.49000000e+02,   1.25000000e+02,   1.23000000e+02,\n",
       "         1.71000000e+02,   1.49000000e+02,   2.07000000e+02,\n",
       "        -1.00000000e+00,  -1.00000000e+00,  -1.00000000e+00,\n",
       "        -1.00000000e+00,   5.10000000e+01,   6.50000000e+01,\n",
       "         1.57000000e+02,   6.00000000e+01,   2.04000000e+02,\n",
       "         8.10000000e+01,   2.17000000e+02,   1.06000000e+02,\n",
       "         8.90000000e+01,   5.60000000e+01,   5.90000000e+01,\n",
       "         2.30000000e+01,   8.64900000e+03,   1.76700000e+04,\n",
       "         4.74300000e+03,   1.59030000e+04,   9.11400000e+03,\n",
       "         1.16250000e+04,   1.38570000e+04,   1.16250000e+04,\n",
       "         1.14390000e+04,   1.59030000e+04,   1.38570000e+04,\n",
       "         1.92510000e+04,  -9.30000000e+01,  -9.30000000e+01,\n",
       "        -9.30000000e+01,  -9.30000000e+01,   4.74300000e+03,\n",
       "         6.04500000e+03,   1.46010000e+04,   5.58000000e+03,\n",
       "         1.89720000e+04,   7.53300000e+03,   2.01810000e+04,\n",
       "         9.85800000e+03,   8.27700000e+03,   5.20800000e+03,\n",
       "         5.48700000e+03,   2.13900000e+03,   3.61000000e+04,\n",
       "         9.69000000e+03,   3.24900000e+04,   1.86200000e+04,\n",
       "         2.37500000e+04,   2.83100000e+04,   2.37500000e+04,\n",
       "         2.33700000e+04,   3.24900000e+04,   2.83100000e+04,\n",
       "         3.93300000e+04,  -1.90000000e+02,  -1.90000000e+02,\n",
       "        -1.90000000e+02,  -1.90000000e+02,   9.69000000e+03,\n",
       "         1.23500000e+04,   2.98300000e+04,   1.14000000e+04,\n",
       "         3.87600000e+04,   1.53900000e+04,   4.12300000e+04,\n",
       "         2.01400000e+04,   1.69100000e+04,   1.06400000e+04,\n",
       "         1.12100000e+04,   4.37000000e+03,   2.60100000e+03,\n",
       "         8.72100000e+03,   4.99800000e+03,   6.37500000e+03,\n",
       "         7.59900000e+03,   6.37500000e+03,   6.27300000e+03,\n",
       "         8.72100000e+03,   7.59900000e+03,   1.05570000e+04,\n",
       "        -5.10000000e+01,  -5.10000000e+01,  -5.10000000e+01,\n",
       "        -5.10000000e+01,   2.60100000e+03,   3.31500000e+03,\n",
       "         8.00700000e+03,   3.06000000e+03,   1.04040000e+04,\n",
       "         4.13100000e+03,   1.10670000e+04,   5.40600000e+03,\n",
       "         4.53900000e+03,   2.85600000e+03,   3.00900000e+03,\n",
       "         1.17300000e+03,   2.92410000e+04,   1.67580000e+04,\n",
       "         2.13750000e+04,   2.54790000e+04,   2.13750000e+04,\n",
       "         2.10330000e+04,   2.92410000e+04,   2.54790000e+04,\n",
       "         3.53970000e+04,  -1.71000000e+02,  -1.71000000e+02,\n",
       "        -1.71000000e+02,  -1.71000000e+02,   8.72100000e+03,\n",
       "         1.11150000e+04,   2.68470000e+04,   1.02600000e+04,\n",
       "         3.48840000e+04,   1.38510000e+04,   3.71070000e+04,\n",
       "         1.81260000e+04,   1.52190000e+04,   9.57600000e+03,\n",
       "         1.00890000e+04,   3.93300000e+03,   9.60400000e+03,\n",
       "         1.22500000e+04,   1.46020000e+04,   1.22500000e+04,\n",
       "         1.20540000e+04,   1.67580000e+04,   1.46020000e+04,\n",
       "         2.02860000e+04,  -9.80000000e+01,  -9.80000000e+01,\n",
       "        -9.80000000e+01,  -9.80000000e+01,   4.99800000e+03,\n",
       "         6.37000000e+03,   1.53860000e+04,   5.88000000e+03,\n",
       "         1.99920000e+04,   7.93800000e+03,   2.12660000e+04,\n",
       "         1.03880000e+04,   8.72200000e+03,   5.48800000e+03,\n",
       "         5.78200000e+03,   2.25400000e+03,   1.56250000e+04,\n",
       "         1.86250000e+04,   1.56250000e+04,   1.53750000e+04,\n",
       "         2.13750000e+04,   1.86250000e+04,   2.58750000e+04,\n",
       "        -1.25000000e+02,  -1.25000000e+02,  -1.25000000e+02,\n",
       "        -1.25000000e+02,   6.37500000e+03,   8.12500000e+03,\n",
       "         1.96250000e+04,   7.50000000e+03,   2.55000000e+04,\n",
       "         1.01250000e+04,   2.71250000e+04,   1.32500000e+04,\n",
       "         1.11250000e+04,   7.00000000e+03,   7.37500000e+03,\n",
       "         2.87500000e+03,   2.22010000e+04,   1.86250000e+04,\n",
       "         1.83270000e+04,   2.54790000e+04,   2.22010000e+04,\n",
       "         3.08430000e+04,  -1.49000000e+02,  -1.49000000e+02,\n",
       "        -1.49000000e+02,  -1.49000000e+02,   7.59900000e+03,\n",
       "         9.68500000e+03,   2.33930000e+04,   8.94000000e+03,\n",
       "         3.03960000e+04,   1.20690000e+04,   3.23330000e+04,\n",
       "         1.57940000e+04,   1.32610000e+04,   8.34400000e+03,\n",
       "         8.79100000e+03,   3.42700000e+03,   1.56250000e+04,\n",
       "         1.53750000e+04,   2.13750000e+04,   1.86250000e+04,\n",
       "         2.58750000e+04,  -1.25000000e+02,  -1.25000000e+02,\n",
       "        -1.25000000e+02,  -1.25000000e+02,   6.37500000e+03,\n",
       "         8.12500000e+03,   1.96250000e+04,   7.50000000e+03,\n",
       "         2.55000000e+04,   1.01250000e+04,   2.71250000e+04,\n",
       "         1.32500000e+04,   1.11250000e+04,   7.00000000e+03,\n",
       "         7.37500000e+03,   2.87500000e+03,   1.51290000e+04,\n",
       "         2.10330000e+04,   1.83270000e+04,   2.54610000e+04,\n",
       "        -1.23000000e+02,  -1.23000000e+02,  -1.23000000e+02,\n",
       "        -1.23000000e+02,   6.27300000e+03,   7.99500000e+03,\n",
       "         1.93110000e+04,   7.38000000e+03,   2.50920000e+04,\n",
       "         9.96300000e+03,   2.66910000e+04,   1.30380000e+04,\n",
       "         1.09470000e+04,   6.88800000e+03,   7.25700000e+03,\n",
       "         2.82900000e+03,   2.92410000e+04,   2.54790000e+04,\n",
       "         3.53970000e+04,  -1.71000000e+02,  -1.71000000e+02,\n",
       "        -1.71000000e+02,  -1.71000000e+02,   8.72100000e+03,\n",
       "         1.11150000e+04,   2.68470000e+04,   1.02600000e+04,\n",
       "         3.48840000e+04,   1.38510000e+04,   3.71070000e+04,\n",
       "         1.81260000e+04,   1.52190000e+04,   9.57600000e+03,\n",
       "         1.00890000e+04,   3.93300000e+03,   2.22010000e+04,\n",
       "         3.08430000e+04,  -1.49000000e+02,  -1.49000000e+02,\n",
       "        -1.49000000e+02,  -1.49000000e+02,   7.59900000e+03,\n",
       "         9.68500000e+03,   2.33930000e+04,   8.94000000e+03,\n",
       "         3.03960000e+04,   1.20690000e+04,   3.23330000e+04,\n",
       "         1.57940000e+04,   1.32610000e+04,   8.34400000e+03,\n",
       "         8.79100000e+03,   3.42700000e+03,   4.28490000e+04,\n",
       "        -2.07000000e+02,  -2.07000000e+02,  -2.07000000e+02,\n",
       "        -2.07000000e+02,   1.05570000e+04,   1.34550000e+04,\n",
       "         3.24990000e+04,   1.24200000e+04,   4.22280000e+04,\n",
       "         1.67670000e+04,   4.49190000e+04,   2.19420000e+04,\n",
       "         1.84230000e+04,   1.15920000e+04,   1.22130000e+04,\n",
       "         4.76100000e+03,   1.00000000e+00,   1.00000000e+00,\n",
       "         1.00000000e+00,   1.00000000e+00,  -5.10000000e+01,\n",
       "        -6.50000000e+01,  -1.57000000e+02,  -6.00000000e+01,\n",
       "        -2.04000000e+02,  -8.10000000e+01,  -2.17000000e+02,\n",
       "        -1.06000000e+02,  -8.90000000e+01,  -5.60000000e+01,\n",
       "        -5.90000000e+01,  -2.30000000e+01,   1.00000000e+00,\n",
       "         1.00000000e+00,   1.00000000e+00,  -5.10000000e+01,\n",
       "        -6.50000000e+01,  -1.57000000e+02,  -6.00000000e+01,\n",
       "        -2.04000000e+02,  -8.10000000e+01,  -2.17000000e+02,\n",
       "        -1.06000000e+02,  -8.90000000e+01,  -5.60000000e+01,\n",
       "        -5.90000000e+01,  -2.30000000e+01,   1.00000000e+00,\n",
       "         1.00000000e+00,  -5.10000000e+01,  -6.50000000e+01,\n",
       "        -1.57000000e+02,  -6.00000000e+01,  -2.04000000e+02,\n",
       "        -8.10000000e+01,  -2.17000000e+02,  -1.06000000e+02,\n",
       "        -8.90000000e+01,  -5.60000000e+01,  -5.90000000e+01,\n",
       "        -2.30000000e+01,   1.00000000e+00,  -5.10000000e+01,\n",
       "        -6.50000000e+01,  -1.57000000e+02,  -6.00000000e+01,\n",
       "        -2.04000000e+02,  -8.10000000e+01,  -2.17000000e+02,\n",
       "        -1.06000000e+02,  -8.90000000e+01,  -5.60000000e+01,\n",
       "        -5.90000000e+01,  -2.30000000e+01,   2.60100000e+03,\n",
       "         3.31500000e+03,   8.00700000e+03,   3.06000000e+03,\n",
       "         1.04040000e+04,   4.13100000e+03,   1.10670000e+04,\n",
       "         5.40600000e+03,   4.53900000e+03,   2.85600000e+03,\n",
       "         3.00900000e+03,   1.17300000e+03,   4.22500000e+03,\n",
       "         1.02050000e+04,   3.90000000e+03,   1.32600000e+04,\n",
       "         5.26500000e+03,   1.41050000e+04,   6.89000000e+03,\n",
       "         5.78500000e+03,   3.64000000e+03,   3.83500000e+03,\n",
       "         1.49500000e+03,   2.46490000e+04,   9.42000000e+03,\n",
       "         3.20280000e+04,   1.27170000e+04,   3.40690000e+04,\n",
       "         1.66420000e+04,   1.39730000e+04,   8.79200000e+03,\n",
       "         9.26300000e+03,   3.61100000e+03,   3.60000000e+03,\n",
       "         1.22400000e+04,   4.86000000e+03,   1.30200000e+04,\n",
       "         6.36000000e+03,   5.34000000e+03,   3.36000000e+03,\n",
       "         3.54000000e+03,   1.38000000e+03,   4.16160000e+04,\n",
       "         1.65240000e+04,   4.42680000e+04,   2.16240000e+04,\n",
       "         1.81560000e+04,   1.14240000e+04,   1.20360000e+04,\n",
       "         4.69200000e+03,   6.56100000e+03,   1.75770000e+04,\n",
       "         8.58600000e+03,   7.20900000e+03,   4.53600000e+03,\n",
       "         4.77900000e+03,   1.86300000e+03,   4.70890000e+04,\n",
       "         2.30020000e+04,   1.93130000e+04,   1.21520000e+04,\n",
       "         1.28030000e+04,   4.99100000e+03,   1.12360000e+04,\n",
       "         9.43400000e+03,   5.93600000e+03,   6.25400000e+03,\n",
       "         2.43800000e+03,   7.92100000e+03,   4.98400000e+03,\n",
       "         5.25100000e+03,   2.04700000e+03,   3.13600000e+03,\n",
       "         3.30400000e+03,   1.28800000e+03,   3.48100000e+03,\n",
       "         1.35700000e+03,   5.29000000e+02])"
      ]
     },
     "execution_count": 30,
     "metadata": {},
     "output_type": "execute_result"
    }
   ],
   "source": [
    "X_poly[0]"
   ]
  },
  {
   "cell_type": "code",
   "execution_count": 31,
   "metadata": {},
   "outputs": [
    {
     "data": {
      "text/plain": [
       "(array([ 1.94021047]),\n",
       " array([[ -1.67415131e-07,  -2.54258118e-07,  -1.79362961e-07,\n",
       "          -2.17809020e-07,  -7.55433788e-08,  -7.48909203e-08,\n",
       "          -1.13725107e-07,  -8.88311804e-08,  -2.27420598e-07,\n",
       "          -2.81408060e-07,  -2.16205213e-07,  -2.96459036e-07,\n",
       "          -4.22694988e-08,  -2.68106032e-08,  -1.81291774e-08,\n",
       "          -1.05073614e-08,   3.35688866e-10,  -1.45809123e-08,\n",
       "           1.90164065e-08,   1.49777016e-08,   3.26264492e-08,\n",
       "          -6.20607325e-10,   4.89305390e-08,  -1.90628709e-08,\n",
       "          -1.19668227e-08,  -1.44636719e-08,  -3.18769573e-08,\n",
       "          -2.12573554e-08,  -1.81867693e-05,  -1.07162347e-06,\n",
       "          -9.78858386e-06,   2.63907392e-06,   3.78972997e-06,\n",
       "           1.90644375e-06,   7.89846981e-06,  -1.25890454e-06,\n",
       "           1.00468954e-05,   4.75849622e-06,   9.61948109e-06,\n",
       "           4.41242842e-06,  -9.88343264e-07,  -5.11888460e-06,\n",
       "          -2.86765582e-07,   1.30203863e-06,   3.43533906e-06,\n",
       "           3.11327311e-06,   3.86042373e-06,   2.35871540e-06,\n",
       "           3.57442703e-06,  -3.11943979e-06,   1.25018476e-07,\n",
       "          -4.62557592e-06,  -1.18636791e-06,   1.49507554e-06,\n",
       "           4.01606089e-07,   4.82048932e-06,   1.96721248e-06,\n",
       "          -9.50403779e-07,   7.12848733e-06,  -1.16652054e-05,\n",
       "          -7.40725917e-06,  -2.20383339e-06,  -3.37019096e-07,\n",
       "           4.92017851e-07,  -3.73739999e-06,  -4.55083760e-06,\n",
       "          -5.27355880e-06,  -1.35195968e-06,  -1.32063459e-06,\n",
       "          -5.87905702e-06,   3.10634804e-06,  -5.56932137e-06,\n",
       "           4.60252133e-06,  -6.85423494e-06,   6.66199647e-06,\n",
       "          -7.14705368e-06,   1.13519793e-07,   3.40901717e-07,\n",
       "           8.01910605e-06,  -6.92309066e-06,   6.02682594e-06,\n",
       "          -5.51682054e-06,   6.40496917e-06,  -7.11931980e-06,\n",
       "          -1.79103147e-07,   6.05191343e-06,   4.24559955e-06,\n",
       "          -3.81683253e-06,  -8.66978043e-06,   3.87438496e-06,\n",
       "           3.80546010e-06,   8.62322270e-06,   4.82673387e-06,\n",
       "           5.01473401e-06,  -2.37177702e-06,  -1.78050512e-06,\n",
       "          -5.74505173e-06,   4.42516770e-06,   3.51873872e-07,\n",
       "          -9.06708146e-07,  -9.73222170e-07,   7.45675895e-06,\n",
       "           9.42739478e-07,  -7.79532162e-07,  -4.62469847e-06,\n",
       "          -3.66055872e-06,  -8.05721329e-07,  -4.42114565e-07,\n",
       "           2.70244376e-06,   3.25552492e-06,   2.30341434e-06,\n",
       "           3.56236273e-06,  -2.16790205e-07,   1.13004463e-06,\n",
       "          -4.58043847e-06,  -1.80973355e-06,   6.04384602e-07,\n",
       "           5.11704379e-06,   6.54895109e-06,   2.18672397e-06,\n",
       "          -1.88055295e-06,  -5.77199241e-06,   2.22722186e-06,\n",
       "          -1.69672516e-06,  -3.93110056e-06,  -9.42054304e-07,\n",
       "           8.88575445e-06,   6.43445105e-06,  -3.47139686e-06,\n",
       "           5.11948462e-06,  -5.58522548e-06,  -1.52913608e-07,\n",
       "          -2.95957052e-06,   3.10103027e-06,  -2.11780459e-06,\n",
       "          -8.73201648e-07,   2.01801922e-06,  -2.79141994e-07,\n",
       "           7.21791894e-06,  -3.18443531e-06,   5.82614952e-06,\n",
       "          -3.14516876e-06,   1.71469841e-06,  -4.39555497e-06,\n",
       "           2.17080096e-06,   3.13711724e-07,   2.77050339e-06,\n",
       "          -6.94216981e-07,   3.57839366e-06,   2.96903804e-07,\n",
       "           1.67748135e-06,  -1.96558619e-06,   4.40588078e-06,\n",
       "          -5.99242910e-06,  -1.95253523e-06,   3.57894059e-06,\n",
       "           3.52408366e-06,   5.50871458e-06,   2.28874984e-07,\n",
       "          -2.85706288e-06,  -8.88369444e-07,   3.52578041e-06,\n",
       "          -7.82818367e-06,  -4.98867243e-07,  -1.93722022e-06,\n",
       "           1.43781660e-06,  -3.12796417e-06,   2.19152543e-06,\n",
       "           3.71305968e-06,  -1.54002058e-06,  -8.34686785e-07,\n",
       "           1.62305276e-06,   4.58606551e-06,  -7.51854482e-06,\n",
       "          -9.64689996e-07,  -2.70551093e-06,  -3.42724779e-06,\n",
       "          -4.01668855e-06,   6.19280759e-06,   1.74448921e-06,\n",
       "           1.05061836e-05,   2.11836407e-07,   4.02671416e-06,\n",
       "           4.42993869e-06,   2.24000522e-06,   1.31140256e-05,\n",
       "           5.68548294e-06,   6.70291891e-06,   1.78373428e-06,\n",
       "           1.68755286e-06,   7.07750311e-06,   8.62521117e-07,\n",
       "           2.12391714e-06,  -2.76050761e-06,   2.01937733e-06,\n",
       "          -6.09833766e-06,   4.66661918e-07,  -6.66974544e-06,\n",
       "           4.52351591e-06,  -6.49796501e-06,   5.10431753e-06,\n",
       "          -1.35824662e-06,  -2.84781977e-06,   6.18740126e-06,\n",
       "           5.63441404e-07,  -1.89959199e-06,   4.63849093e-07,\n",
       "          -7.82427602e-06,  -9.70530628e-07,  -7.57094814e-08,\n",
       "           7.34548826e-07,   1.07469730e-05,  -2.17326117e-06,\n",
       "           8.10205663e-07,   4.43934049e-07,   1.13437541e-06,\n",
       "          -3.33055054e-06,   3.63474451e-07,  -3.98216835e-06,\n",
       "           1.26428739e-06,  -3.24887468e-06,   5.11708678e-06,\n",
       "           2.19032669e-07,  -1.65370304e-06,  -3.17289711e-06,\n",
       "          -3.94713467e-06,   3.64034787e-06,   4.90095742e-06,\n",
       "           3.30288309e-06,  -5.54553124e-06,   4.07407407e-06,\n",
       "          -1.95819023e-06,   6.59705610e-06,   1.46674677e-06,\n",
       "          -1.29565482e-06,  -4.20233891e-07,   3.34145834e-07,\n",
       "          -2.02539963e-07,  -9.10315145e-07,   1.11881795e-06,\n",
       "          -3.10034271e-06,   1.59074579e-06,  -7.34080559e-07,\n",
       "           5.63550019e-06,  -2.12392035e-06,  -2.54560393e-06,\n",
       "           2.65802767e-07,   9.87098209e-07,  -2.72762630e-06,\n",
       "          -9.20225002e-07,  -3.44865764e-06,   5.77486589e-07,\n",
       "           6.25720899e-07,  -4.28107798e-07,   2.87880469e-06,\n",
       "           1.80078119e-06,   2.15552681e-06,  -3.19175931e-07,\n",
       "           3.37523908e-06,  -1.55245988e-06,   3.34221608e-06,\n",
       "          -1.46503526e-06,   6.06423255e-06,  -8.09367117e-06,\n",
       "          -1.30791184e-06,   3.54916508e-06,  -4.91752206e-06,\n",
       "           6.48361172e-06,   1.31600418e-06,   7.82105916e-06,\n",
       "           5.62807567e-07,   3.13928412e-06,  -4.47942492e-06,\n",
       "           1.16526481e-06,  -6.42330626e-06,  -1.80496643e-06,\n",
       "          -4.64259778e-06,  -3.15420243e-06,   3.26612364e-07,\n",
       "          -3.50374692e-07,   5.55861917e-06,  -4.39690558e-06,\n",
       "           1.54024683e-06,  -4.64915266e-06,  -2.57088692e-06,\n",
       "           5.33386935e-06,  -2.25411781e-06,   1.60218334e-06,\n",
       "           3.09801496e-06,  -3.13265329e-06,   2.57147557e-06,\n",
       "          -4.50317803e-06,  -1.93613015e-06,  -7.13243506e-07,\n",
       "          -4.85325178e-06,   4.21624787e-06,  -3.70313381e-06,\n",
       "           4.64376393e-06,  -1.05782110e-05,  -1.22074651e-05,\n",
       "           9.60941566e-07,  -6.48362669e-06,   4.96803557e-06,\n",
       "          -2.65874394e-06,   9.29780077e-06,  -5.26228349e-07,\n",
       "           7.03277274e-06,  -7.46219079e-06,   9.49237656e-06,\n",
       "          -1.06180645e-05,   4.25131078e-06,  -1.49888471e-06,\n",
       "           2.22904498e-07,  -2.28014733e-06,  -4.85051790e-06,\n",
       "           3.38465210e-06,   6.25620720e-06,   5.18594812e-06,\n",
       "           1.96042997e-06,  -4.63400270e-06,   2.68583701e-06,\n",
       "           2.34265855e-06,   4.99681045e-07,  -2.15249213e-06,\n",
       "           4.77325104e-06,   1.43171009e-07,   2.63834868e-06,\n",
       "          -5.00234675e-06,   1.87970471e-07,  -1.23542195e-05,\n",
       "          -1.06261052e-05,   1.09677210e-06,   1.88447278e-06,\n",
       "           4.26109481e-06,   1.28040831e-07,   4.22810518e-06,\n",
       "          -3.07628187e-06,   9.52040577e-06,  -6.89985666e-06,\n",
       "           1.19675940e-06,   3.60436653e-06,  -7.77249472e-07,\n",
       "          -1.59404722e-06,  -1.11873320e-05,   5.06531681e-06,\n",
       "           5.01907083e-06,  -3.44780109e-06,   3.23644817e-06,\n",
       "           2.16800082e-06,   5.90367368e-06,  -2.24183664e-07,\n",
       "           3.75115098e-06,  -3.01439619e-06,   4.60739808e-06,\n",
       "          -9.41529869e-06,   4.60347024e-07,   1.69936515e-06,\n",
       "          -3.12886983e-07,   7.96278822e-07,   6.19946918e-07,\n",
       "           1.26250899e-06,  -1.81292752e-06,   9.78615417e-06,\n",
       "           3.79242260e-07,   1.99432098e-06,   3.51476759e-06,\n",
       "          -5.44733436e-07,  -2.91901457e-06,   7.63221252e-07,\n",
       "          -8.53544576e-06,   8.22977021e-08,  -4.76510880e-06,\n",
       "           1.64638440e-06,  -3.91972163e-06,  -9.70983519e-07,\n",
       "          -4.07062910e-06,   1.21649581e-06,  -8.67046961e-06,\n",
       "           1.11346748e-06,  -6.24183182e-06,  -2.68014426e-06,\n",
       "          -2.96143368e-06,  -5.92743610e-06,  -6.79395640e-06,\n",
       "          -6.52902786e-06,   4.25103423e-06,  -3.67373152e-06,\n",
       "           1.14157320e-06,  -3.71254930e-06,   7.42532685e-07,\n",
       "           3.71325837e-06,   3.30213180e-06,  -6.53052442e-07,\n",
       "          -4.59238341e-06,   2.09589114e-07,  -1.09063586e-06,\n",
       "          -1.56353670e-06,  -1.79584274e-07,  -2.81338164e-06,\n",
       "          -3.57318926e-06,  -5.79115639e-06,   4.44523964e-06,\n",
       "           6.79865064e-06,   2.10611956e-06,   3.26856202e-06,\n",
       "          -2.63557973e-06,  -3.64757267e-06,  -3.83914624e-07,\n",
       "          -6.13743632e-08,  -1.11051171e-06,   2.09457714e-06,\n",
       "          -4.47225179e-06,  -2.99248386e-07,  -2.57803569e-06,\n",
       "           6.38965765e-06,   6.34588303e-06,   1.14862157e-06,\n",
       "           7.25680845e-06,  -3.24252352e-06,   2.35861036e-06,\n",
       "           9.67831239e-07,   7.26370338e-07,  -1.70004300e-06,\n",
       "          -3.86729762e-06,   8.53553088e-06,  -3.48356101e-07,\n",
       "           2.68543805e-06,  -3.84212042e-06,  -8.48334065e-07,\n",
       "          -4.08599622e-06,  -1.67680687e-06,   2.12172903e-06,\n",
       "          -4.65501672e-06,   2.07324439e-06]]))"
      ]
     },
     "execution_count": 31,
     "metadata": {},
     "output_type": "execute_result"
    }
   ],
   "source": [
    "lin_reg = LinearRegression()\n",
    "lin_reg.fit(X_poly, MET_train)\n",
    "lin_reg.intercept_, lin_reg.coef_"
   ]
  },
  {
   "cell_type": "code",
   "execution_count": 32,
   "metadata": {},
   "outputs": [
    {
     "ename": "ValueError",
     "evalue": "shapes (10,28) and (434,1) not aligned: 28 (dim 1) != 434 (dim 0)",
     "output_type": "error",
     "traceback": [
      "\u001b[0;31m---------------------------------------------------------------------------\u001b[0m",
      "\u001b[0;31mValueError\u001b[0m                                Traceback (most recent call last)",
      "\u001b[0;32m<ipython-input-32-669d4ede39b6>\u001b[0m in \u001b[0;36m<module>\u001b[0;34m()\u001b[0m\n\u001b[0;32m----> 1\u001b[0;31m \u001b[0mlin_reg\u001b[0m\u001b[0;34m.\u001b[0m\u001b[0mpredict\u001b[0m\u001b[0;34m(\u001b[0m\u001b[0mcoco_test\u001b[0m\u001b[0;34m)\u001b[0m\u001b[0;34m\u001b[0m\u001b[0m\n\u001b[0m",
      "\u001b[0;32m~/eunjivenv/lib/python3.5/site-packages/sklearn/linear_model/base.py\u001b[0m in \u001b[0;36mpredict\u001b[0;34m(self, X)\u001b[0m\n\u001b[1;32m    254\u001b[0m             \u001b[0mReturns\u001b[0m \u001b[0mpredicted\u001b[0m \u001b[0mvalues\u001b[0m\u001b[0;34m.\u001b[0m\u001b[0;34m\u001b[0m\u001b[0m\n\u001b[1;32m    255\u001b[0m         \"\"\"\n\u001b[0;32m--> 256\u001b[0;31m         \u001b[0;32mreturn\u001b[0m \u001b[0mself\u001b[0m\u001b[0;34m.\u001b[0m\u001b[0m_decision_function\u001b[0m\u001b[0;34m(\u001b[0m\u001b[0mX\u001b[0m\u001b[0;34m)\u001b[0m\u001b[0;34m\u001b[0m\u001b[0m\n\u001b[0m\u001b[1;32m    257\u001b[0m \u001b[0;34m\u001b[0m\u001b[0m\n\u001b[1;32m    258\u001b[0m     \u001b[0m_preprocess_data\u001b[0m \u001b[0;34m=\u001b[0m \u001b[0mstaticmethod\u001b[0m\u001b[0;34m(\u001b[0m\u001b[0m_preprocess_data\u001b[0m\u001b[0;34m)\u001b[0m\u001b[0;34m\u001b[0m\u001b[0m\n",
      "\u001b[0;32m~/eunjivenv/lib/python3.5/site-packages/sklearn/linear_model/base.py\u001b[0m in \u001b[0;36m_decision_function\u001b[0;34m(self, X)\u001b[0m\n\u001b[1;32m    239\u001b[0m         \u001b[0mX\u001b[0m \u001b[0;34m=\u001b[0m \u001b[0mcheck_array\u001b[0m\u001b[0;34m(\u001b[0m\u001b[0mX\u001b[0m\u001b[0;34m,\u001b[0m \u001b[0maccept_sparse\u001b[0m\u001b[0;34m=\u001b[0m\u001b[0;34m[\u001b[0m\u001b[0;34m'csr'\u001b[0m\u001b[0;34m,\u001b[0m \u001b[0;34m'csc'\u001b[0m\u001b[0;34m,\u001b[0m \u001b[0;34m'coo'\u001b[0m\u001b[0;34m]\u001b[0m\u001b[0;34m)\u001b[0m\u001b[0;34m\u001b[0m\u001b[0m\n\u001b[1;32m    240\u001b[0m         return safe_sparse_dot(X, self.coef_.T,\n\u001b[0;32m--> 241\u001b[0;31m                                dense_output=True) + self.intercept_\n\u001b[0m\u001b[1;32m    242\u001b[0m \u001b[0;34m\u001b[0m\u001b[0m\n\u001b[1;32m    243\u001b[0m     \u001b[0;32mdef\u001b[0m \u001b[0mpredict\u001b[0m\u001b[0;34m(\u001b[0m\u001b[0mself\u001b[0m\u001b[0;34m,\u001b[0m \u001b[0mX\u001b[0m\u001b[0;34m)\u001b[0m\u001b[0;34m:\u001b[0m\u001b[0;34m\u001b[0m\u001b[0m\n",
      "\u001b[0;32m~/eunjivenv/lib/python3.5/site-packages/sklearn/utils/extmath.py\u001b[0m in \u001b[0;36msafe_sparse_dot\u001b[0;34m(a, b, dense_output)\u001b[0m\n\u001b[1;32m    138\u001b[0m         \u001b[0;32mreturn\u001b[0m \u001b[0mret\u001b[0m\u001b[0;34m\u001b[0m\u001b[0m\n\u001b[1;32m    139\u001b[0m     \u001b[0;32melse\u001b[0m\u001b[0;34m:\u001b[0m\u001b[0;34m\u001b[0m\u001b[0m\n\u001b[0;32m--> 140\u001b[0;31m         \u001b[0;32mreturn\u001b[0m \u001b[0mnp\u001b[0m\u001b[0;34m.\u001b[0m\u001b[0mdot\u001b[0m\u001b[0;34m(\u001b[0m\u001b[0ma\u001b[0m\u001b[0;34m,\u001b[0m \u001b[0mb\u001b[0m\u001b[0;34m)\u001b[0m\u001b[0;34m\u001b[0m\u001b[0m\n\u001b[0m\u001b[1;32m    141\u001b[0m \u001b[0;34m\u001b[0m\u001b[0m\n\u001b[1;32m    142\u001b[0m \u001b[0;34m\u001b[0m\u001b[0m\n",
      "\u001b[0;31mValueError\u001b[0m: shapes (10,28) and (434,1) not aligned: 28 (dim 1) != 434 (dim 0)"
     ]
    }
   ],
   "source": [
    "lin_reg.predict(coco_test)"
   ]
  },
  {
   "cell_type": "markdown",
   "metadata": {},
   "source": [
    "### Polynomial Regression Conclusion\n",
    "\n",
    "오류발생으로 해결 못한 상태"
   ]
  },
  {
   "cell_type": "markdown",
   "metadata": {},
   "source": [
    "# 4. MLPRegression"
   ]
  },
  {
   "cell_type": "code",
   "execution_count": 33,
   "metadata": {},
   "outputs": [
    {
     "name": "stderr",
     "output_type": "stream",
     "text": [
      "/home/ejjchl77/eunjivenv/lib/python3.5/site-packages/sklearn/neural_network/multilayer_perceptron.py:1306: DataConversionWarning: A column-vector y was passed when a 1d array was expected. Please change the shape of y to (n_samples, ), for example using ravel().\n",
      "  y = column_or_1d(y, warn=True)\n",
      "/home/ejjchl77/eunjivenv/lib/python3.5/site-packages/sklearn/neural_network/multilayer_perceptron.py:564: ConvergenceWarning: Stochastic Optimizer: Maximum iterations (200) reached and the optimization hasn't converged yet.\n",
      "  % self.max_iter, ConvergenceWarning)\n"
     ]
    }
   ],
   "source": [
    "import numpy as np\n",
    "from sklearn.neural_network import MLPRegressor \n",
    "\n",
    "X = coco_train\n",
    "y = MET_train.astype(np.float)\n",
    "\n",
    "per_clf = MLPRegressor(random_state=42, activation=\"relu\", solver=\"adam\")\n",
    "per_clf.fit(X, y)\n",
    "\n",
    "y_pred = per_clf.predict(coco_test)"
   ]
  },
  {
   "cell_type": "code",
   "execution_count": 34,
   "metadata": {},
   "outputs": [
    {
     "data": {
      "text/plain": [
       "array([[ 0.7],\n",
       "       [ 0.7],\n",
       "       [ 1. ],\n",
       "       [ 1. ],\n",
       "       [ 1.2],\n",
       "       [ 1.2],\n",
       "       [ 1.2],\n",
       "       [ 1.2],\n",
       "       [ 1.8],\n",
       "       [ 1.8]])"
      ]
     },
     "execution_count": 34,
     "metadata": {},
     "output_type": "execute_result"
    }
   ],
   "source": [
    "MET_test"
   ]
  },
  {
   "cell_type": "code",
   "execution_count": 35,
   "metadata": {},
   "outputs": [
    {
     "data": {
      "text/plain": [
       "array([  5.82814589,   8.49427969,  -3.60274039,   7.23754122,\n",
       "        -4.46605475,  19.96264307,  10.91469327,   6.35614281,\n",
       "        -5.68677949, -12.04871961])"
      ]
     },
     "execution_count": 35,
     "metadata": {},
     "output_type": "execute_result"
    }
   ],
   "source": [
    "y_pred"
   ]
  },
  {
   "cell_type": "markdown",
   "metadata": {},
   "source": [
    "# 5. TensorFlow"
   ]
  },
  {
   "cell_type": "code",
   "execution_count": 36,
   "metadata": {},
   "outputs": [],
   "source": [
    "def reset_graph(seed=42):\n",
    "    tf.reset_default_graph()\n",
    "    tf.set_random_seed(seed)\n",
    "    np.random.seed(seed)"
   ]
  },
  {
   "cell_type": "code",
   "execution_count": 37,
   "metadata": {},
   "outputs": [],
   "source": [
    "import tensorflow as tf\n",
    "\n",
    "n_inputs = 28 \n",
    "n_hidden1 = 300\n",
    "n_hidden2 = 100\n",
    "n_outputs = 1     #MET값 1개"
   ]
  },
  {
   "cell_type": "code",
   "execution_count": 38,
   "metadata": {},
   "outputs": [],
   "source": [
    "reset_graph()\n",
    "\n",
    "X = tf.placeholder(tf.float32, shape=(None, n_inputs), name=\"X\")\n",
    "y = tf.placeholder(tf.float32, shape=(None, 1), name=\"y\")"
   ]
  },
  {
   "cell_type": "code",
   "execution_count": 39,
   "metadata": {},
   "outputs": [],
   "source": [
    "def reset_graph(seed=42):\n",
    "    tf.reset_default_graph()\n",
    "    tf.set_random_seed(seed)\n",
    "    np.random.seed(seed)"
   ]
  },
  {
   "cell_type": "code",
   "execution_count": 40,
   "metadata": {},
   "outputs": [
    {
     "data": {
      "text/plain": [
       "Dimension(28)"
      ]
     },
     "execution_count": 40,
     "metadata": {},
     "output_type": "execute_result"
    }
   ],
   "source": [
    "X.get_shape()[1]"
   ]
  },
  {
   "cell_type": "code",
   "execution_count": 41,
   "metadata": {},
   "outputs": [],
   "source": [
    "def neuron_layer(X, n_neurons, name, activation=None):\n",
    "    with tf.name_scope(name):\n",
    "        n_inputs = int(X.get_shape()[1])\n",
    "        stddev = 2 / np.sqrt(n_inputs)\n",
    "        init = tf.truncated_normal((n_inputs, n_neurons), stddev=stddev)\n",
    "        W = tf.Variable(init, name=\"kernel\")\n",
    "        b = tf.Variable(tf.zeros([n_neurons], dtype=tf.float32), name=\"bias\")\n",
    "        Z = tf.matmul(X, W) + b\n",
    "        if activation is not None:\n",
    "            return activation(Z)\n",
    "        else:\n",
    "            return Z"
   ]
  },
  {
   "cell_type": "code",
   "execution_count": 42,
   "metadata": {},
   "outputs": [],
   "source": [
    "with tf.name_scope(\"dnn\"):\n",
    "    hidden1 = neuron_layer(X, n_hidden1, name=\"hidden1\",\n",
    "                           activation=tf.nn.relu)\n",
    "    hidden2 = neuron_layer(hidden1, n_hidden2, name=\"hidden2\",\n",
    "                           activation=tf.nn.relu)\n",
    "    logits = neuron_layer(hidden2, n_outputs, name=\"outputs\")\n"
   ]
  },
  {
   "cell_type": "code",
   "execution_count": 43,
   "metadata": {},
   "outputs": [],
   "source": [
    "from sklearn.metrics import mean_squared_error\n",
    "\n",
    "with tf.name_scope(\"loss\"):\n",
    "    #xentropy = tf.nn.sparse_softmax_cross_entropy_with_logits(labels=y,\n",
    "    #                                                          logits=logits)\n",
    "    loss = tf.losses.mean_squared_error(y, logits)\n",
    "    #loss = -tf.reduce_sum(logits * tf.log(p))\n",
    "    #loss = tf.reduce_mean(xentropy, name=\"loss\")"
   ]
  },
  {
   "cell_type": "code",
   "execution_count": 44,
   "metadata": {},
   "outputs": [],
   "source": [
    "learning_rate = 0.01\n",
    "\n",
    "with tf.name_scope(\"train\"):\n",
    "    optimizer = tf.train.GradientDescentOptimizer(learning_rate)\n",
    "    training_op = optimizer.minimize(loss)"
   ]
  },
  {
   "cell_type": "code",
   "execution_count": 45,
   "metadata": {},
   "outputs": [],
   "source": [
    "#with tf.name_scope(\"eval\"):\n",
    "#    correct = tf.nn.in_top_k(logits, y, 1)  -> 위에서부터 가장 큰 값만 찾는건 라벨링 된 이미지 처리할때\n",
    "#    accuracy = tf.reduce_mean(tf.cast(correct, tf.float32))"
   ]
  },
  {
   "cell_type": "code",
   "execution_count": 46,
   "metadata": {},
   "outputs": [],
   "source": [
    "init = tf.global_variables_initializer()\n",
    "saver = tf.train.Saver()"
   ]
  },
  {
   "cell_type": "code",
   "execution_count": 47,
   "metadata": {},
   "outputs": [],
   "source": [
    "n_epochs = 500"
   ]
  },
  {
   "cell_type": "code",
   "execution_count": 48,
   "metadata": {},
   "outputs": [
    {
     "name": "stdout",
     "output_type": "stream",
     "text": [
      "0 loss : Tensor(\"loss/mean_squared_error/value:0\", shape=(), dtype=float32)\n",
      "1 loss : Tensor(\"loss/mean_squared_error/value:0\", shape=(), dtype=float32)\n",
      "2 loss : Tensor(\"loss/mean_squared_error/value:0\", shape=(), dtype=float32)\n",
      "3 loss : Tensor(\"loss/mean_squared_error/value:0\", shape=(), dtype=float32)\n",
      "4 loss : Tensor(\"loss/mean_squared_error/value:0\", shape=(), dtype=float32)\n",
      "5 loss : Tensor(\"loss/mean_squared_error/value:0\", shape=(), dtype=float32)\n",
      "6 loss : Tensor(\"loss/mean_squared_error/value:0\", shape=(), dtype=float32)\n",
      "7 loss : Tensor(\"loss/mean_squared_error/value:0\", shape=(), dtype=float32)\n",
      "8 loss : Tensor(\"loss/mean_squared_error/value:0\", shape=(), dtype=float32)\n",
      "9 loss : Tensor(\"loss/mean_squared_error/value:0\", shape=(), dtype=float32)\n",
      "10 loss : Tensor(\"loss/mean_squared_error/value:0\", shape=(), dtype=float32)\n",
      "11 loss : Tensor(\"loss/mean_squared_error/value:0\", shape=(), dtype=float32)\n",
      "12 loss : Tensor(\"loss/mean_squared_error/value:0\", shape=(), dtype=float32)\n",
      "13 loss : Tensor(\"loss/mean_squared_error/value:0\", shape=(), dtype=float32)\n",
      "14 loss : Tensor(\"loss/mean_squared_error/value:0\", shape=(), dtype=float32)\n",
      "15 loss : Tensor(\"loss/mean_squared_error/value:0\", shape=(), dtype=float32)\n",
      "16 loss : Tensor(\"loss/mean_squared_error/value:0\", shape=(), dtype=float32)\n",
      "17 loss : Tensor(\"loss/mean_squared_error/value:0\", shape=(), dtype=float32)\n",
      "18 loss : Tensor(\"loss/mean_squared_error/value:0\", shape=(), dtype=float32)\n",
      "19 loss : Tensor(\"loss/mean_squared_error/value:0\", shape=(), dtype=float32)\n",
      "20 loss : Tensor(\"loss/mean_squared_error/value:0\", shape=(), dtype=float32)\n",
      "21 loss : Tensor(\"loss/mean_squared_error/value:0\", shape=(), dtype=float32)\n",
      "22 loss : Tensor(\"loss/mean_squared_error/value:0\", shape=(), dtype=float32)\n",
      "23 loss : Tensor(\"loss/mean_squared_error/value:0\", shape=(), dtype=float32)\n",
      "24 loss : Tensor(\"loss/mean_squared_error/value:0\", shape=(), dtype=float32)\n",
      "25 loss : Tensor(\"loss/mean_squared_error/value:0\", shape=(), dtype=float32)\n",
      "26 loss : Tensor(\"loss/mean_squared_error/value:0\", shape=(), dtype=float32)\n",
      "27 loss : Tensor(\"loss/mean_squared_error/value:0\", shape=(), dtype=float32)\n",
      "28 loss : Tensor(\"loss/mean_squared_error/value:0\", shape=(), dtype=float32)\n",
      "29 loss : Tensor(\"loss/mean_squared_error/value:0\", shape=(), dtype=float32)\n",
      "30 loss : Tensor(\"loss/mean_squared_error/value:0\", shape=(), dtype=float32)\n",
      "31 loss : Tensor(\"loss/mean_squared_error/value:0\", shape=(), dtype=float32)\n",
      "32 loss : Tensor(\"loss/mean_squared_error/value:0\", shape=(), dtype=float32)\n",
      "33 loss : Tensor(\"loss/mean_squared_error/value:0\", shape=(), dtype=float32)\n",
      "34 loss : Tensor(\"loss/mean_squared_error/value:0\", shape=(), dtype=float32)\n",
      "35 loss : Tensor(\"loss/mean_squared_error/value:0\", shape=(), dtype=float32)\n",
      "36 loss : Tensor(\"loss/mean_squared_error/value:0\", shape=(), dtype=float32)\n",
      "37 loss : Tensor(\"loss/mean_squared_error/value:0\", shape=(), dtype=float32)\n",
      "38 loss : Tensor(\"loss/mean_squared_error/value:0\", shape=(), dtype=float32)\n",
      "39 loss : Tensor(\"loss/mean_squared_error/value:0\", shape=(), dtype=float32)\n",
      "40 loss : Tensor(\"loss/mean_squared_error/value:0\", shape=(), dtype=float32)\n",
      "41 loss : Tensor(\"loss/mean_squared_error/value:0\", shape=(), dtype=float32)\n",
      "42 loss : Tensor(\"loss/mean_squared_error/value:0\", shape=(), dtype=float32)\n",
      "43 loss : Tensor(\"loss/mean_squared_error/value:0\", shape=(), dtype=float32)\n",
      "44 loss : Tensor(\"loss/mean_squared_error/value:0\", shape=(), dtype=float32)\n",
      "45 loss : Tensor(\"loss/mean_squared_error/value:0\", shape=(), dtype=float32)\n",
      "46 loss : Tensor(\"loss/mean_squared_error/value:0\", shape=(), dtype=float32)\n",
      "47 loss : Tensor(\"loss/mean_squared_error/value:0\", shape=(), dtype=float32)\n",
      "48 loss : Tensor(\"loss/mean_squared_error/value:0\", shape=(), dtype=float32)\n",
      "49 loss : Tensor(\"loss/mean_squared_error/value:0\", shape=(), dtype=float32)\n",
      "50 loss : Tensor(\"loss/mean_squared_error/value:0\", shape=(), dtype=float32)\n",
      "51 loss : Tensor(\"loss/mean_squared_error/value:0\", shape=(), dtype=float32)\n",
      "52 loss : Tensor(\"loss/mean_squared_error/value:0\", shape=(), dtype=float32)\n",
      "53 loss : Tensor(\"loss/mean_squared_error/value:0\", shape=(), dtype=float32)\n",
      "54 loss : Tensor(\"loss/mean_squared_error/value:0\", shape=(), dtype=float32)\n",
      "55 loss : Tensor(\"loss/mean_squared_error/value:0\", shape=(), dtype=float32)\n",
      "56 loss : Tensor(\"loss/mean_squared_error/value:0\", shape=(), dtype=float32)\n",
      "57 loss : Tensor(\"loss/mean_squared_error/value:0\", shape=(), dtype=float32)\n",
      "58 loss : Tensor(\"loss/mean_squared_error/value:0\", shape=(), dtype=float32)\n",
      "59 loss : Tensor(\"loss/mean_squared_error/value:0\", shape=(), dtype=float32)\n",
      "60 loss : Tensor(\"loss/mean_squared_error/value:0\", shape=(), dtype=float32)\n",
      "61 loss : Tensor(\"loss/mean_squared_error/value:0\", shape=(), dtype=float32)\n",
      "62 loss : Tensor(\"loss/mean_squared_error/value:0\", shape=(), dtype=float32)\n",
      "63 loss : Tensor(\"loss/mean_squared_error/value:0\", shape=(), dtype=float32)\n",
      "64 loss : Tensor(\"loss/mean_squared_error/value:0\", shape=(), dtype=float32)\n",
      "65 loss : Tensor(\"loss/mean_squared_error/value:0\", shape=(), dtype=float32)\n",
      "66 loss : Tensor(\"loss/mean_squared_error/value:0\", shape=(), dtype=float32)\n",
      "67 loss : Tensor(\"loss/mean_squared_error/value:0\", shape=(), dtype=float32)\n",
      "68 loss : Tensor(\"loss/mean_squared_error/value:0\", shape=(), dtype=float32)\n",
      "69 loss : Tensor(\"loss/mean_squared_error/value:0\", shape=(), dtype=float32)\n",
      "70 loss : Tensor(\"loss/mean_squared_error/value:0\", shape=(), dtype=float32)\n",
      "71 loss : Tensor(\"loss/mean_squared_error/value:0\", shape=(), dtype=float32)\n",
      "72 loss : Tensor(\"loss/mean_squared_error/value:0\", shape=(), dtype=float32)\n",
      "73 loss : Tensor(\"loss/mean_squared_error/value:0\", shape=(), dtype=float32)\n",
      "74 loss : Tensor(\"loss/mean_squared_error/value:0\", shape=(), dtype=float32)\n",
      "75 loss : Tensor(\"loss/mean_squared_error/value:0\", shape=(), dtype=float32)\n",
      "76 loss : Tensor(\"loss/mean_squared_error/value:0\", shape=(), dtype=float32)\n",
      "77 loss : Tensor(\"loss/mean_squared_error/value:0\", shape=(), dtype=float32)\n",
      "78 loss : Tensor(\"loss/mean_squared_error/value:0\", shape=(), dtype=float32)\n",
      "79 loss : Tensor(\"loss/mean_squared_error/value:0\", shape=(), dtype=float32)\n",
      "80 loss : Tensor(\"loss/mean_squared_error/value:0\", shape=(), dtype=float32)\n",
      "81 loss : Tensor(\"loss/mean_squared_error/value:0\", shape=(), dtype=float32)\n",
      "82 loss : Tensor(\"loss/mean_squared_error/value:0\", shape=(), dtype=float32)\n",
      "83 loss : Tensor(\"loss/mean_squared_error/value:0\", shape=(), dtype=float32)\n",
      "84 loss : Tensor(\"loss/mean_squared_error/value:0\", shape=(), dtype=float32)\n",
      "85 loss : Tensor(\"loss/mean_squared_error/value:0\", shape=(), dtype=float32)\n",
      "86 loss : Tensor(\"loss/mean_squared_error/value:0\", shape=(), dtype=float32)\n",
      "87 loss : Tensor(\"loss/mean_squared_error/value:0\", shape=(), dtype=float32)\n",
      "88 loss : Tensor(\"loss/mean_squared_error/value:0\", shape=(), dtype=float32)\n",
      "89 loss : Tensor(\"loss/mean_squared_error/value:0\", shape=(), dtype=float32)\n",
      "90 loss : Tensor(\"loss/mean_squared_error/value:0\", shape=(), dtype=float32)\n",
      "91 loss : Tensor(\"loss/mean_squared_error/value:0\", shape=(), dtype=float32)\n",
      "92 loss : Tensor(\"loss/mean_squared_error/value:0\", shape=(), dtype=float32)\n",
      "93 loss : Tensor(\"loss/mean_squared_error/value:0\", shape=(), dtype=float32)\n",
      "94 loss : Tensor(\"loss/mean_squared_error/value:0\", shape=(), dtype=float32)\n",
      "95 loss : Tensor(\"loss/mean_squared_error/value:0\", shape=(), dtype=float32)\n",
      "96 loss : Tensor(\"loss/mean_squared_error/value:0\", shape=(), dtype=float32)\n",
      "97 loss : Tensor(\"loss/mean_squared_error/value:0\", shape=(), dtype=float32)\n",
      "98 loss : Tensor(\"loss/mean_squared_error/value:0\", shape=(), dtype=float32)\n",
      "99 loss : Tensor(\"loss/mean_squared_error/value:0\", shape=(), dtype=float32)\n",
      "100 loss : Tensor(\"loss/mean_squared_error/value:0\", shape=(), dtype=float32)\n",
      "101 loss : Tensor(\"loss/mean_squared_error/value:0\", shape=(), dtype=float32)\n",
      "102 loss : Tensor(\"loss/mean_squared_error/value:0\", shape=(), dtype=float32)\n",
      "103 loss : Tensor(\"loss/mean_squared_error/value:0\", shape=(), dtype=float32)\n",
      "104 loss : Tensor(\"loss/mean_squared_error/value:0\", shape=(), dtype=float32)\n",
      "105 loss : Tensor(\"loss/mean_squared_error/value:0\", shape=(), dtype=float32)\n",
      "106 loss : Tensor(\"loss/mean_squared_error/value:0\", shape=(), dtype=float32)\n",
      "107 loss : Tensor(\"loss/mean_squared_error/value:0\", shape=(), dtype=float32)\n",
      "108 loss : Tensor(\"loss/mean_squared_error/value:0\", shape=(), dtype=float32)\n",
      "109 loss : Tensor(\"loss/mean_squared_error/value:0\", shape=(), dtype=float32)\n",
      "110 loss : Tensor(\"loss/mean_squared_error/value:0\", shape=(), dtype=float32)\n",
      "111 loss : Tensor(\"loss/mean_squared_error/value:0\", shape=(), dtype=float32)\n",
      "112 loss : Tensor(\"loss/mean_squared_error/value:0\", shape=(), dtype=float32)\n",
      "113 loss : Tensor(\"loss/mean_squared_error/value:0\", shape=(), dtype=float32)\n",
      "114 loss : Tensor(\"loss/mean_squared_error/value:0\", shape=(), dtype=float32)\n",
      "115 loss : Tensor(\"loss/mean_squared_error/value:0\", shape=(), dtype=float32)\n",
      "116 loss : Tensor(\"loss/mean_squared_error/value:0\", shape=(), dtype=float32)\n"
     ]
    },
    {
     "name": "stdout",
     "output_type": "stream",
     "text": [
      "117 loss : Tensor(\"loss/mean_squared_error/value:0\", shape=(), dtype=float32)\n",
      "118 loss : Tensor(\"loss/mean_squared_error/value:0\", shape=(), dtype=float32)\n",
      "119 loss : Tensor(\"loss/mean_squared_error/value:0\", shape=(), dtype=float32)\n",
      "120 loss : Tensor(\"loss/mean_squared_error/value:0\", shape=(), dtype=float32)\n",
      "121 loss : Tensor(\"loss/mean_squared_error/value:0\", shape=(), dtype=float32)\n",
      "122 loss : Tensor(\"loss/mean_squared_error/value:0\", shape=(), dtype=float32)\n",
      "123 loss : Tensor(\"loss/mean_squared_error/value:0\", shape=(), dtype=float32)\n",
      "124 loss : Tensor(\"loss/mean_squared_error/value:0\", shape=(), dtype=float32)\n",
      "125 loss : Tensor(\"loss/mean_squared_error/value:0\", shape=(), dtype=float32)\n",
      "126 loss : Tensor(\"loss/mean_squared_error/value:0\", shape=(), dtype=float32)\n",
      "127 loss : Tensor(\"loss/mean_squared_error/value:0\", shape=(), dtype=float32)\n",
      "128 loss : Tensor(\"loss/mean_squared_error/value:0\", shape=(), dtype=float32)\n",
      "129 loss : Tensor(\"loss/mean_squared_error/value:0\", shape=(), dtype=float32)\n",
      "130 loss : Tensor(\"loss/mean_squared_error/value:0\", shape=(), dtype=float32)\n",
      "131 loss : Tensor(\"loss/mean_squared_error/value:0\", shape=(), dtype=float32)\n",
      "132 loss : Tensor(\"loss/mean_squared_error/value:0\", shape=(), dtype=float32)\n",
      "133 loss : Tensor(\"loss/mean_squared_error/value:0\", shape=(), dtype=float32)\n",
      "134 loss : Tensor(\"loss/mean_squared_error/value:0\", shape=(), dtype=float32)\n",
      "135 loss : Tensor(\"loss/mean_squared_error/value:0\", shape=(), dtype=float32)\n",
      "136 loss : Tensor(\"loss/mean_squared_error/value:0\", shape=(), dtype=float32)\n",
      "137 loss : Tensor(\"loss/mean_squared_error/value:0\", shape=(), dtype=float32)\n",
      "138 loss : Tensor(\"loss/mean_squared_error/value:0\", shape=(), dtype=float32)\n",
      "139 loss : Tensor(\"loss/mean_squared_error/value:0\", shape=(), dtype=float32)\n",
      "140 loss : Tensor(\"loss/mean_squared_error/value:0\", shape=(), dtype=float32)\n",
      "141 loss : Tensor(\"loss/mean_squared_error/value:0\", shape=(), dtype=float32)\n",
      "142 loss : Tensor(\"loss/mean_squared_error/value:0\", shape=(), dtype=float32)\n",
      "143 loss : Tensor(\"loss/mean_squared_error/value:0\", shape=(), dtype=float32)\n",
      "144 loss : Tensor(\"loss/mean_squared_error/value:0\", shape=(), dtype=float32)\n",
      "145 loss : Tensor(\"loss/mean_squared_error/value:0\", shape=(), dtype=float32)\n",
      "146 loss : Tensor(\"loss/mean_squared_error/value:0\", shape=(), dtype=float32)\n",
      "147 loss : Tensor(\"loss/mean_squared_error/value:0\", shape=(), dtype=float32)\n",
      "148 loss : Tensor(\"loss/mean_squared_error/value:0\", shape=(), dtype=float32)\n",
      "149 loss : Tensor(\"loss/mean_squared_error/value:0\", shape=(), dtype=float32)\n",
      "150 loss : Tensor(\"loss/mean_squared_error/value:0\", shape=(), dtype=float32)\n",
      "151 loss : Tensor(\"loss/mean_squared_error/value:0\", shape=(), dtype=float32)\n",
      "152 loss : Tensor(\"loss/mean_squared_error/value:0\", shape=(), dtype=float32)\n",
      "153 loss : Tensor(\"loss/mean_squared_error/value:0\", shape=(), dtype=float32)\n",
      "154 loss : Tensor(\"loss/mean_squared_error/value:0\", shape=(), dtype=float32)\n",
      "155 loss : Tensor(\"loss/mean_squared_error/value:0\", shape=(), dtype=float32)\n",
      "156 loss : Tensor(\"loss/mean_squared_error/value:0\", shape=(), dtype=float32)\n",
      "157 loss : Tensor(\"loss/mean_squared_error/value:0\", shape=(), dtype=float32)\n",
      "158 loss : Tensor(\"loss/mean_squared_error/value:0\", shape=(), dtype=float32)\n",
      "159 loss : Tensor(\"loss/mean_squared_error/value:0\", shape=(), dtype=float32)\n",
      "160 loss : Tensor(\"loss/mean_squared_error/value:0\", shape=(), dtype=float32)\n",
      "161 loss : Tensor(\"loss/mean_squared_error/value:0\", shape=(), dtype=float32)\n",
      "162 loss : Tensor(\"loss/mean_squared_error/value:0\", shape=(), dtype=float32)\n",
      "163 loss : Tensor(\"loss/mean_squared_error/value:0\", shape=(), dtype=float32)\n",
      "164 loss : Tensor(\"loss/mean_squared_error/value:0\", shape=(), dtype=float32)\n",
      "165 loss : Tensor(\"loss/mean_squared_error/value:0\", shape=(), dtype=float32)\n",
      "166 loss : Tensor(\"loss/mean_squared_error/value:0\", shape=(), dtype=float32)\n",
      "167 loss : Tensor(\"loss/mean_squared_error/value:0\", shape=(), dtype=float32)\n",
      "168 loss : Tensor(\"loss/mean_squared_error/value:0\", shape=(), dtype=float32)\n",
      "169 loss : Tensor(\"loss/mean_squared_error/value:0\", shape=(), dtype=float32)\n",
      "170 loss : Tensor(\"loss/mean_squared_error/value:0\", shape=(), dtype=float32)\n",
      "171 loss : Tensor(\"loss/mean_squared_error/value:0\", shape=(), dtype=float32)\n",
      "172 loss : Tensor(\"loss/mean_squared_error/value:0\", shape=(), dtype=float32)\n",
      "173 loss : Tensor(\"loss/mean_squared_error/value:0\", shape=(), dtype=float32)\n",
      "174 loss : Tensor(\"loss/mean_squared_error/value:0\", shape=(), dtype=float32)\n",
      "175 loss : Tensor(\"loss/mean_squared_error/value:0\", shape=(), dtype=float32)\n",
      "176 loss : Tensor(\"loss/mean_squared_error/value:0\", shape=(), dtype=float32)\n",
      "177 loss : Tensor(\"loss/mean_squared_error/value:0\", shape=(), dtype=float32)\n",
      "178 loss : Tensor(\"loss/mean_squared_error/value:0\", shape=(), dtype=float32)\n",
      "179 loss : Tensor(\"loss/mean_squared_error/value:0\", shape=(), dtype=float32)\n",
      "180 loss : Tensor(\"loss/mean_squared_error/value:0\", shape=(), dtype=float32)\n",
      "181 loss : Tensor(\"loss/mean_squared_error/value:0\", shape=(), dtype=float32)\n",
      "182 loss : Tensor(\"loss/mean_squared_error/value:0\", shape=(), dtype=float32)\n",
      "183 loss : Tensor(\"loss/mean_squared_error/value:0\", shape=(), dtype=float32)\n",
      "184 loss : Tensor(\"loss/mean_squared_error/value:0\", shape=(), dtype=float32)\n",
      "185 loss : Tensor(\"loss/mean_squared_error/value:0\", shape=(), dtype=float32)\n",
      "186 loss : Tensor(\"loss/mean_squared_error/value:0\", shape=(), dtype=float32)\n",
      "187 loss : Tensor(\"loss/mean_squared_error/value:0\", shape=(), dtype=float32)\n",
      "188 loss : Tensor(\"loss/mean_squared_error/value:0\", shape=(), dtype=float32)\n",
      "189 loss : Tensor(\"loss/mean_squared_error/value:0\", shape=(), dtype=float32)\n",
      "190 loss : Tensor(\"loss/mean_squared_error/value:0\", shape=(), dtype=float32)\n",
      "191 loss : Tensor(\"loss/mean_squared_error/value:0\", shape=(), dtype=float32)\n",
      "192 loss : Tensor(\"loss/mean_squared_error/value:0\", shape=(), dtype=float32)\n",
      "193 loss : Tensor(\"loss/mean_squared_error/value:0\", shape=(), dtype=float32)\n",
      "194 loss : Tensor(\"loss/mean_squared_error/value:0\", shape=(), dtype=float32)\n",
      "195 loss : Tensor(\"loss/mean_squared_error/value:0\", shape=(), dtype=float32)\n",
      "196 loss : Tensor(\"loss/mean_squared_error/value:0\", shape=(), dtype=float32)\n",
      "197 loss : Tensor(\"loss/mean_squared_error/value:0\", shape=(), dtype=float32)\n",
      "198 loss : Tensor(\"loss/mean_squared_error/value:0\", shape=(), dtype=float32)\n",
      "199 loss : Tensor(\"loss/mean_squared_error/value:0\", shape=(), dtype=float32)\n",
      "200 loss : Tensor(\"loss/mean_squared_error/value:0\", shape=(), dtype=float32)\n",
      "201 loss : Tensor(\"loss/mean_squared_error/value:0\", shape=(), dtype=float32)\n",
      "202 loss : Tensor(\"loss/mean_squared_error/value:0\", shape=(), dtype=float32)\n",
      "203 loss : Tensor(\"loss/mean_squared_error/value:0\", shape=(), dtype=float32)\n",
      "204 loss : Tensor(\"loss/mean_squared_error/value:0\", shape=(), dtype=float32)\n",
      "205 loss : Tensor(\"loss/mean_squared_error/value:0\", shape=(), dtype=float32)\n",
      "206 loss : Tensor(\"loss/mean_squared_error/value:0\", shape=(), dtype=float32)\n",
      "207 loss : Tensor(\"loss/mean_squared_error/value:0\", shape=(), dtype=float32)\n",
      "208 loss : Tensor(\"loss/mean_squared_error/value:0\", shape=(), dtype=float32)\n",
      "209 loss : Tensor(\"loss/mean_squared_error/value:0\", shape=(), dtype=float32)\n",
      "210 loss : Tensor(\"loss/mean_squared_error/value:0\", shape=(), dtype=float32)\n",
      "211 loss : Tensor(\"loss/mean_squared_error/value:0\", shape=(), dtype=float32)\n",
      "212 loss : Tensor(\"loss/mean_squared_error/value:0\", shape=(), dtype=float32)\n",
      "213 loss : Tensor(\"loss/mean_squared_error/value:0\", shape=(), dtype=float32)\n",
      "214 loss : Tensor(\"loss/mean_squared_error/value:0\", shape=(), dtype=float32)\n",
      "215 loss : Tensor(\"loss/mean_squared_error/value:0\", shape=(), dtype=float32)\n",
      "216 loss : Tensor(\"loss/mean_squared_error/value:0\", shape=(), dtype=float32)\n",
      "217 loss : Tensor(\"loss/mean_squared_error/value:0\", shape=(), dtype=float32)\n",
      "218 loss : Tensor(\"loss/mean_squared_error/value:0\", shape=(), dtype=float32)\n",
      "219 loss : Tensor(\"loss/mean_squared_error/value:0\", shape=(), dtype=float32)\n",
      "220 loss : Tensor(\"loss/mean_squared_error/value:0\", shape=(), dtype=float32)\n",
      "221 loss : Tensor(\"loss/mean_squared_error/value:0\", shape=(), dtype=float32)\n",
      "222 loss : Tensor(\"loss/mean_squared_error/value:0\", shape=(), dtype=float32)\n",
      "223 loss : Tensor(\"loss/mean_squared_error/value:0\", shape=(), dtype=float32)\n",
      "224 loss : Tensor(\"loss/mean_squared_error/value:0\", shape=(), dtype=float32)\n",
      "225 loss : Tensor(\"loss/mean_squared_error/value:0\", shape=(), dtype=float32)\n",
      "226 loss : Tensor(\"loss/mean_squared_error/value:0\", shape=(), dtype=float32)\n",
      "227 loss : Tensor(\"loss/mean_squared_error/value:0\", shape=(), dtype=float32)\n",
      "228 loss : Tensor(\"loss/mean_squared_error/value:0\", shape=(), dtype=float32)\n",
      "229 loss : Tensor(\"loss/mean_squared_error/value:0\", shape=(), dtype=float32)\n",
      "230 loss : Tensor(\"loss/mean_squared_error/value:0\", shape=(), dtype=float32)\n",
      "231 loss : Tensor(\"loss/mean_squared_error/value:0\", shape=(), dtype=float32)\n",
      "232 loss : Tensor(\"loss/mean_squared_error/value:0\", shape=(), dtype=float32)\n",
      "233 loss : Tensor(\"loss/mean_squared_error/value:0\", shape=(), dtype=float32)\n",
      "234 loss : Tensor(\"loss/mean_squared_error/value:0\", shape=(), dtype=float32)\n",
      "235 loss : Tensor(\"loss/mean_squared_error/value:0\", shape=(), dtype=float32)\n",
      "236 loss : Tensor(\"loss/mean_squared_error/value:0\", shape=(), dtype=float32)\n",
      "237 loss : Tensor(\"loss/mean_squared_error/value:0\", shape=(), dtype=float32)\n",
      "238 loss : Tensor(\"loss/mean_squared_error/value:0\", shape=(), dtype=float32)\n",
      "239 loss : Tensor(\"loss/mean_squared_error/value:0\", shape=(), dtype=float32)\n",
      "240 loss : Tensor(\"loss/mean_squared_error/value:0\", shape=(), dtype=float32)\n",
      "241 loss : Tensor(\"loss/mean_squared_error/value:0\", shape=(), dtype=float32)\n",
      "242 loss : Tensor(\"loss/mean_squared_error/value:0\", shape=(), dtype=float32)\n",
      "243 loss : Tensor(\"loss/mean_squared_error/value:0\", shape=(), dtype=float32)\n",
      "244 loss : Tensor(\"loss/mean_squared_error/value:0\", shape=(), dtype=float32)\n",
      "245 loss : Tensor(\"loss/mean_squared_error/value:0\", shape=(), dtype=float32)\n",
      "246 loss : Tensor(\"loss/mean_squared_error/value:0\", shape=(), dtype=float32)\n",
      "247 loss : Tensor(\"loss/mean_squared_error/value:0\", shape=(), dtype=float32)\n",
      "248 loss : Tensor(\"loss/mean_squared_error/value:0\", shape=(), dtype=float32)\n",
      "249 loss : Tensor(\"loss/mean_squared_error/value:0\", shape=(), dtype=float32)\n",
      "250 loss : Tensor(\"loss/mean_squared_error/value:0\", shape=(), dtype=float32)\n",
      "251 loss : Tensor(\"loss/mean_squared_error/value:0\", shape=(), dtype=float32)\n",
      "252 loss : Tensor(\"loss/mean_squared_error/value:0\", shape=(), dtype=float32)\n",
      "253 loss : Tensor(\"loss/mean_squared_error/value:0\", shape=(), dtype=float32)\n",
      "254 loss : Tensor(\"loss/mean_squared_error/value:0\", shape=(), dtype=float32)\n",
      "255 loss : Tensor(\"loss/mean_squared_error/value:0\", shape=(), dtype=float32)\n",
      "256 loss : Tensor(\"loss/mean_squared_error/value:0\", shape=(), dtype=float32)\n",
      "257 loss : Tensor(\"loss/mean_squared_error/value:0\", shape=(), dtype=float32)\n",
      "258 loss : Tensor(\"loss/mean_squared_error/value:0\", shape=(), dtype=float32)\n",
      "259 loss : Tensor(\"loss/mean_squared_error/value:0\", shape=(), dtype=float32)\n",
      "260 loss : Tensor(\"loss/mean_squared_error/value:0\", shape=(), dtype=float32)\n",
      "261 loss : Tensor(\"loss/mean_squared_error/value:0\", shape=(), dtype=float32)\n",
      "262 loss : Tensor(\"loss/mean_squared_error/value:0\", shape=(), dtype=float32)\n",
      "263 loss : Tensor(\"loss/mean_squared_error/value:0\", shape=(), dtype=float32)\n",
      "264 loss : Tensor(\"loss/mean_squared_error/value:0\", shape=(), dtype=float32)\n",
      "265 loss : Tensor(\"loss/mean_squared_error/value:0\", shape=(), dtype=float32)\n",
      "266 loss : Tensor(\"loss/mean_squared_error/value:0\", shape=(), dtype=float32)\n",
      "267 loss : Tensor(\"loss/mean_squared_error/value:0\", shape=(), dtype=float32)\n",
      "268 loss : Tensor(\"loss/mean_squared_error/value:0\", shape=(), dtype=float32)\n",
      "269 loss : Tensor(\"loss/mean_squared_error/value:0\", shape=(), dtype=float32)\n",
      "270 loss : Tensor(\"loss/mean_squared_error/value:0\", shape=(), dtype=float32)\n",
      "271 loss : Tensor(\"loss/mean_squared_error/value:0\", shape=(), dtype=float32)\n",
      "272 loss : Tensor(\"loss/mean_squared_error/value:0\", shape=(), dtype=float32)\n",
      "273 loss : Tensor(\"loss/mean_squared_error/value:0\", shape=(), dtype=float32)\n",
      "274 loss : Tensor(\"loss/mean_squared_error/value:0\", shape=(), dtype=float32)\n",
      "275 loss : Tensor(\"loss/mean_squared_error/value:0\", shape=(), dtype=float32)\n",
      "276 loss : Tensor(\"loss/mean_squared_error/value:0\", shape=(), dtype=float32)\n",
      "277 loss : Tensor(\"loss/mean_squared_error/value:0\", shape=(), dtype=float32)\n",
      "278 loss : Tensor(\"loss/mean_squared_error/value:0\", shape=(), dtype=float32)\n",
      "279 loss : Tensor(\"loss/mean_squared_error/value:0\", shape=(), dtype=float32)\n",
      "280 loss : Tensor(\"loss/mean_squared_error/value:0\", shape=(), dtype=float32)\n",
      "281 loss : Tensor(\"loss/mean_squared_error/value:0\", shape=(), dtype=float32)\n"
     ]
    },
    {
     "name": "stdout",
     "output_type": "stream",
     "text": [
      "282 loss : Tensor(\"loss/mean_squared_error/value:0\", shape=(), dtype=float32)\n",
      "283 loss : Tensor(\"loss/mean_squared_error/value:0\", shape=(), dtype=float32)\n",
      "284 loss : Tensor(\"loss/mean_squared_error/value:0\", shape=(), dtype=float32)\n",
      "285 loss : Tensor(\"loss/mean_squared_error/value:0\", shape=(), dtype=float32)\n",
      "286 loss : Tensor(\"loss/mean_squared_error/value:0\", shape=(), dtype=float32)\n",
      "287 loss : Tensor(\"loss/mean_squared_error/value:0\", shape=(), dtype=float32)\n",
      "288 loss : Tensor(\"loss/mean_squared_error/value:0\", shape=(), dtype=float32)\n",
      "289 loss : Tensor(\"loss/mean_squared_error/value:0\", shape=(), dtype=float32)\n",
      "290 loss : Tensor(\"loss/mean_squared_error/value:0\", shape=(), dtype=float32)\n",
      "291 loss : Tensor(\"loss/mean_squared_error/value:0\", shape=(), dtype=float32)\n",
      "292 loss : Tensor(\"loss/mean_squared_error/value:0\", shape=(), dtype=float32)\n",
      "293 loss : Tensor(\"loss/mean_squared_error/value:0\", shape=(), dtype=float32)\n",
      "294 loss : Tensor(\"loss/mean_squared_error/value:0\", shape=(), dtype=float32)\n",
      "295 loss : Tensor(\"loss/mean_squared_error/value:0\", shape=(), dtype=float32)\n",
      "296 loss : Tensor(\"loss/mean_squared_error/value:0\", shape=(), dtype=float32)\n",
      "297 loss : Tensor(\"loss/mean_squared_error/value:0\", shape=(), dtype=float32)\n",
      "298 loss : Tensor(\"loss/mean_squared_error/value:0\", shape=(), dtype=float32)\n",
      "299 loss : Tensor(\"loss/mean_squared_error/value:0\", shape=(), dtype=float32)\n",
      "300 loss : Tensor(\"loss/mean_squared_error/value:0\", shape=(), dtype=float32)\n",
      "301 loss : Tensor(\"loss/mean_squared_error/value:0\", shape=(), dtype=float32)\n",
      "302 loss : Tensor(\"loss/mean_squared_error/value:0\", shape=(), dtype=float32)\n",
      "303 loss : Tensor(\"loss/mean_squared_error/value:0\", shape=(), dtype=float32)\n",
      "304 loss : Tensor(\"loss/mean_squared_error/value:0\", shape=(), dtype=float32)\n",
      "305 loss : Tensor(\"loss/mean_squared_error/value:0\", shape=(), dtype=float32)\n",
      "306 loss : Tensor(\"loss/mean_squared_error/value:0\", shape=(), dtype=float32)\n",
      "307 loss : Tensor(\"loss/mean_squared_error/value:0\", shape=(), dtype=float32)\n",
      "308 loss : Tensor(\"loss/mean_squared_error/value:0\", shape=(), dtype=float32)\n",
      "309 loss : Tensor(\"loss/mean_squared_error/value:0\", shape=(), dtype=float32)\n",
      "310 loss : Tensor(\"loss/mean_squared_error/value:0\", shape=(), dtype=float32)\n",
      "311 loss : Tensor(\"loss/mean_squared_error/value:0\", shape=(), dtype=float32)\n",
      "312 loss : Tensor(\"loss/mean_squared_error/value:0\", shape=(), dtype=float32)\n",
      "313 loss : Tensor(\"loss/mean_squared_error/value:0\", shape=(), dtype=float32)\n",
      "314 loss : Tensor(\"loss/mean_squared_error/value:0\", shape=(), dtype=float32)\n",
      "315 loss : Tensor(\"loss/mean_squared_error/value:0\", shape=(), dtype=float32)\n",
      "316 loss : Tensor(\"loss/mean_squared_error/value:0\", shape=(), dtype=float32)\n",
      "317 loss : Tensor(\"loss/mean_squared_error/value:0\", shape=(), dtype=float32)\n",
      "318 loss : Tensor(\"loss/mean_squared_error/value:0\", shape=(), dtype=float32)\n",
      "319 loss : Tensor(\"loss/mean_squared_error/value:0\", shape=(), dtype=float32)\n",
      "320 loss : Tensor(\"loss/mean_squared_error/value:0\", shape=(), dtype=float32)\n",
      "321 loss : Tensor(\"loss/mean_squared_error/value:0\", shape=(), dtype=float32)\n",
      "322 loss : Tensor(\"loss/mean_squared_error/value:0\", shape=(), dtype=float32)\n",
      "323 loss : Tensor(\"loss/mean_squared_error/value:0\", shape=(), dtype=float32)\n",
      "324 loss : Tensor(\"loss/mean_squared_error/value:0\", shape=(), dtype=float32)\n",
      "325 loss : Tensor(\"loss/mean_squared_error/value:0\", shape=(), dtype=float32)\n",
      "326 loss : Tensor(\"loss/mean_squared_error/value:0\", shape=(), dtype=float32)\n",
      "327 loss : Tensor(\"loss/mean_squared_error/value:0\", shape=(), dtype=float32)\n",
      "328 loss : Tensor(\"loss/mean_squared_error/value:0\", shape=(), dtype=float32)\n",
      "329 loss : Tensor(\"loss/mean_squared_error/value:0\", shape=(), dtype=float32)\n",
      "330 loss : Tensor(\"loss/mean_squared_error/value:0\", shape=(), dtype=float32)\n",
      "331 loss : Tensor(\"loss/mean_squared_error/value:0\", shape=(), dtype=float32)\n",
      "332 loss : Tensor(\"loss/mean_squared_error/value:0\", shape=(), dtype=float32)\n",
      "333 loss : Tensor(\"loss/mean_squared_error/value:0\", shape=(), dtype=float32)\n",
      "334 loss : Tensor(\"loss/mean_squared_error/value:0\", shape=(), dtype=float32)\n",
      "335 loss : Tensor(\"loss/mean_squared_error/value:0\", shape=(), dtype=float32)\n",
      "336 loss : Tensor(\"loss/mean_squared_error/value:0\", shape=(), dtype=float32)\n",
      "337 loss : Tensor(\"loss/mean_squared_error/value:0\", shape=(), dtype=float32)\n",
      "338 loss : Tensor(\"loss/mean_squared_error/value:0\", shape=(), dtype=float32)\n",
      "339 loss : Tensor(\"loss/mean_squared_error/value:0\", shape=(), dtype=float32)\n",
      "340 loss : Tensor(\"loss/mean_squared_error/value:0\", shape=(), dtype=float32)\n",
      "341 loss : Tensor(\"loss/mean_squared_error/value:0\", shape=(), dtype=float32)\n",
      "342 loss : Tensor(\"loss/mean_squared_error/value:0\", shape=(), dtype=float32)\n",
      "343 loss : Tensor(\"loss/mean_squared_error/value:0\", shape=(), dtype=float32)\n",
      "344 loss : Tensor(\"loss/mean_squared_error/value:0\", shape=(), dtype=float32)\n",
      "345 loss : Tensor(\"loss/mean_squared_error/value:0\", shape=(), dtype=float32)\n",
      "346 loss : Tensor(\"loss/mean_squared_error/value:0\", shape=(), dtype=float32)\n",
      "347 loss : Tensor(\"loss/mean_squared_error/value:0\", shape=(), dtype=float32)\n",
      "348 loss : Tensor(\"loss/mean_squared_error/value:0\", shape=(), dtype=float32)\n",
      "349 loss : Tensor(\"loss/mean_squared_error/value:0\", shape=(), dtype=float32)\n",
      "350 loss : Tensor(\"loss/mean_squared_error/value:0\", shape=(), dtype=float32)\n",
      "351 loss : Tensor(\"loss/mean_squared_error/value:0\", shape=(), dtype=float32)\n",
      "352 loss : Tensor(\"loss/mean_squared_error/value:0\", shape=(), dtype=float32)\n",
      "353 loss : Tensor(\"loss/mean_squared_error/value:0\", shape=(), dtype=float32)\n",
      "354 loss : Tensor(\"loss/mean_squared_error/value:0\", shape=(), dtype=float32)\n",
      "355 loss : Tensor(\"loss/mean_squared_error/value:0\", shape=(), dtype=float32)\n",
      "356 loss : Tensor(\"loss/mean_squared_error/value:0\", shape=(), dtype=float32)\n",
      "357 loss : Tensor(\"loss/mean_squared_error/value:0\", shape=(), dtype=float32)\n",
      "358 loss : Tensor(\"loss/mean_squared_error/value:0\", shape=(), dtype=float32)\n",
      "359 loss : Tensor(\"loss/mean_squared_error/value:0\", shape=(), dtype=float32)\n",
      "360 loss : Tensor(\"loss/mean_squared_error/value:0\", shape=(), dtype=float32)\n",
      "361 loss : Tensor(\"loss/mean_squared_error/value:0\", shape=(), dtype=float32)\n",
      "362 loss : Tensor(\"loss/mean_squared_error/value:0\", shape=(), dtype=float32)\n",
      "363 loss : Tensor(\"loss/mean_squared_error/value:0\", shape=(), dtype=float32)\n",
      "364 loss : Tensor(\"loss/mean_squared_error/value:0\", shape=(), dtype=float32)\n",
      "365 loss : Tensor(\"loss/mean_squared_error/value:0\", shape=(), dtype=float32)\n",
      "366 loss : Tensor(\"loss/mean_squared_error/value:0\", shape=(), dtype=float32)\n",
      "367 loss : Tensor(\"loss/mean_squared_error/value:0\", shape=(), dtype=float32)\n",
      "368 loss : Tensor(\"loss/mean_squared_error/value:0\", shape=(), dtype=float32)\n",
      "369 loss : Tensor(\"loss/mean_squared_error/value:0\", shape=(), dtype=float32)\n",
      "370 loss : Tensor(\"loss/mean_squared_error/value:0\", shape=(), dtype=float32)\n",
      "371 loss : Tensor(\"loss/mean_squared_error/value:0\", shape=(), dtype=float32)\n",
      "372 loss : Tensor(\"loss/mean_squared_error/value:0\", shape=(), dtype=float32)\n",
      "373 loss : Tensor(\"loss/mean_squared_error/value:0\", shape=(), dtype=float32)\n",
      "374 loss : Tensor(\"loss/mean_squared_error/value:0\", shape=(), dtype=float32)\n",
      "375 loss : Tensor(\"loss/mean_squared_error/value:0\", shape=(), dtype=float32)\n",
      "376 loss : Tensor(\"loss/mean_squared_error/value:0\", shape=(), dtype=float32)\n",
      "377 loss : Tensor(\"loss/mean_squared_error/value:0\", shape=(), dtype=float32)\n",
      "378 loss : Tensor(\"loss/mean_squared_error/value:0\", shape=(), dtype=float32)\n",
      "379 loss : Tensor(\"loss/mean_squared_error/value:0\", shape=(), dtype=float32)\n",
      "380 loss : Tensor(\"loss/mean_squared_error/value:0\", shape=(), dtype=float32)\n",
      "381 loss : Tensor(\"loss/mean_squared_error/value:0\", shape=(), dtype=float32)\n",
      "382 loss : Tensor(\"loss/mean_squared_error/value:0\", shape=(), dtype=float32)\n",
      "383 loss : Tensor(\"loss/mean_squared_error/value:0\", shape=(), dtype=float32)\n",
      "384 loss : Tensor(\"loss/mean_squared_error/value:0\", shape=(), dtype=float32)\n",
      "385 loss : Tensor(\"loss/mean_squared_error/value:0\", shape=(), dtype=float32)\n",
      "386 loss : Tensor(\"loss/mean_squared_error/value:0\", shape=(), dtype=float32)\n",
      "387 loss : Tensor(\"loss/mean_squared_error/value:0\", shape=(), dtype=float32)\n",
      "388 loss : Tensor(\"loss/mean_squared_error/value:0\", shape=(), dtype=float32)\n",
      "389 loss : Tensor(\"loss/mean_squared_error/value:0\", shape=(), dtype=float32)\n",
      "390 loss : Tensor(\"loss/mean_squared_error/value:0\", shape=(), dtype=float32)\n",
      "391 loss : Tensor(\"loss/mean_squared_error/value:0\", shape=(), dtype=float32)\n",
      "392 loss : Tensor(\"loss/mean_squared_error/value:0\", shape=(), dtype=float32)\n",
      "393 loss : Tensor(\"loss/mean_squared_error/value:0\", shape=(), dtype=float32)\n",
      "394 loss : Tensor(\"loss/mean_squared_error/value:0\", shape=(), dtype=float32)\n",
      "395 loss : Tensor(\"loss/mean_squared_error/value:0\", shape=(), dtype=float32)\n",
      "396 loss : Tensor(\"loss/mean_squared_error/value:0\", shape=(), dtype=float32)\n",
      "397 loss : Tensor(\"loss/mean_squared_error/value:0\", shape=(), dtype=float32)\n",
      "398 loss : Tensor(\"loss/mean_squared_error/value:0\", shape=(), dtype=float32)\n",
      "399 loss : Tensor(\"loss/mean_squared_error/value:0\", shape=(), dtype=float32)\n",
      "400 loss : Tensor(\"loss/mean_squared_error/value:0\", shape=(), dtype=float32)\n",
      "401 loss : Tensor(\"loss/mean_squared_error/value:0\", shape=(), dtype=float32)\n",
      "402 loss : Tensor(\"loss/mean_squared_error/value:0\", shape=(), dtype=float32)\n",
      "403 loss : Tensor(\"loss/mean_squared_error/value:0\", shape=(), dtype=float32)\n",
      "404 loss : Tensor(\"loss/mean_squared_error/value:0\", shape=(), dtype=float32)\n",
      "405 loss : Tensor(\"loss/mean_squared_error/value:0\", shape=(), dtype=float32)\n",
      "406 loss : Tensor(\"loss/mean_squared_error/value:0\", shape=(), dtype=float32)\n",
      "407 loss : Tensor(\"loss/mean_squared_error/value:0\", shape=(), dtype=float32)\n",
      "408 loss : Tensor(\"loss/mean_squared_error/value:0\", shape=(), dtype=float32)\n",
      "409 loss : Tensor(\"loss/mean_squared_error/value:0\", shape=(), dtype=float32)\n",
      "410 loss : Tensor(\"loss/mean_squared_error/value:0\", shape=(), dtype=float32)\n",
      "411 loss : Tensor(\"loss/mean_squared_error/value:0\", shape=(), dtype=float32)\n",
      "412 loss : Tensor(\"loss/mean_squared_error/value:0\", shape=(), dtype=float32)\n",
      "413 loss : Tensor(\"loss/mean_squared_error/value:0\", shape=(), dtype=float32)\n",
      "414 loss : Tensor(\"loss/mean_squared_error/value:0\", shape=(), dtype=float32)\n",
      "415 loss : Tensor(\"loss/mean_squared_error/value:0\", shape=(), dtype=float32)\n",
      "416 loss : Tensor(\"loss/mean_squared_error/value:0\", shape=(), dtype=float32)\n",
      "417 loss : Tensor(\"loss/mean_squared_error/value:0\", shape=(), dtype=float32)\n",
      "418 loss : Tensor(\"loss/mean_squared_error/value:0\", shape=(), dtype=float32)\n",
      "419 loss : Tensor(\"loss/mean_squared_error/value:0\", shape=(), dtype=float32)\n",
      "420 loss : Tensor(\"loss/mean_squared_error/value:0\", shape=(), dtype=float32)\n",
      "421 loss : Tensor(\"loss/mean_squared_error/value:0\", shape=(), dtype=float32)\n",
      "422 loss : Tensor(\"loss/mean_squared_error/value:0\", shape=(), dtype=float32)\n",
      "423 loss : Tensor(\"loss/mean_squared_error/value:0\", shape=(), dtype=float32)\n",
      "424 loss : Tensor(\"loss/mean_squared_error/value:0\", shape=(), dtype=float32)\n",
      "425 loss : Tensor(\"loss/mean_squared_error/value:0\", shape=(), dtype=float32)\n",
      "426 loss : Tensor(\"loss/mean_squared_error/value:0\", shape=(), dtype=float32)\n",
      "427 loss : Tensor(\"loss/mean_squared_error/value:0\", shape=(), dtype=float32)\n",
      "428 loss : Tensor(\"loss/mean_squared_error/value:0\", shape=(), dtype=float32)\n",
      "429 loss : Tensor(\"loss/mean_squared_error/value:0\", shape=(), dtype=float32)\n",
      "430 loss : Tensor(\"loss/mean_squared_error/value:0\", shape=(), dtype=float32)\n",
      "431 loss : Tensor(\"loss/mean_squared_error/value:0\", shape=(), dtype=float32)\n",
      "432 loss : Tensor(\"loss/mean_squared_error/value:0\", shape=(), dtype=float32)\n",
      "433 loss : Tensor(\"loss/mean_squared_error/value:0\", shape=(), dtype=float32)\n",
      "434 loss : Tensor(\"loss/mean_squared_error/value:0\", shape=(), dtype=float32)\n",
      "435 loss : Tensor(\"loss/mean_squared_error/value:0\", shape=(), dtype=float32)\n",
      "436 loss : Tensor(\"loss/mean_squared_error/value:0\", shape=(), dtype=float32)\n",
      "437 loss : Tensor(\"loss/mean_squared_error/value:0\", shape=(), dtype=float32)\n",
      "438 loss : Tensor(\"loss/mean_squared_error/value:0\", shape=(), dtype=float32)\n",
      "439 loss : Tensor(\"loss/mean_squared_error/value:0\", shape=(), dtype=float32)\n",
      "440 loss : Tensor(\"loss/mean_squared_error/value:0\", shape=(), dtype=float32)\n",
      "441 loss : Tensor(\"loss/mean_squared_error/value:0\", shape=(), dtype=float32)\n",
      "442 loss : Tensor(\"loss/mean_squared_error/value:0\", shape=(), dtype=float32)\n",
      "443 loss : Tensor(\"loss/mean_squared_error/value:0\", shape=(), dtype=float32)\n",
      "444 loss : Tensor(\"loss/mean_squared_error/value:0\", shape=(), dtype=float32)\n",
      "445 loss : Tensor(\"loss/mean_squared_error/value:0\", shape=(), dtype=float32)\n",
      "446 loss : Tensor(\"loss/mean_squared_error/value:0\", shape=(), dtype=float32)\n",
      "447 loss : Tensor(\"loss/mean_squared_error/value:0\", shape=(), dtype=float32)\n",
      "448 loss : Tensor(\"loss/mean_squared_error/value:0\", shape=(), dtype=float32)\n"
     ]
    },
    {
     "name": "stdout",
     "output_type": "stream",
     "text": [
      "449 loss : Tensor(\"loss/mean_squared_error/value:0\", shape=(), dtype=float32)\n",
      "450 loss : Tensor(\"loss/mean_squared_error/value:0\", shape=(), dtype=float32)\n",
      "451 loss : Tensor(\"loss/mean_squared_error/value:0\", shape=(), dtype=float32)\n",
      "452 loss : Tensor(\"loss/mean_squared_error/value:0\", shape=(), dtype=float32)\n",
      "453 loss : Tensor(\"loss/mean_squared_error/value:0\", shape=(), dtype=float32)\n",
      "454 loss : Tensor(\"loss/mean_squared_error/value:0\", shape=(), dtype=float32)\n",
      "455 loss : Tensor(\"loss/mean_squared_error/value:0\", shape=(), dtype=float32)\n",
      "456 loss : Tensor(\"loss/mean_squared_error/value:0\", shape=(), dtype=float32)\n",
      "457 loss : Tensor(\"loss/mean_squared_error/value:0\", shape=(), dtype=float32)\n",
      "458 loss : Tensor(\"loss/mean_squared_error/value:0\", shape=(), dtype=float32)\n",
      "459 loss : Tensor(\"loss/mean_squared_error/value:0\", shape=(), dtype=float32)\n",
      "460 loss : Tensor(\"loss/mean_squared_error/value:0\", shape=(), dtype=float32)\n",
      "461 loss : Tensor(\"loss/mean_squared_error/value:0\", shape=(), dtype=float32)\n",
      "462 loss : Tensor(\"loss/mean_squared_error/value:0\", shape=(), dtype=float32)\n",
      "463 loss : Tensor(\"loss/mean_squared_error/value:0\", shape=(), dtype=float32)\n",
      "464 loss : Tensor(\"loss/mean_squared_error/value:0\", shape=(), dtype=float32)\n",
      "465 loss : Tensor(\"loss/mean_squared_error/value:0\", shape=(), dtype=float32)\n",
      "466 loss : Tensor(\"loss/mean_squared_error/value:0\", shape=(), dtype=float32)\n",
      "467 loss : Tensor(\"loss/mean_squared_error/value:0\", shape=(), dtype=float32)\n",
      "468 loss : Tensor(\"loss/mean_squared_error/value:0\", shape=(), dtype=float32)\n",
      "469 loss : Tensor(\"loss/mean_squared_error/value:0\", shape=(), dtype=float32)\n",
      "470 loss : Tensor(\"loss/mean_squared_error/value:0\", shape=(), dtype=float32)\n",
      "471 loss : Tensor(\"loss/mean_squared_error/value:0\", shape=(), dtype=float32)\n",
      "472 loss : Tensor(\"loss/mean_squared_error/value:0\", shape=(), dtype=float32)\n",
      "473 loss : Tensor(\"loss/mean_squared_error/value:0\", shape=(), dtype=float32)\n",
      "474 loss : Tensor(\"loss/mean_squared_error/value:0\", shape=(), dtype=float32)\n",
      "475 loss : Tensor(\"loss/mean_squared_error/value:0\", shape=(), dtype=float32)\n",
      "476 loss : Tensor(\"loss/mean_squared_error/value:0\", shape=(), dtype=float32)\n",
      "477 loss : Tensor(\"loss/mean_squared_error/value:0\", shape=(), dtype=float32)\n",
      "478 loss : Tensor(\"loss/mean_squared_error/value:0\", shape=(), dtype=float32)\n",
      "479 loss : Tensor(\"loss/mean_squared_error/value:0\", shape=(), dtype=float32)\n",
      "480 loss : Tensor(\"loss/mean_squared_error/value:0\", shape=(), dtype=float32)\n",
      "481 loss : Tensor(\"loss/mean_squared_error/value:0\", shape=(), dtype=float32)\n",
      "482 loss : Tensor(\"loss/mean_squared_error/value:0\", shape=(), dtype=float32)\n",
      "483 loss : Tensor(\"loss/mean_squared_error/value:0\", shape=(), dtype=float32)\n",
      "484 loss : Tensor(\"loss/mean_squared_error/value:0\", shape=(), dtype=float32)\n",
      "485 loss : Tensor(\"loss/mean_squared_error/value:0\", shape=(), dtype=float32)\n",
      "486 loss : Tensor(\"loss/mean_squared_error/value:0\", shape=(), dtype=float32)\n",
      "487 loss : Tensor(\"loss/mean_squared_error/value:0\", shape=(), dtype=float32)\n",
      "488 loss : Tensor(\"loss/mean_squared_error/value:0\", shape=(), dtype=float32)\n",
      "489 loss : Tensor(\"loss/mean_squared_error/value:0\", shape=(), dtype=float32)\n",
      "490 loss : Tensor(\"loss/mean_squared_error/value:0\", shape=(), dtype=float32)\n",
      "491 loss : Tensor(\"loss/mean_squared_error/value:0\", shape=(), dtype=float32)\n",
      "492 loss : Tensor(\"loss/mean_squared_error/value:0\", shape=(), dtype=float32)\n",
      "493 loss : Tensor(\"loss/mean_squared_error/value:0\", shape=(), dtype=float32)\n",
      "494 loss : Tensor(\"loss/mean_squared_error/value:0\", shape=(), dtype=float32)\n",
      "495 loss : Tensor(\"loss/mean_squared_error/value:0\", shape=(), dtype=float32)\n",
      "496 loss : Tensor(\"loss/mean_squared_error/value:0\", shape=(), dtype=float32)\n",
      "497 loss : Tensor(\"loss/mean_squared_error/value:0\", shape=(), dtype=float32)\n",
      "498 loss : Tensor(\"loss/mean_squared_error/value:0\", shape=(), dtype=float32)\n",
      "499 loss : Tensor(\"loss/mean_squared_error/value:0\", shape=(), dtype=float32)\n"
     ]
    }
   ],
   "source": [
    "with tf.Session() as sess:\n",
    "    init.run()\n",
    "    for epoch in range(n_epochs):\n",
    "        sess.run(training_op, feed_dict={X: coco_train, y: MET_train})\n",
    "        #acc_train = accuracy.eval(feed_dict={X: X_batch, y: y_batch})\n",
    "        #acc_val = accuracy.eval(feed_dict={X: mnist.validation.images,\n",
    "        #                                    y: mnist.validation.labels})\n",
    "        print(epoch, \"loss :\", loss)\n",
    "\n",
    "    save_path = saver.save(sess, \"./dnn0319.ckpt\")"
   ]
  },
  {
   "cell_type": "code",
   "execution_count": 49,
   "metadata": {},
   "outputs": [
    {
     "name": "stdout",
     "output_type": "stream",
     "text": [
      "INFO:tensorflow:Restoring parameters from ./my_model_final.ckpt\n"
     ]
    }
   ],
   "source": [
    "with tf.Session() as sess:\n",
    "    saver.restore(sess, \"./my_model_final.ckpt\") # or better, use save_path\n",
    "    X_new_scaled = coco_test\n",
    "    y_pred = logits.eval(feed_dict={X: X_new_scaled})\n",
    "    #y_pred = np.argmax(Z, axis=1)"
   ]
  },
  {
   "cell_type": "code",
   "execution_count": 50,
   "metadata": {},
   "outputs": [
    {
     "name": "stdout",
     "output_type": "stream",
     "text": [
      "Predicted classes: [[ nan]\n",
      " [ nan]\n",
      " [ nan]\n",
      " [ nan]\n",
      " [ nan]\n",
      " [ nan]\n",
      " [ nan]\n",
      " [ nan]\n",
      " [ nan]\n",
      " [ nan]]\n",
      "Actual classes:    [[ 0.7]\n",
      " [ 0.7]\n",
      " [ 1. ]\n",
      " [ 1. ]\n",
      " [ 1.2]\n",
      " [ 1.2]\n",
      " [ 1.2]\n",
      " [ 1.2]\n",
      " [ 1.8]\n",
      " [ 1.8]]\n"
     ]
    }
   ],
   "source": [
    "print(\"Predicted classes:\", y_pred)\n",
    "print(\"Actual classes:   \", MET_test)"
   ]
  },
  {
   "cell_type": "markdown",
   "metadata": {},
   "source": [
    "### TensorFlow conclusion (현재 진행 상황)\n",
    "    \n",
    "DNN 학습할때, 기존 MNIST 처럼 이미지 label 분류가 아닌 MET 값을 도출해야 해서\n",
    "\n",
    "Loss는 softmax가 아닌 mean_square_error를 사용 -> Loss값 보는 방법 개선 필요..\n",
    "\n",
    "correct와 accuracy 부분은 아직 해결책을 못찾음\n",
    "\n",
    "결과적으로 값으로 예측하기는 실패"
   ]
  }
 ],
 "metadata": {
  "kernelspec": {
   "display_name": "Python 3",
   "language": "python",
   "name": "python3"
  },
  "language_info": {
   "codemirror_mode": {
    "name": "ipython",
    "version": 3
   },
   "file_extension": ".py",
   "mimetype": "text/x-python",
   "name": "python",
   "nbconvert_exporter": "python",
   "pygments_lexer": "ipython3",
   "version": "3.5.2"
  }
 },
 "nbformat": 4,
 "nbformat_minor": 2
}
