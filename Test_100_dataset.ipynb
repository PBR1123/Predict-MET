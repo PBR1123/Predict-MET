{
 "cells": [
  {
   "cell_type": "markdown",
   "metadata": {},
   "source": [
    "# Setup"
   ]
  },
  {
   "cell_type": "code",
   "execution_count": 2,
   "metadata": {},
   "outputs": [],
   "source": [
    "# To support both python 2 and python 3\n",
    "from __future__ import division, print_function, unicode_literals\n",
    "\n",
    "# Common imports\n",
    "import numpy as np\n",
    "import os\n",
    "\n",
    "# to make this notebook's output stable across runs\n",
    "np.random.seed(42)\n",
    "\n",
    "# To plot pretty figures\n",
    "%matplotlib inline\n",
    "import matplotlib\n",
    "import matplotlib.pyplot as plt\n",
    "plt.rcParams['axes.labelsize'] = 14\n",
    "plt.rcParams['xtick.labelsize'] = 12\n",
    "plt.rcParams['ytick.labelsize'] = 12\n",
    "\n",
    "# Where to save the figures\n",
    "PROJECT_ROOT_DIR = \".\"\n",
    "CHAPTER_ID = \"training_linear_models\"\n",
    "\n",
    "def save_fig(fig_id, tight_layout=True):\n",
    "    path = os.path.join(PROJECT_ROOT_DIR, \"images\", CHAPTER_ID, fig_id + \".png\")\n",
    "    print(\"Saving figure\", fig_id)\n",
    "    if tight_layout:\n",
    "        plt.tight_layout()\n",
    "    plt.savefig(path, format='png', dpi=300)\n"
   ]
  },
  {
   "cell_type": "markdown",
   "metadata": {},
   "source": [
    "## Data 구조 처리\n",
    "학습용으로 사용하기 위한 이미지 데이터와 좌푯값 전처리 코드.\n",
    "\n",
    "CSV 구성 형식\n",
    "- 이미지 경로 , 관절좌표1, 관절좌표2, ... , 관절좌표14, MET Score\n",
    "\n",
    "처리 형식\n",
    "- 전체 데이터세트 이미지 최대 크기와 평균 크기 측정 -> 이미지 크기 조정\n",
    "  크기 조정 비율에 따른 좌표값 재처리\n"
   ]
  },
  {
   "cell_type": "code",
   "execution_count": 2,
   "metadata": {},
   "outputs": [],
   "source": [
    "import numpy as np # Numpy 배열 사용용도\n",
    "import matplotlib.pyplot as plt # 이미지출력 용도\n",
    "import pandas as pd # csv 파일을 pandas 프레임으로 호출 용도\n",
    "import skimage\n",
    "from skimage import io, transform # 이미지 불러오기 및 저장용도\n",
    "\n",
    "# 주피터 노트북 상에 이미지를 출력하도록 설정\n",
    "%matplotlib inline"
   ]
  },
  {
   "cell_type": "code",
   "execution_count": 3,
   "metadata": {},
   "outputs": [
    {
     "data": {
      "text/plain": [
       "array([['/var/data/MET/images/walking/20.bmp', '[17, 146]', '[23, 115]',\n",
       "        ..., '[40, 39]', '[35, 17]', 0.7],\n",
       "       ['/var/data/MET/images/walking/19.bmp', '[22, 129]', '[12, 116]',\n",
       "        ..., '[21, 38]', '[14, 16]', 0.7],\n",
       "       ['/var/data/MET/images/walking/18.bmp', '[23, 153]', '[21, 129]',\n",
       "        ..., '[23, 41]', '[20, 21]', 0.7],\n",
       "       ..., \n",
       "       [ '/var/data/MET/images/miscellaneous occupational activity/machine work.sawing/18.jpg',\n",
       "        '[-1, -1]', '[-1, -1]', ..., '[175, 61]', '[192, 1]', 1.8],\n",
       "       [ '/var/data/MET/images/miscellaneous occupational activity/machine work.sawing/19.jpg',\n",
       "        '[-1, -1]', '[98, 170]', ..., '[172, 59]', '[201, 8]', 1.8],\n",
       "       [ '/var/data/MET/images/miscellaneous occupational activity/machine work.sawing/20.jpg',\n",
       "        '[-1, -1]', '[-1, -1]', ..., '[194, 55]', '[185, 8]', 1.8]], dtype=object)"
      ]
     },
     "execution_count": 3,
     "metadata": {},
     "output_type": "execute_result"
    }
   ],
   "source": [
    "# dataset CSV 파일을 불러와 pandas 프레임으로 저장한 뒤에 Numpy형식의 행렬로 변환하여 testset 변수에 저장\n",
    "testset=pd.read_csv(\"/var/data/MET/dataset.csv\",header=None).as_matrix()\n",
    "\n",
    "testset"
   ]
  },
  {
   "cell_type": "code",
   "execution_count": 18,
   "metadata": {},
   "outputs": [
    {
     "name": "stdout",
     "output_type": "stream",
     "text": [
      "221.51 243.43 769 834\n"
     ]
    }
   ],
   "source": [
    "# 변수 초기화.\n",
    "# 모든 x축 크기 총합, 모든 y축 크기 총합, 최대 x축 크기, 최대 y축 크기\n",
    "allsum_x=allsum_y=max_x=max_y=0\n",
    "\n",
    "for i in range(len(testset)): # testset 길이만큼 반복 // len(testset) = 100개 데이터\n",
    "    img=skimage.io.imread(testset[i][0]) # 이미지 불러오기 (이미지 저장위치 불러오기)\n",
    "    # img.shape의 구조는 \"행렬의 rows, columns, channels의 갯수\"\n",
    "    \n",
    "    if max_x<img.shape[0]: max_x=img.shape[0] # 최대 x축 길이값 저장\n",
    "    if max_y<img.shape[1]: max_y=img.shape[1] # 최대 y축 길이값 저장\n",
    "    allsum_x+=img.shape[0] # 모든 이미지의 x축 크기 총합\n",
    "    allsum_y+=img.shape[1] # 모든 이미지의 y축 크기 총합\n",
    "avg_x=allsum_x/len(testset) # 전체 이미지의 x축 크기 평균\n",
    "avg_y=allsum_y/len(testset) # 전체 이미지의 y축 크기 평균\n",
    "print (avg_x,avg_y,max_x,max_y) # x축 크기 평균, y축 크기 평균, 최대 x축 크기, 최대 y축 크기 출력\n"
   ]
  },
  {
   "cell_type": "markdown",
   "metadata": {},
   "source": [
    "평균 : (x,y) =(221.51, 243.43)\n",
    "\n",
    "이미지 크기를 256 x 256 으로 조정"
   ]
  },
  {
   "cell_type": "code",
   "execution_count": 16,
   "metadata": {},
   "outputs": [],
   "source": [
    "# 문자열의 좌표값을 정수형 좌표값으로 변환하는 함수\n",
    "def convert_str_to_int(coors):\n",
    "    coor=np.zeros([len(coors),14,2],dtype=int) # 변환한 좌표를 저장하기 위한 배열 초기화\n",
    "    for i in range(len(coors)): # 주어진 갯수 만큼 반복\n",
    "        for j in range(14): # 좌표 개수 만큼 반복\n",
    "            a=0 # 컴마 위치 확인용\n",
    "            # \",\" 위치 체크\n",
    "            while True: # 무한 반복문\n",
    "                if coors[i][j+1][a]==\",\" : break # 해당 문자가 컴마면 무한 반복문 탈출\n",
    "                else : a+=1 # 컴마가 아니면 다음 문자로 넘어감\n",
    "            # ,를 기준으로 각각의 좌표 x y를 나누어 int로 형변환 하여 저장\n",
    "            coor[i][j]=int(coors[i][j+1][1:a]),int(coors[i][j+1][a+1:-1])\n",
    "    # 이렇게 반복하여 추출한 좌표값을 반환\n",
    "    return coor\n"
   ]
  },
  {
   "cell_type": "code",
   "execution_count": 32,
   "metadata": {},
   "outputs": [
    {
     "name": "stdout",
     "output_type": "stream",
     "text": [
      "(173, 60, 3)\n",
      "(100, 14, 2)\n",
      "[ 17 146]\n",
      "[ 23 115]\n",
      "72.5333333333\n"
     ]
    }
   ],
   "source": [
    "img=skimage.io.imread(testset[1][0])\n",
    "print(img.shape)\n",
    "coor_set=convert_str_to_int(testset)\n",
    "print(coor_set.shape)\n",
    "print(coor_set[0][0])\n",
    "print(coor_set[0][1])\n",
    "print(coor_set[0][0][0]*(256/img.shape[1]))"
   ]
  },
  {
   "cell_type": "code",
   "execution_count": 17,
   "metadata": {},
   "outputs": [],
   "source": [
    "def Preprocess(dataset):\n",
    "    img_set=np.zeros([len(dataset),256,256,3]) \n",
    "    # 이미지를 저장해두기 위한 텐서 배열 초기화 - 이미지 갯수 / x크기 / y크기 / RGB\n",
    "    \n",
    "    coor_set=convert_str_to_int(dataset) \n",
    "    # 문자열의 좌표값을 정수형 좌표값으로 변환하여 저장\n",
    "    \n",
    "    for i in range(len(dataset)): # 주어진 데이터 갯수만큼 반복\n",
    "        img=skimage.io.imread(dataset[i][0]) # 이미지 불러오기\n",
    "        \n",
    "        img_set[i]=skimage.transform.resize(img,(256,256)) \n",
    "        # 이미지 크기를 재조정 하여 저장\n",
    "        \n",
    "        #이미지 크기 변환을 하였으므로 그에 걸맞게 좌표 위치또한 재조정\n",
    "        for j in range(14): #주어진 좌표 개수 만큼 반복\n",
    "            if coor_set[i][j][0]==-1: coor_set[i][j][0]=-1 \n",
    "                # x 좌표 값이 -1 이면 조정을 해주지 않음\n",
    "            else: coor_set[i][j][0]=coor_set[i][j][0]*(256/img.shape[1]) \n",
    "                # x축 크기의 변환된 비율 만큼 곱해 Scaling \n",
    "            if coor_set[i][j][1]==-1: coor_set[i][j][1]=-1 # y 좌표 값이 -1 이면 조정을 해주지 않음\n",
    "            else: coor_set[i][j][1]=coor_set[i][j][1]*(256/img.shape[0]) # y축 크기의 변환된 비율 만큼 곱해 Scaling \n",
    "    \n",
    "    # 이렇게 변환한 이미지 세트와 좌표 세트를 반환\n",
    "    return img_set, coor_set"
   ]
  },
  {
   "cell_type": "code",
   "execution_count": 33,
   "metadata": {},
   "outputs": [
    {
     "name": "stderr",
     "output_type": "stream",
     "text": [
      "/home/ejjchl77/eunjivenv/lib/python3.5/site-packages/skimage/transform/_warps.py:84: UserWarning: The default mode, 'constant', will be changed to 'reflect' in skimage 0.15.\n",
      "  warn(\"The default mode, 'constant', will be changed to 'reflect' in \"\n"
     ]
    }
   ],
   "source": [
    "# 전처리 함수의 입력으로 불러온 CSV 파일을 저장한 testset 변수로 입력.\n",
    "# 변환된 이미지 세트와 좌표 세트를 각각 picpic과 coco에다 저장해줌.\n",
    "picpic,coco=Preprocess(testset)"
   ]
  },
  {
   "cell_type": "code",
   "execution_count": 34,
   "metadata": {},
   "outputs": [
    {
     "name": "stdout",
     "output_type": "stream",
     "text": [
      "(100, 256, 256, 3) (100, 14, 2)\n"
     ]
    }
   ],
   "source": [
    "# 각 세트의 크기 확인\n",
    "print (picpic.shape,coco.shape)"
   ]
  },
  {
   "cell_type": "code",
   "execution_count": 39,
   "metadata": {},
   "outputs": [],
   "source": [
    "# 이미지와 좌표를 받아와서 이미에 해당 좌표를 입력\n",
    "# 잘 변환이 되었는지 확인하는 용도\n",
    "\n",
    "import cv2 # 그림에 숫자 넣기\n",
    "from skimage import draw # 그림에 원 그리기\n",
    "\n",
    "def markJoints(img, joints):  \n",
    "    circSize=5 # 그려질 원의 크기\n",
    "    font = cv2.FONT_HERSHEY_SIMPLEX # 글씨체 설정\n",
    "    for i in range(14):\n",
    "        x = int(joints[i,0]) # X 좌표\n",
    "        y = int(joints[i,1]) # Y 좌표\n",
    "        if x!=-1: # 그림에서 보이지 않는 좌표는 찍지 않도록\n",
    "            rr, cc = skimage.draw.circle(y, x, circSize) # 원 그리기\n",
    "            skimage.draw.set_color(img, (rr, cc), (1,0,0)) # 색 설정\n",
    "            cv2.putText(img, str(i+1), (x,y), font, 0.5, (0.5,0.5,0.5), 2, cv2.LINE_AA) # 그림 ㄱ\n",
    "    return img\n"
   ]
  },
  {
   "cell_type": "code",
   "execution_count": 40,
   "metadata": {},
   "outputs": [
    {
     "name": "stdout",
     "output_type": "stream",
     "text": [
      "mkdir: cannot create directory ‘p_img’: File exists\r\n",
      "mkdir: cannot create directory ‘p_with_coors_img’: File exists\r\n"
     ]
    },
    {
     "name": "stderr",
     "output_type": "stream",
     "text": [
      "/home/ejjchl77/eunjivenv/lib/python3.5/site-packages/skimage/util/dtype.py:122: UserWarning: Possible precision loss when converting from float64 to uint8\n",
      "  .format(dtypeobj_in, dtypeobj_out))\n"
     ]
    }
   ],
   "source": [
    "# 전처리된 이미지 저장\n",
    "%mkdir p_img p_with_coors_img # 현재 디렉토리에 처리된 이미지와 좌표를 찍은 이미지들을 저장할 디렉토리 생성\n",
    "for i in range(len(picpic)):\n",
    "    skimage.io.imsave(\"./p_img/p-img_\"+str(i)+\".jpg\",picpic[i]) # 처리된 이미지 저장\n",
    "    skimage.io.imsave(\"./p_with_coors_img/p-img_\"+str(i)+\".jpg\",markJoints(picpic[i],coco[i])) # 좌표 입력 이미지 저장"
   ]
  },
  {
   "cell_type": "code",
   "execution_count": null,
   "metadata": {},
   "outputs": [],
   "source": []
  }
 ],
 "metadata": {
  "kernelspec": {
   "display_name": "Python 3",
   "language": "python",
   "name": "python3"
  },
  "language_info": {
   "codemirror_mode": {
    "name": "ipython",
    "version": 3
   },
   "file_extension": ".py",
   "mimetype": "text/x-python",
   "name": "python",
   "nbconvert_exporter": "python",
   "pygments_lexer": "ipython3",
   "version": "3.5.2"
  }
 },
 "nbformat": 4,
 "nbformat_minor": 2
}
